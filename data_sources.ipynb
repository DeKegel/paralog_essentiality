{
 "cells": [
  {
   "cell_type": "markdown",
   "metadata": {},
   "source": [
    "## 3rd party data files\n",
    "For Post-CERES notebooks only (1_data_processing and 2_data_analysis)"
   ]
  },
  {
   "cell_type": "markdown",
   "metadata": {},
   "source": [
    "### CORUM\n",
    "\n",
    "CORUM\\allComplexes.txt\n",
    "- File: http://mips.helmholtz-muenchen.de/corum/download/allComplexes.txt.zip\n",
    "- 03.09.2018 Corum 3.0 current release"
   ]
  },
  {
   "cell_type": "markdown",
   "metadata": {},
   "source": [
    "### Ensembl Biomart (v. 93)\n",
    "\n",
    "Ensembl release 93: http://jul2018.archive.ensembl.org/index.html\n",
    "\n",
    "For all Biomart queries below:\n",
    "* Dataset: Human genes (GRCh38.p12)\n",
    "\n",
    "ensembl/93/paralog_pairs.txt\n",
    "\n",
    "* URL: http://jul2018.archive.ensembl.org/biomart/martview/49a2af692ef704d6bd5e2c15c1d7d171?VIRTUALSCHEMANAME=default&ATTRIBUTES=hsapiens_gene_ensembl.default.homologs.ensembl_gene_id|hsapiens_gene_ensembl.default.homologs.hsapiens_paralog_ensembl_gene|hsapiens_gene_ensembl.default.homologs.hsapiens_paralog_perc_id|hsapiens_gene_ensembl.default.homologs.hsapiens_paralog_perc_id_r1&FILTERS=&VISIBLEPANEL=resultspanel\n",
    " \n",
    "* Attributes:\n",
    "    * Gene stable ID\n",
    "    * Human paralogue gene stable ID\n",
    "    * Paralogue %id. target Human gene identical to query gene\n",
    "    * Paralogue last common ancestor with Human"
   ]
  },
  {
   "cell_type": "markdown",
   "metadata": {},
   "source": [
    "### HGNC\n",
    "\n",
    "*HGNC\\non_alt_loci_set_01_02_19.txt*\n",
    "- Downloaded from https://www.genenames.org/download/statistics-and-files/ on 01/02/19 (not versioned)"
   ]
  },
  {
   "cell_type": "markdown",
   "metadata": {},
   "source": [
    "### WGD sources\n",
    "\n",
    "WGD_sources\\singh_2015\\Pairs_HUMAN_Strict.txt\n",
    "    \n",
    "- Using version 1 of strict pairs from Ohnologs DB: http://ohnologs.curie.fr/\n",
    "- Files for version 1: http://ohnologs.curie.fr/cgi-bin/DownloadV1Ohno.cgi\n",
    "- Paper: https://journals.plos.org/ploscompbiol/article?id=10.1371/journal.pcbi.1004394\n",
    "\n",
    "WGD_sources\\makino_2010_ohnologs.xls\n",
    "- Table S7 from Makino and McLysaght (2010) - https://www.pnas.org/content/107/20/9270\n",
    "- File: http://www.pnas.org/lookup/suppl/doi:10.1073/pnas.0914697107/-/DCSupplemental/st01.xls"
   ]
  },
  {
   "cell_type": "markdown",
   "metadata": {},
   "source": [
    "### DEPMAP (19Q1)\n",
    "Files from DepMap Public 19Q1: https://depmap.org/portal/download/\n",
    "\n",
    "*depmap\\19Q1\\CCLE_depMap_19Q1_TPM.csv*\n",
    "- File: https://depmap.org/portal/download/api/download?file_name=ccle%2Fdepmap-rnaseq-expression-data-ccd0.12%2FCCLE_depMap_19Q1_TPM.csv&bucket=depmap-external-downloads-"
   ]
  },
  {
   "cell_type": "code",
   "execution_count": null,
   "metadata": {},
   "outputs": [],
   "source": []
  },
  {
   "cell_type": "code",
   "execution_count": null,
   "metadata": {},
   "outputs": [],
   "source": []
  },
  {
   "cell_type": "markdown",
   "metadata": {},
   "source": [
    "### DEPMAP (19Q1)\n",
    "Files from DepMap Public 19Q1: https://depmap.org/portal/download/\n",
    "\n",
    "*depmap\\19Q1\\logfold_change.csv*\n",
    "- File: https://ndownloader.figshare.com/files/14225294\n",
    "\n",
    "*depmap\\19Q1\\replicate_map.csv*\n",
    "- File: https://ndownloader.figshare.com/files/14221412\n",
    "\n",
    "*depmap\\19Q1\\copy_number.csv*\n",
    "- File: https://ndownloader.figshare.com/files/14221364\n",
    "\n",
    "*depmap\\19Q1\\guide_gene_map.csv*\n",
    "- File: https://ndownloader.figshare.com/files/14221394\n",
    "\n",
    "*depmap\\19Q1\\essential_genes.txt*\n",
    "- File: https://ndownloader.figshare.com/files/14221367\n",
    "\n",
    "*depmap\\19Q1\\nonessential_genes.txt*\n",
    "- File: https://ndownloader.figshare.com/files/14221397\n",
    "\n",
    "*depmap\\19Q1\\gene_effect.csv*\n",
    "- File: https://ndownloader.figshare.com/files/14221388"
   ]
  }
 ],
 "metadata": {
  "kernelspec": {
   "display_name": "Python 3.6.5 64-bit ('paralogEssential': conda)",
   "language": "python",
   "name": "python36564bitparalogessentialconda75906716dc9144fe8daa71c4b9fe77f3"
  },
  "language_info": {
   "codemirror_mode": {
    "name": "ipython",
    "version": 3
   },
   "file_extension": ".py",
   "mimetype": "text/x-python",
   "name": "python",
   "nbconvert_exporter": "python",
   "pygments_lexer": "ipython3",
   "version": "3.6.5"
  }
 },
 "nbformat": 4,
 "nbformat_minor": 4
}
