{
 "cells": [
  {
   "cell_type": "markdown",
   "metadata": {},
   "source": [
    "## Features of putative synthetic lethal paralog pairs\n",
    "\n",
    "**Input:** putative synthetic lethal pairs annotated among closest/all paralog pairs (results from nb 5)"
   ]
  },
  {
   "cell_type": "code",
   "execution_count": 4,
   "metadata": {
    "tags": []
   },
   "outputs": [
    {
     "name": "stdout",
     "output_type": "stream",
     "text": [
      "The autoreload extension is already loaded. To reload it, use:\n",
      "  %reload_ext autoreload\n"
     ]
    }
   ],
   "source": [
    "import pandas as pd\n",
    "import numpy as np\n",
    "import scipy.stats as stats\n",
    "from statsmodels.stats.multitest import fdrcorrection\n",
    "import os\n",
    "import re\n",
    "import seaborn as sns\n",
    "import matplotlib as mpl\n",
    "import matplotlib.pyplot as plt\n",
    "\n",
    "%load_ext autoreload\n",
    "%autoreload 1\n",
    "from graphing_utils import *\n",
    "%aimport graphing_utils\n",
    "\n",
    "get_local_data_path = lambda folders, fname: os.path.normpath('../data/'+'/'.join(folders) +'/'+fname)\n",
    "\n",
    "file_results_closest = get_local_data_path(['processed', 'results'], 'closest_paralog_pairs_17_07_19.csv')\n",
    "file_results_all = get_local_data_path(['processed', 'results'], 'all_paralog_pairs_17_07_19.csv')\n",
    "file_all_pairs = get_local_data_path(['processed', 'ensembl93'], 'all_pairs.csv')"
   ]
  },
  {
   "cell_type": "markdown",
   "metadata": {},
   "source": [
    "### Results from Notebook 5"
   ]
  },
  {
   "cell_type": "code",
   "execution_count": 2,
   "metadata": {
    "tags": []
   },
   "outputs": [
    {
     "name": "stdout",
     "output_type": "stream",
     "text": [
      "Num A1 SLs: 238 / 1819\n"
     ]
    },
    {
     "data": {
      "text/html": [
       "<div>\n",
       "<style scoped>\n",
       "    .dataframe tbody tr th:only-of-type {\n",
       "        vertical-align: middle;\n",
       "    }\n",
       "\n",
       "    .dataframe tbody tr th {\n",
       "        vertical-align: top;\n",
       "    }\n",
       "\n",
       "    .dataframe thead th {\n",
       "        text-align: right;\n",
       "    }\n",
       "</style>\n",
       "<table border=\"1\" class=\"dataframe\">\n",
       "  <thead>\n",
       "    <tr style=\"text-align: right;\">\n",
       "      <th></th>\n",
       "      <th>A1</th>\n",
       "      <th>A2</th>\n",
       "      <th>ttest_p</th>\n",
       "      <th>A2_expr_A1_NE</th>\n",
       "      <th>A2_expr_A1_E</th>\n",
       "      <th>ttest_p_correct</th>\n",
       "      <th>SL</th>\n",
       "      <th>percent_matched_in_paralog</th>\n",
       "      <th>WGD</th>\n",
       "      <th>either_in_complex</th>\n",
       "      <th>in_same_complex</th>\n",
       "      <th>A1_ensembl</th>\n",
       "      <th>A2_ensembl</th>\n",
       "      <th>A1_entrez</th>\n",
       "      <th>A2_entrez</th>\n",
       "    </tr>\n",
       "  </thead>\n",
       "  <tbody>\n",
       "    <tr>\n",
       "      <th>0</th>\n",
       "      <td>TEKT2</td>\n",
       "      <td>TEKT1</td>\n",
       "      <td>0.804338</td>\n",
       "      <td>0.038786</td>\n",
       "      <td>0.033592</td>\n",
       "      <td>0.934903</td>\n",
       "      <td>False</td>\n",
       "      <td>0.311628</td>\n",
       "      <td>WGD</td>\n",
       "      <td>False</td>\n",
       "      <td>False</td>\n",
       "      <td>ENSG00000092850</td>\n",
       "      <td>ENSG00000167858</td>\n",
       "      <td>27285</td>\n",
       "      <td>83659</td>\n",
       "    </tr>\n",
       "  </tbody>\n",
       "</table>\n",
       "</div>"
      ],
      "text/plain": [
       "      A1     A2   ttest_p  A2_expr_A1_NE  A2_expr_A1_E  ttest_p_correct  \\\n",
       "0  TEKT2  TEKT1  0.804338       0.038786      0.033592         0.934903   \n",
       "\n",
       "      SL  percent_matched_in_paralog  WGD  either_in_complex  in_same_complex  \\\n",
       "0  False                    0.311628  WGD              False            False   \n",
       "\n",
       "        A1_ensembl       A2_ensembl  A1_entrez  A2_entrez  \n",
       "0  ENSG00000092850  ENSG00000167858      27285      83659  "
      ]
     },
     "execution_count": 2,
     "metadata": {},
     "output_type": "execute_result"
    }
   ],
   "source": [
    "# Gene with closest (most sequence similar) paralog\n",
    "results_closest_pairs = pd.read_csv(file_results_closest)\n",
    "print('Num A1 SLs:', results_closest_pairs[results_closest_pairs.SL].A1.nunique(),'/', results_closest_pairs.A1.nunique())\n",
    "results_closest_pairs[:1]"
   ]
  },
  {
   "cell_type": "code",
   "execution_count": 3,
   "metadata": {
    "tags": []
   },
   "outputs": [
    {
     "name": "stdout",
     "output_type": "stream",
     "text": [
      "Num A1 SLs: 302 / 1829\n"
     ]
    },
    {
     "data": {
      "text/html": [
       "<div>\n",
       "<style scoped>\n",
       "    .dataframe tbody tr th:only-of-type {\n",
       "        vertical-align: middle;\n",
       "    }\n",
       "\n",
       "    .dataframe tbody tr th {\n",
       "        vertical-align: top;\n",
       "    }\n",
       "\n",
       "    .dataframe thead th {\n",
       "        text-align: right;\n",
       "    }\n",
       "</style>\n",
       "<table border=\"1\" class=\"dataframe\">\n",
       "  <thead>\n",
       "    <tr style=\"text-align: right;\">\n",
       "      <th></th>\n",
       "      <th>A1</th>\n",
       "      <th>A2</th>\n",
       "      <th>ttest_p</th>\n",
       "      <th>A2_expr_A1_NE</th>\n",
       "      <th>A2_expr_A1_E</th>\n",
       "      <th>ttest_p_correct</th>\n",
       "      <th>SL</th>\n",
       "      <th>percent_matched_in_paralog</th>\n",
       "      <th>WGD</th>\n",
       "      <th>either_in_complex</th>\n",
       "      <th>in_same_complex</th>\n",
       "      <th>A1_ensembl</th>\n",
       "      <th>A2_ensembl</th>\n",
       "      <th>A1_entrez</th>\n",
       "      <th>A2_entrez</th>\n",
       "    </tr>\n",
       "  </thead>\n",
       "  <tbody>\n",
       "    <tr>\n",
       "      <th>0</th>\n",
       "      <td>TEKT2</td>\n",
       "      <td>TEKT4</td>\n",
       "      <td>0.160877</td>\n",
       "      <td>0.064105</td>\n",
       "      <td>0.023072</td>\n",
       "      <td>0.520612</td>\n",
       "      <td>False</td>\n",
       "      <td>0.293023</td>\n",
       "      <td>WGD</td>\n",
       "      <td>False</td>\n",
       "      <td>False</td>\n",
       "      <td>ENSG00000092850</td>\n",
       "      <td>ENSG00000163060</td>\n",
       "      <td>27285</td>\n",
       "      <td>150483</td>\n",
       "    </tr>\n",
       "  </tbody>\n",
       "</table>\n",
       "</div>"
      ],
      "text/plain": [
       "      A1     A2   ttest_p  A2_expr_A1_NE  A2_expr_A1_E  ttest_p_correct  \\\n",
       "0  TEKT2  TEKT4  0.160877       0.064105      0.023072         0.520612   \n",
       "\n",
       "      SL  percent_matched_in_paralog  WGD  either_in_complex  in_same_complex  \\\n",
       "0  False                    0.293023  WGD              False            False   \n",
       "\n",
       "        A1_ensembl       A2_ensembl  A1_entrez  A2_entrez  \n",
       "0  ENSG00000092850  ENSG00000163060      27285     150483  "
      ]
     },
     "execution_count": 3,
     "metadata": {},
     "output_type": "execute_result"
    }
   ],
   "source": [
    "# All paralog pairs\n",
    "results_all_pairs = pd.read_csv(file_results_all)\n",
    "print('Num A1 SLs:', results_all_pairs[results_all_pairs.SL].A1.nunique(),'/', results_all_pairs.A1.nunique())\n",
    "results_all_pairs[:1]"
   ]
  },
  {
   "cell_type": "markdown",
   "metadata": {},
   "source": [
    "### Are synthetic lethals enriched in WGDs and members of protein complexes?\n",
    "- Is there an overrepresentation of protein complex subunits?\n",
    "- How many occur between members of the same protein complex?"
   ]
  },
  {
   "cell_type": "code",
   "execution_count": 5,
   "metadata": {
    "tags": []
   },
   "outputs": [
    {
     "name": "stdout",
     "output_type": "stream",
     "text": [
      "WGDs enriched in SLs? FET:  (2.287421491705324, 7.75990926075655e-08)\n",
      "Complex members enriched in SLs? FET:  (2.296678529062871, 3.2863828427019845e-09)\n",
      "Co-complex members enriched in SLs? FET:  (2.578125, 3.3555676016977416e-05)\n"
     ]
    }
   ],
   "source": [
    "def test_duplication_mode(pairs):\n",
    "    ctab = pd.crosstab(pairs.WGD=='WGD', pairs.SL, dropna=False)\n",
    "    assert(ctab.sum().sum() == pairs.shape[0])\n",
    "    print('WGDs enriched in SLs? FET: ', stats.fisher_exact(ctab.T))\n",
    "\n",
    "def test_complex_membership(pairs):\n",
    "    ctab = pd.crosstab(pairs.either_in_complex, pairs.SL, dropna=False)\n",
    "    assert(ctab.sum().sum() == pairs.shape[0])\n",
    "    print('Complex members enriched in SLs? FET: ', stats.fisher_exact(ctab))\n",
    "    ctab = pd.crosstab(pairs.in_same_complex, pairs.SL, dropna=False)\n",
    "    print('Co-complex members enriched in SLs? FET: ', stats.fisher_exact(ctab))\n",
    "\n",
    "test_duplication_mode(results_closest_pairs)\n",
    "test_complex_membership(results_closest_pairs)"
   ]
  },
  {
   "cell_type": "code",
   "execution_count": 6,
   "metadata": {},
   "outputs": [],
   "source": [
    "def draw_duplication_mode_plot(pairs, ax, color=get_color_palette(4)):\n",
    "    ctab = pd.crosstab(pairs.WGD, pairs.SL, dropna=False)\n",
    "    ctab = ctab.apply(lambda x: x/sum(x)*100, axis=1).loc[['WGD','SSD'],True]\n",
    "    ctab.plot.bar(stacked=True, rot=0, ax=ax, color=get_color_palette(4), width=0.85)\n",
    "    ax.set_ylabel('% of tested pairs that\\n buffer each other')\n",
    "    ax.set_xlabel(''); ax.xaxis.set_tick_params(labelsize=mpl.rcParams['axes.labelsize'])\n",
    "    ax.grid(axis='y')\n",
    "\n",
    "def draw_complex_membership_plot(pairs, ax, color='silver'):\n",
    "    ctab = pd.crosstab(pairs.either_in_complex, pairs.SL, dropna=False)\n",
    "    ctab = ctab.apply(lambda x: x/sum(x)*100, axis=1).reindex(index=[True, False]).loc[:,True]\n",
    "    ctab.plot.bar(stacked=True, rot=0, ax=ax, color=color, width=0.85)\n",
    "    ax.set_xlabel('Either gene is in a\\nprotein complex')\n",
    "    ax.set_ylabel('% of tested pairs that\\n buffer each other')\n",
    "    ax.grid(axis='y')"
   ]
  },
  {
   "cell_type": "code",
   "execution_count": 15,
   "metadata": {},
   "outputs": [
    {
     "data": {
      "image/png": "[encoded data removed]",
      "text/plain": [
       "<Figure size 360x180 with 2 Axes>"
      ]
     },
     "metadata": {
      "needs_background": "light"
     },
     "output_type": "display_data"
    }
   ],
   "source": [
    "f, ax = plt.subplots(1, 2, figsize=(5, 2.5), sharey=True)\n",
    "draw_duplication_mode_plot(results_closest_pairs, ax[0])\n",
    "draw_complex_membership_plot(results_closest_pairs, ax[1])\n",
    "\n",
    "ax[0].set_title('All pairs', fontsize=12)\n",
    "ax[1].set_title('All pairs', fontsize=12)\n",
    "\n",
    "#plt.savefig('../figures/fig_6AB.svg', bbox_inches='tight', dpi=300)"
   ]
  },
  {
   "cell_type": "code",
   "execution_count": 21,
   "metadata": {},
   "outputs": [
    {
     "data": {
      "image/png": "[encoded data removed]",
      "text/plain": [
       "<Figure size 360x180 with 2 Axes>"
      ]
     },
     "metadata": {
      "needs_background": "light"
     },
     "output_type": "display_data"
    }
   ],
   "source": [
    "# Repeat for all paralog pairs results\n",
    "f, ax = plt.subplots(1, 2, figsize=(5, 2.5), sharey=True)\n",
    "draw_duplication_mode_plot(results_all_pairs, ax[0])\n",
    "draw_complex_membership_plot(results_all_pairs, ax[1])\n",
    "\n",
    "#plt.savefig('../figures/fig_S2CD.svg', bbox_inches='tight', dpi=300)"
   ]
  },
  {
   "cell_type": "markdown",
   "metadata": {},
   "source": [
    "### Are WGD and protein complex membership independently predictive?\n",
    "* When only analysing WGD pairs, are the SL pairs still more likely to be members of protein complexes?\n",
    "* When only analysing protein complex members, are the WGD pairs still enriched in SLs?"
   ]
  },
  {
   "cell_type": "code",
   "execution_count": 10,
   "metadata": {
    "tags": []
   },
   "outputs": [
    {
     "name": "stdout",
     "output_type": "stream",
     "text": [
      "Are WGDs enriched in protein complex membership? FET:  (2.3009061462886513, 2.1174067388525578e-271)\n",
      "Are WGDs enriched in same protein complex membership? FET:  (5.024161884627001, 3.820869760395656e-92)\n"
     ]
    },
    {
     "data": {
      "image/png": "[encoded data removed]",
      "text/plain": [
       "<Figure size 180x180 with 1 Axes>"
      ]
     },
     "metadata": {
      "needs_background": "light"
     },
     "output_type": "display_data"
    }
   ],
   "source": [
    "# First check WGD vs protein complex for the full set of paralog pairs\n",
    "all_pairs = pd.read_csv(file_all_pairs, index_col=0)\n",
    "ctab = pd.crosstab(all_pairs.WGD, all_pairs.either_in_complex, dropna=False)\n",
    "print('Are WGDs enriched in protein complex membership? FET: ', stats.fisher_exact(ctab))\n",
    "ctab = ctab.apply(lambda x: x/sum(x)*100, axis=1).loc[['WGD', 'SSD'],True]\n",
    "print('Are WGDs enriched in same protein complex membership? FET: ', \n",
    "      stats.fisher_exact(pd.crosstab(all_pairs.WGD, all_pairs.in_same_complex)))\n",
    "\n",
    "f, ax = plt.subplots(1, 1, figsize=(2.5, 2.5), sharey=True)\n",
    "ctab.plot.bar(stacked=True, rot=0, width=0.85, ax=ax, color=get_color_palette(4))\n",
    "ax.set_ylabel('% of paralog pairs\\nin any complex')\n",
    "ax.set_xlabel(''); ax.xaxis.set_tick_params(labelsize=mpl.rcParams['axes.labelsize'])\n",
    "ax.grid(axis='y')\n",
    "\n",
    "#plt.savefig('../figures/fig_S2A.svg',  bbox_inches='tight', dpi=300)"
   ]
  },
  {
   "cell_type": "code",
   "execution_count": 16,
   "metadata": {},
   "outputs": [
    {
     "data": {
      "image/png": "[encoded data removed]",
      "text/plain": [
       "<Figure size 360x180 with 2 Axes>"
      ]
     },
     "metadata": {
      "needs_background": "light"
     },
     "output_type": "display_data"
    }
   ],
   "source": [
    "f, ax = plt.subplots(1, 2, figsize=(5, 2.5), sharey=True)\n",
    "draw_complex_membership_plot(results_closest_pairs[results_closest_pairs.WGD=='WGD'], ax[0], color=get_color_palette(6))\n",
    "draw_duplication_mode_plot(results_closest_pairs[results_closest_pairs.either_in_complex], ax[1])\n",
    "ax[0].set_title('WGD pairs')\n",
    "ax[1].set_title('Protein complex pairs', fontsize=12)\n",
    "\n",
    "#plt.savefig('../figures/fig_6CD.svg',  bbox_inches='tight', dpi=300)"
   ]
  },
  {
   "cell_type": "markdown",
   "metadata": {},
   "source": [
    "### Check pairs w/ significant difference in expression in the opposite direction\n",
    "Is there an enrichment for WGD / complex membership among signif pairs that have higher A2 expression when A1 is essential?"
   ]
  },
  {
   "cell_type": "code",
   "execution_count": 17,
   "metadata": {
    "tags": []
   },
   "outputs": [
    {
     "name": "stdout",
     "output_type": "stream",
     "text": [
      "Num closest pairs w/ A1 E expr > A2 NE expr: 92\n",
      "WGDs enriched in these pairs? (0.6385199240986718, 0.03779643404114937)\n",
      "Complex members enriched in these pairs? (1.0418382831129416, 0.9123879261436421)\n"
     ]
    }
   ],
   "source": [
    "# Check pairs that have A2 expr A1 E > A2 expr A1 NE\n",
    "df = results_closest_pairs.assign(signif =((results_closest_pairs.ttest_p_correct < 0.1) & \n",
    "                                           (results_closest_pairs.A2_expr_A1_E > results_closest_pairs.A2_expr_A1_NE)))\n",
    "print('Num closest pairs w/ A1 E expr > A2 NE expr:', df[df.signif==True].shape[0])\n",
    "\n",
    "ctab = pd.crosstab(df.WGD, df.signif, dropna=False)\n",
    "print('WGDs enriched in these pairs?', stats.fisher_exact(ctab))\n",
    "\n",
    "ctab = pd.crosstab(df.signif, df.either_in_complex, dropna=False)\n",
    "print('Complex members enriched in these pairs?', stats.fisher_exact(ctab))"
   ]
  },
  {
   "cell_type": "markdown",
   "metadata": {},
   "source": [
    "### Are sequence similar pairs enriched in synthetic lethals? "
   ]
  },
  {
   "cell_type": "code",
   "execution_count": 19,
   "metadata": {
    "tags": []
   },
   "outputs": [
    {
     "name": "stdout",
     "output_type": "stream",
     "text": [
      "All tested pairs  t-test p-value:  3.619211067559376e-17\n",
      "WGD tested pairs  t-test p-value:  5.83389272423144e-10\n",
      "SSD tested pairs  t-test p-value:  7.050074619329103e-06\n",
      "Tested pairs\n",
      "in a complex  t-test p-value:  1.0453918256930673e-10\n"
     ]
    },
    {
     "data": {
      "image/png": "[encoded data removed]",
      "text/plain": [
       "<Figure size 720x180 with 4 Axes>"
      ]
     },
     "metadata": {
      "needs_background": "light"
     },
     "output_type": "display_data"
    }
   ],
   "source": [
    "def graph_seq_id_boxplot(pairs, ax, title, color, show_y=False):\n",
    "    df = pairs.assign(percent_matched_in_paralog = pairs.percent_matched_in_paralog * 100)\n",
    "    sns.boxplot(y=\"percent_matched_in_paralog\", x=\"SL\", data=df, color=color, ax=ax, saturation=1, linewidth=1.2, \n",
    "                order = [True, False], showfliers=False)\n",
    "    ax.set_xlabel('Putative synthetic\\nlethal')\n",
    "    ax.set_ylabel('% protein sequence shared\\nby pair members')\n",
    "    ax.set_title(title)\n",
    "    if show_y == False:\n",
    "        ax.get_yaxis().set_visible(False); ax.spines['left'].set_visible(False)\n",
    "    print(title, ' t-test p-value: ', stats.ttest_ind(df[df.SL == True].percent_matched_in_paralog, \n",
    "                                                      df[df.SL == False].percent_matched_in_paralog)[1])\n",
    "\n",
    "f, ax = plt.subplots(1, 4, figsize=(10, 2.5), sharey=True)\n",
    "palette = get_color_palette(5)\n",
    "graph_seq_id_boxplot(results_closest_pairs, ax[0],  'All tested pairs', 'darkgray', show_y=True)\n",
    "graph_seq_id_boxplot(results_closest_pairs[results_closest_pairs.WGD=='WGD'], ax[1], 'WGD tested pairs', palette[1])\n",
    "graph_seq_id_boxplot(results_closest_pairs[results_closest_pairs.WGD=='SSD'], ax[2], 'SSD tested pairs', palette[0])\n",
    "graph_seq_id_boxplot(results_closest_pairs[results_closest_pairs.either_in_complex], ax[3], \n",
    "                     'Tested pairs\\nin a complex', 'silver')\n",
    "plt.savefig('../figures/fig_6E.svg',  bbox_inches='tight', dpi=300)"
   ]
  }
 ],
 "metadata": {
  "kernelspec": {
   "display_name": "Python 3",
   "language": "python",
   "name": "python3"
  },
  "language_info": {
   "codemirror_mode": {
    "name": "ipython",
    "version": 3
   },
   "file_extension": ".py",
   "mimetype": "text/x-python",
   "name": "python",
   "nbconvert_exporter": "python",
   "pygments_lexer": "ipython3",
   "version": "3.7.6"
  }
 },
 "nbformat": 4,
 "nbformat_minor": 2
}
