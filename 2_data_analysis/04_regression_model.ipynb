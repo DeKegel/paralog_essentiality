{
 "cells": [
  {
   "cell_type": "markdown",
   "metadata": {},
   "source": [
    "## Logisitic regression models for paralog features\n",
    "\n",
    "**Input:** Gene summary file"
   ]
  },
  {
   "cell_type": "code",
   "execution_count": 1,
   "metadata": {},
   "outputs": [],
   "source": [
    "import pandas as pd\n",
    "import numpy as np\n",
    "import os\n",
    "import statsmodels.api as sm\n",
    "import statsmodels.formula.api as smf\n",
    "from patsy import dmatrices\n",
    "from scipy import stats\n",
    "\n",
    "get_local_data_path = lambda folders, fname: os.path.normpath('../data/'+'/'.join(folders) +'/'+fname)\n",
    "\n",
    "file_gene_summary = get_local_data_path(['processed','results'], 'gene_summary_0.47.csv')"
   ]
  },
  {
   "cell_type": "code",
   "execution_count": 2,
   "metadata": {
    "tags": []
   },
   "outputs": [
    {
     "name": "stdout",
     "output_type": "stream",
     "text": [
      "Num paralogs: 10130\n"
     ]
    },
    {
     "data": {
      "text/html": [
       "<div>\n",
       "<style scoped>\n",
       "    .dataframe tbody tr th:only-of-type {\n",
       "        vertical-align: middle;\n",
       "    }\n",
       "\n",
       "    .dataframe tbody tr th {\n",
       "        vertical-align: top;\n",
       "    }\n",
       "\n",
       "    .dataframe thead th {\n",
       "        text-align: right;\n",
       "    }\n",
       "</style>\n",
       "<table border=\"1\" class=\"dataframe\">\n",
       "  <thead>\n",
       "    <tr style=\"text-align: right;\">\n",
       "      <th></th>\n",
       "      <th>essential_percent</th>\n",
       "      <th>category</th>\n",
       "      <th>ensembl_id</th>\n",
       "      <th>symbol</th>\n",
       "      <th>percent_matched_in_paralog</th>\n",
       "      <th>num_paralogs</th>\n",
       "      <th>WGD</th>\n",
       "      <th>num_paralogs_binned</th>\n",
       "    </tr>\n",
       "    <tr>\n",
       "      <th>entrez_id</th>\n",
       "      <th></th>\n",
       "      <th></th>\n",
       "      <th></th>\n",
       "      <th></th>\n",
       "      <th></th>\n",
       "      <th></th>\n",
       "      <th></th>\n",
       "      <th></th>\n",
       "    </tr>\n",
       "  </thead>\n",
       "  <tbody>\n",
       "    <tr>\n",
       "      <th>8036</th>\n",
       "      <td>0.069892</td>\n",
       "      <td>1</td>\n",
       "      <td>ENSG00000108061</td>\n",
       "      <td>SHOC2</td>\n",
       "      <td>0.254296</td>\n",
       "      <td>2</td>\n",
       "      <td>SSD</td>\n",
       "      <td>2</td>\n",
       "    </tr>\n",
       "    <tr>\n",
       "      <th>25940</th>\n",
       "      <td>0.000000</td>\n",
       "      <td>0</td>\n",
       "      <td>ENSG00000119812</td>\n",
       "      <td>FAM98A</td>\n",
       "      <td>0.426641</td>\n",
       "      <td>2</td>\n",
       "      <td>WGD</td>\n",
       "      <td>2</td>\n",
       "    </tr>\n",
       "  </tbody>\n",
       "</table>\n",
       "</div>"
      ],
      "text/plain": [
       "           essential_percent  category       ensembl_id  symbol  \\\n",
       "entrez_id                                                         \n",
       "8036                0.069892         1  ENSG00000108061   SHOC2   \n",
       "25940               0.000000         0  ENSG00000119812  FAM98A   \n",
       "\n",
       "           percent_matched_in_paralog  num_paralogs  WGD  num_paralogs_binned  \n",
       "entrez_id                                                                      \n",
       "8036                         0.254296             2  SSD                    2  \n",
       "25940                        0.426641             2  WGD                    2  "
      ]
     },
     "execution_count": 2,
     "metadata": {},
     "output_type": "execute_result"
    }
   ],
   "source": [
    "gene_data = pd.read_csv(file_gene_summary, index_col=0)\n",
    "paralogs = gene_data[gene_data.num_paralogs > 0]\n",
    "\n",
    "# Bin num paralogs, encode WGD = 1, SSD = 0, Broadly vs. the rest for essentiality category\n",
    "paralogs = paralogs.assign(num_paralogs_binned = paralogs.num_paralogs.apply(lambda x: x if x < 4 else 4),\n",
    "                           category = paralogs.category.apply(lambda x: 1 if x=='Sometimes' else 2 if x=='Broadly' else 0))\n",
    "print('Num paralogs:', paralogs.shape[0])\n",
    "paralogs[:2]"
   ]
  },
  {
   "cell_type": "code",
   "execution_count": 3,
   "metadata": {
    "tags": []
   },
   "outputs": [
    {
     "name": "stdout",
     "output_type": "stream",
     "text": [
      "Optimization terminated successfully.\n",
      "         Current function value: 0.769568\n",
      "         Iterations 9\n",
      "Full model, log likelihood: -7795.725699549412 \n",
      "\n",
      "Optimization terminated successfully.\n",
      "         Current function value: 0.773981\n",
      "         Iterations 9\n",
      "Num paralogs model, log likelihood: -7840.426222038027 \n",
      "\n",
      "Optimization terminated successfully.\n",
      "         Current function value: 0.781781\n",
      "         Iterations 8\n",
      "Seq id model, log likelihood: -7919.440666913124 \n",
      "\n",
      "Optimization terminated successfully.\n",
      "         Current function value: 0.777854\n",
      "         Iterations 8\n",
      "Duplication mode model, log likelihood: -7879.656784736069\n"
     ]
    }
   ],
   "source": [
    "# Calculate the log likelihood for the full model and for models that each use \n",
    "# one of the variables (num paralogs, sequence identity and duplication mode)\n",
    "\n",
    "model = smf.mnlogit(formula='category ~ C(num_paralogs_binned) + percent_matched_in_paralog + C(WGD)', data=paralogs).fit()\n",
    "LL_full = model.llf # Log-likelihood of model\n",
    "print('Full model, log likelihood:', LL_full, '\\n')\n",
    "\n",
    "model = smf.mnlogit(formula='category ~ C(num_paralogs_binned)', data=paralogs).fit()\n",
    "LL_num_paralogs = model.llf # Log-likelihood of model\n",
    "print('Num paralogs model, log likelihood:', LL_num_paralogs, '\\n')\n",
    "\n",
    "model = smf.mnlogit(formula='category ~ percent_matched_in_paralog', data=paralogs).fit()\n",
    "LL_seq_id = model.llf # Log-likelihood of model\n",
    "print('Seq id model, log likelihood:', LL_seq_id, '\\n')\n",
    "\n",
    "model = smf.mnlogit(formula=\"category ~ C(WGD)\", data=paralogs).fit()\n",
    "#print(model.summary())\n",
    "LL_WGD = model.llf # Log-likelihood of model\n",
    "print('Duplication mode model, log likelihood:', LL_WGD)"
   ]
  },
  {
   "cell_type": "code",
   "execution_count": 4,
   "metadata": {
    "tags": []
   },
   "outputs": [
    {
     "name": "stdout",
     "output_type": "stream",
     "text": [
      "Full vs. num paralogs: (89.40104497723041, 3.8619775512609794e-20)\n",
      "Full vs. seq id: (247.42993472742455, 1.8675504604222055e-54)\n",
      "Full vs. duplication mode: (167.86217037331517, 3.5415456428293916e-37)\n"
     ]
    }
   ],
   "source": [
    "# Compare log-likelihood of the models\n",
    "def lrtest(llmin, llmax):\n",
    "    lr = 2 * (llmax - llmin)\n",
    "    p = stats.chi2.sf(lr, df=2) # llmax has 2 DOF more than llmin\n",
    "    return lr, p\n",
    "\n",
    "print('Full vs. num paralogs:', lrtest(LL_num_paralogs, LL_full))\n",
    "print('Full vs. seq id:', lrtest(LL_seq_id, LL_full))\n",
    "print('Full vs. duplication mode:', lrtest(LL_WGD, LL_full)) # L2 has X DoF more than L1"
   ]
  }
 ],
 "metadata": {
  "kernelspec": {
   "display_name": "Python 3",
   "language": "python",
   "name": "python3"
  },
  "language_info": {
   "codemirror_mode": {
    "name": "ipython",
    "version": 3
   },
   "file_extension": ".py",
   "mimetype": "text/x-python",
   "name": "python",
   "nbconvert_exporter": "python",
   "pygments_lexer": "ipython3",
   "version": "3.7.6"
  }
 },
 "nbformat": 4,
 "nbformat_minor": 2
}
