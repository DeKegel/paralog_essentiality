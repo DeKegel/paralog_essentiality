{
 "cells": [
  {
   "cell_type": "markdown",
   "metadata": {},
   "source": [
    "## Identify potential explanations (copy number, mutation) for A2 loss\n",
    "\n",
    "**Input:**\n",
    "- gene scores from running CERES\n",
    "- gene copy number and gene mutations downloaded from the DepMap portal (19Q1)\n",
    "- putative synthetic lethal pairs annotated among closest/all paralog pairs (results from nb 5)\n",
    "\n",
    "**Output:** annotated version of putative synthetic lethal pairs annotated among closest/all paralog pairs"
   ]
  },
  {
   "cell_type": "code",
   "execution_count": 1,
   "metadata": {
    "tags": []
   },
   "outputs": [],
   "source": [
    "import pandas as pd\n",
    "import numpy as np\n",
    "import scipy.stats as stats\n",
    "from statsmodels.stats.multitest import fdrcorrection\n",
    "import os\n",
    "import re\n",
    "import seaborn as sns\n",
    "import matplotlib.pyplot as plt\n",
    "import matplotlib as mpl\n",
    "from matplotlib_venn import venn2, venn3\n",
    "\n",
    "%load_ext autoreload\n",
    "%autoreload 1\n",
    "from graphing_utils import *\n",
    "%aimport graphing_utils\n",
    "\n",
    "get_data_path = lambda folders, fname: os.path.normpath(os.environ['3RD_PARTY_DIR']+'/'+'/'.join(folders) +'/'+fname)\n",
    "get_local_data_path = lambda folders, fname: os.path.normpath('../data/' +'/'.join(folders) +'/'+ fname)\n",
    "\n",
    "# Inputs\n",
    "file_gene_scores = get_local_data_path(['processed', 'depmap19Q1'], 'gene_scores_11_07_19.csv')\n",
    "file_gene_copy_num = get_data_path(['depmap', '19Q1'], 'gene_cn.csv')\n",
    "file_gene_mut = get_data_path(['depmap', '19Q1'], 'depmap_19Q1_mutation_calls_v2.csv')\n",
    "file_results_closest = get_local_data_path(['processed', 'results'], 'closest_paralog_pairs_17_07_19.csv')\n",
    "file_results_all = get_local_data_path(['processed', 'results'], 'all_paralog_pairs_17_07_19.csv')\n",
    "\n",
    "# Outputs\n",
    "file_closest_annotated = get_local_data_path(['processed', 'results'], 'closest_pairs_annotated_17_07_19.csv')\n",
    "file_all_annotated = get_local_data_path(['processed', 'results'], 'all_pairs_annotated_17_07_19.csv')\n",
    "\n",
    "cutoff_score = -0.47"
   ]
  },
  {
   "cell_type": "markdown",
   "metadata": {},
   "source": [
    "### Data"
   ]
  },
  {
   "cell_type": "code",
   "execution_count": 5,
   "metadata": {},
   "outputs": [
    {
     "data": {
      "text/html": [
       "<div>\n",
       "<style scoped>\n",
       "    .dataframe tbody tr th:only-of-type {\n",
       "        vertical-align: middle;\n",
       "    }\n",
       "\n",
       "    .dataframe tbody tr th {\n",
       "        vertical-align: top;\n",
       "    }\n",
       "\n",
       "    .dataframe thead th {\n",
       "        text-align: right;\n",
       "    }\n",
       "</style>\n",
       "<table border=\"1\" class=\"dataframe\">\n",
       "  <thead>\n",
       "    <tr style=\"text-align: right;\">\n",
       "      <th></th>\n",
       "      <th>8036</th>\n",
       "      <th>55967</th>\n",
       "      <th>55153</th>\n",
       "      <th>25940</th>\n",
       "      <th>23224</th>\n",
       "      <th>116071</th>\n",
       "      <th>114803</th>\n",
       "      <th>1967</th>\n",
       "      <th>23014</th>\n",
       "      <th>29957</th>\n",
       "      <th>...</th>\n",
       "      <th>128344</th>\n",
       "      <th>55249</th>\n",
       "      <th>84304</th>\n",
       "      <th>5869</th>\n",
       "      <th>57818</th>\n",
       "      <th>5273</th>\n",
       "      <th>84952</th>\n",
       "      <th>11046</th>\n",
       "      <th>90594</th>\n",
       "      <th>400</th>\n",
       "    </tr>\n",
       "    <tr>\n",
       "      <th>cell_line</th>\n",
       "      <th></th>\n",
       "      <th></th>\n",
       "      <th></th>\n",
       "      <th></th>\n",
       "      <th></th>\n",
       "      <th></th>\n",
       "      <th></th>\n",
       "      <th></th>\n",
       "      <th></th>\n",
       "      <th></th>\n",
       "      <th></th>\n",
       "      <th></th>\n",
       "      <th></th>\n",
       "      <th></th>\n",
       "      <th></th>\n",
       "      <th></th>\n",
       "      <th></th>\n",
       "      <th></th>\n",
       "      <th></th>\n",
       "      <th></th>\n",
       "      <th></th>\n",
       "    </tr>\n",
       "  </thead>\n",
       "  <tbody>\n",
       "    <tr>\n",
       "      <th>ACH-000601</th>\n",
       "      <td>-0.117838</td>\n",
       "      <td>-0.083374</td>\n",
       "      <td>-0.75716</td>\n",
       "      <td>-0.07252</td>\n",
       "      <td>-0.012776</td>\n",
       "      <td>-0.119112</td>\n",
       "      <td>0.053607</td>\n",
       "      <td>-1.092377</td>\n",
       "      <td>-0.234541</td>\n",
       "      <td>-0.018627</td>\n",
       "      <td>...</td>\n",
       "      <td>-0.18303</td>\n",
       "      <td>-0.096821</td>\n",
       "      <td>-0.092369</td>\n",
       "      <td>0.004617</td>\n",
       "      <td>0.010656</td>\n",
       "      <td>-0.008256</td>\n",
       "      <td>0.003173</td>\n",
       "      <td>-0.062839</td>\n",
       "      <td>-0.016976</td>\n",
       "      <td>-0.154559</td>\n",
       "    </tr>\n",
       "  </tbody>\n",
       "</table>\n",
       "<p>1 rows × 16540 columns</p>\n",
       "</div>"
      ],
      "text/plain": [
       "                8036     55967    55153    25940     23224    116071  \\\n",
       "cell_line                                                              \n",
       "ACH-000601 -0.117838 -0.083374 -0.75716 -0.07252 -0.012776 -0.119112   \n",
       "\n",
       "              114803      1967     23014     29957    ...      128344  \\\n",
       "cell_line                                             ...               \n",
       "ACH-000601  0.053607 -1.092377 -0.234541 -0.018627    ...    -0.18303   \n",
       "\n",
       "               55249     84304      5869     57818      5273     84952  \\\n",
       "cell_line                                                                \n",
       "ACH-000601 -0.096821 -0.092369  0.004617  0.010656 -0.008256  0.003173   \n",
       "\n",
       "               11046     90594       400  \n",
       "cell_line                                 \n",
       "ACH-000601 -0.062839 -0.016976 -0.154559  \n",
       "\n",
       "[1 rows x 16540 columns]"
      ]
     },
     "execution_count": 5,
     "metadata": {},
     "output_type": "execute_result"
    }
   ],
   "source": [
    "all_scores = pd.read_csv(file_gene_scores, index_col=0).set_index('cell_line')\n",
    "all_scores[:1]"
   ]
  },
  {
   "cell_type": "code",
   "execution_count": 2,
   "metadata": {
    "tags": []
   },
   "outputs": [
    {
     "name": "stdout",
     "output_type": "stream",
     "text": [
      "238 / 1819\n"
     ]
    },
    {
     "data": {
      "text/html": [
       "<div>\n",
       "<style scoped>\n",
       "    .dataframe tbody tr th:only-of-type {\n",
       "        vertical-align: middle;\n",
       "    }\n",
       "\n",
       "    .dataframe tbody tr th {\n",
       "        vertical-align: top;\n",
       "    }\n",
       "\n",
       "    .dataframe thead th {\n",
       "        text-align: right;\n",
       "    }\n",
       "</style>\n",
       "<table border=\"1\" class=\"dataframe\">\n",
       "  <thead>\n",
       "    <tr style=\"text-align: right;\">\n",
       "      <th></th>\n",
       "      <th>A1</th>\n",
       "      <th>A2</th>\n",
       "      <th>ttest_p</th>\n",
       "      <th>A2_expr_A1_NE</th>\n",
       "      <th>A2_expr_A1_E</th>\n",
       "      <th>ttest_p_correct</th>\n",
       "      <th>SL</th>\n",
       "      <th>percent_matched_in_paralog</th>\n",
       "      <th>WGD</th>\n",
       "      <th>either_in_complex</th>\n",
       "      <th>in_same_complex</th>\n",
       "      <th>A1_ensembl</th>\n",
       "      <th>A2_ensembl</th>\n",
       "      <th>A1_entrez</th>\n",
       "      <th>A2_entrez</th>\n",
       "    </tr>\n",
       "  </thead>\n",
       "  <tbody>\n",
       "    <tr>\n",
       "      <th>0</th>\n",
       "      <td>TEKT2</td>\n",
       "      <td>TEKT1</td>\n",
       "      <td>0.804338</td>\n",
       "      <td>0.038786</td>\n",
       "      <td>0.033592</td>\n",
       "      <td>0.934903</td>\n",
       "      <td>False</td>\n",
       "      <td>0.311628</td>\n",
       "      <td>WGD</td>\n",
       "      <td>False</td>\n",
       "      <td>False</td>\n",
       "      <td>ENSG00000092850</td>\n",
       "      <td>ENSG00000167858</td>\n",
       "      <td>27285</td>\n",
       "      <td>83659</td>\n",
       "    </tr>\n",
       "  </tbody>\n",
       "</table>\n",
       "</div>"
      ],
      "text/plain": [
       "      A1     A2   ttest_p  A2_expr_A1_NE  A2_expr_A1_E  ttest_p_correct  \\\n",
       "0  TEKT2  TEKT1  0.804338       0.038786      0.033592         0.934903   \n",
       "\n",
       "      SL  percent_matched_in_paralog  WGD  either_in_complex  in_same_complex  \\\n",
       "0  False                    0.311628  WGD              False            False   \n",
       "\n",
       "        A1_ensembl       A2_ensembl  A1_entrez  A2_entrez  \n",
       "0  ENSG00000092850  ENSG00000167858      27285      83659  "
      ]
     },
     "execution_count": 2,
     "metadata": {},
     "output_type": "execute_result"
    }
   ],
   "source": [
    "results_closest_pairs = pd.read_csv(file_results_closest)\n",
    "print(results_closest_pairs[results_closest_pairs.SL].shape[0], '/', results_closest_pairs.shape[0])\n",
    "results_closest_pairs[:1]"
   ]
  },
  {
   "cell_type": "code",
   "execution_count": 28,
   "metadata": {
    "tags": []
   },
   "outputs": [
    {
     "name": "stdout",
     "output_type": "stream",
     "text": [
      "375 / 6278\n",
      "302 / 1829\n"
     ]
    },
    {
     "data": {
      "text/html": [
       "<div>\n",
       "<style scoped>\n",
       "    .dataframe tbody tr th:only-of-type {\n",
       "        vertical-align: middle;\n",
       "    }\n",
       "\n",
       "    .dataframe tbody tr th {\n",
       "        vertical-align: top;\n",
       "    }\n",
       "\n",
       "    .dataframe thead th {\n",
       "        text-align: right;\n",
       "    }\n",
       "</style>\n",
       "<table border=\"1\" class=\"dataframe\">\n",
       "  <thead>\n",
       "    <tr style=\"text-align: right;\">\n",
       "      <th></th>\n",
       "      <th>A1</th>\n",
       "      <th>A2</th>\n",
       "      <th>ttest_p</th>\n",
       "      <th>A2_expr_A1_NE</th>\n",
       "      <th>A2_expr_A1_E</th>\n",
       "      <th>ttest_p_correct</th>\n",
       "      <th>SL</th>\n",
       "      <th>percent_matched_in_paralog</th>\n",
       "      <th>WGD</th>\n",
       "      <th>either_in_complex</th>\n",
       "      <th>in_same_complex</th>\n",
       "      <th>A1_ensembl</th>\n",
       "      <th>A2_ensembl</th>\n",
       "      <th>A1_entrez</th>\n",
       "      <th>A2_entrez</th>\n",
       "    </tr>\n",
       "  </thead>\n",
       "  <tbody>\n",
       "    <tr>\n",
       "      <th>0</th>\n",
       "      <td>TEKT2</td>\n",
       "      <td>TEKT4</td>\n",
       "      <td>0.160877</td>\n",
       "      <td>0.064105</td>\n",
       "      <td>0.023072</td>\n",
       "      <td>0.520612</td>\n",
       "      <td>False</td>\n",
       "      <td>0.293023</td>\n",
       "      <td>WGD</td>\n",
       "      <td>False</td>\n",
       "      <td>False</td>\n",
       "      <td>ENSG00000092850</td>\n",
       "      <td>ENSG00000163060</td>\n",
       "      <td>27285</td>\n",
       "      <td>150483</td>\n",
       "    </tr>\n",
       "  </tbody>\n",
       "</table>\n",
       "</div>"
      ],
      "text/plain": [
       "      A1     A2   ttest_p  A2_expr_A1_NE  A2_expr_A1_E  ttest_p_correct  \\\n",
       "0  TEKT2  TEKT4  0.160877       0.064105      0.023072         0.520612   \n",
       "\n",
       "      SL  percent_matched_in_paralog  WGD  either_in_complex  in_same_complex  \\\n",
       "0  False                    0.293023  WGD              False            False   \n",
       "\n",
       "        A1_ensembl       A2_ensembl  A1_entrez  A2_entrez  \n",
       "0  ENSG00000092850  ENSG00000163060      27285     150483  "
      ]
     },
     "execution_count": 28,
     "metadata": {},
     "output_type": "execute_result"
    }
   ],
   "source": [
    "results_all_pairs = pd.read_csv(file_results_all)\n",
    "print(results_all_pairs[results_all_pairs.SL].shape[0], '/', results_all_pairs.shape[0])\n",
    "print(results_all_pairs[results_all_pairs.SL].A1.nunique(), '/', results_all_pairs.A1.nunique())\n",
    "results_all_pairs[:1]"
   ]
  },
  {
   "cell_type": "markdown",
   "metadata": {},
   "source": [
    "### Closest pairs: Test for difference in A2 copy number among SLs"
   ]
  },
  {
   "cell_type": "code",
   "execution_count": 4,
   "metadata": {},
   "outputs": [],
   "source": [
    "gene_cn_raw = pd.read_csv(file_gene_copy_num, index_col=0)"
   ]
  },
  {
   "cell_type": "code",
   "execution_count": 8,
   "metadata": {
    "tags": []
   },
   "outputs": [
    {
     "name": "stdout",
     "output_type": "stream",
     "text": [
      "Overlapping cell lines (gene score and copy number): 554 / 554\n"
     ]
    },
    {
     "data": {
      "text/html": [
       "<div>\n",
       "<style scoped>\n",
       "    .dataframe tbody tr th:only-of-type {\n",
       "        vertical-align: middle;\n",
       "    }\n",
       "\n",
       "    .dataframe tbody tr th {\n",
       "        vertical-align: top;\n",
       "    }\n",
       "\n",
       "    .dataframe thead th {\n",
       "        text-align: right;\n",
       "    }\n",
       "</style>\n",
       "<table border=\"1\" class=\"dataframe\">\n",
       "  <thead>\n",
       "    <tr style=\"text-align: right;\">\n",
       "      <th></th>\n",
       "      <th>1</th>\n",
       "      <th>10</th>\n",
       "      <th>100</th>\n",
       "      <th>1000</th>\n",
       "      <th>10000</th>\n",
       "      <th>100008586</th>\n",
       "      <th>100009676</th>\n",
       "      <th>10001</th>\n",
       "      <th>10002</th>\n",
       "      <th>10003</th>\n",
       "      <th>...</th>\n",
       "      <th>9987</th>\n",
       "      <th>9988</th>\n",
       "      <th>9989</th>\n",
       "      <th>999</th>\n",
       "      <th>9990</th>\n",
       "      <th>9991</th>\n",
       "      <th>9992</th>\n",
       "      <th>9993</th>\n",
       "      <th>9994</th>\n",
       "      <th>9997</th>\n",
       "    </tr>\n",
       "  </thead>\n",
       "  <tbody>\n",
       "    <tr>\n",
       "      <th>ACH-000011</th>\n",
       "      <td>0.131139</td>\n",
       "      <td>-0.332231</td>\n",
       "      <td>0.18527</td>\n",
       "      <td>-0.322219</td>\n",
       "      <td>0.284791</td>\n",
       "      <td>-0.299359</td>\n",
       "      <td>-0.360381</td>\n",
       "      <td>-0.350737</td>\n",
       "      <td>0.196947</td>\n",
       "      <td>-0.375141</td>\n",
       "      <td>...</td>\n",
       "      <td>-0.304837</td>\n",
       "      <td>0.582631</td>\n",
       "      <td>-0.322219</td>\n",
       "      <td>-0.374689</td>\n",
       "      <td>-0.361973</td>\n",
       "      <td>0.189092</td>\n",
       "      <td>-0.272101</td>\n",
       "      <td>0.144758</td>\n",
       "      <td>-0.295499</td>\n",
       "      <td>0.144758</td>\n",
       "    </tr>\n",
       "  </tbody>\n",
       "</table>\n",
       "<p>1 rows × 23299 columns</p>\n",
       "</div>"
      ],
      "text/plain": [
       "                   1        10      100      1000     10000  100008586  \\\n",
       "ACH-000011  0.131139 -0.332231  0.18527 -0.322219  0.284791  -0.299359   \n",
       "\n",
       "            100009676     10001     10002     10003    ...         9987  \\\n",
       "ACH-000011  -0.360381 -0.350737  0.196947 -0.375141    ...    -0.304837   \n",
       "\n",
       "                9988      9989       999      9990      9991      9992  \\\n",
       "ACH-000011  0.582631 -0.322219 -0.374689 -0.361973  0.189092 -0.272101   \n",
       "\n",
       "                9993      9994      9997  \n",
       "ACH-000011  0.144758 -0.295499  0.144758  \n",
       "\n",
       "[1 rows x 23299 columns]"
      ]
     },
     "execution_count": 8,
     "metadata": {},
     "output_type": "execute_result"
    }
   ],
   "source": [
    "get_gene_id = lambda x: re.search('[\\w-]+\\s\\((\\w+)\\)', x).group(1)\n",
    "gene_cn = gene_cn_raw.rename(columns=get_gene_id)\n",
    "# Reduce copy number data down to cell lines for which there are genes scores + gene expr (taken from prev. notebook)\n",
    "gene_cn = gene_cn.loc[gene_cn.index.isin(all_scores.index) & \n",
    "                      ~gene_cn.index.isin(['ACH-001096','ACH-001151','ACH-001735','ACH-001736']),:]\n",
    "print('Overlapping cell lines (gene score and copy number):', gene_cn.shape[0], '/', all_scores.shape[0]-4)\n",
    "gene_cn[:1]"
   ]
  },
  {
   "cell_type": "code",
   "execution_count": 9,
   "metadata": {},
   "outputs": [],
   "source": [
    "# Function to apply to each putative SL pair to find how many can be explained by difference in copy number\n",
    "def test_diff_in_A2_copy_number(pair):\n",
    "    df = pd.concat([gene_cn.loc[:, str(pair['A2_entrez'])], \n",
    "                    all_scores.loc[all_scores.index.isin(gene_cn.index), str(pair['A1_entrez'])]], axis=1, sort=True)\n",
    "    df.columns = ['A2_cn', 'A1_score']\n",
    "    df = df.dropna()\n",
    "    cn_NE = df[df.A1_score > cutoff_score].A2_cn\n",
    "    cn_E = df[df.A1_score <= cutoff_score].A2_cn\n",
    "    ttest_p = stats.ttest_ind(cn_NE, cn_E).pvalue # 2-sided\n",
    "    return pd.Series([pair.A1, pair.A2, ttest_p, cn_NE.mean(), cn_E.mean()], index=['A1', 'A2', 'ttest_p', 'A2_cn_A1_NE', 'A2_cn_A1_E'])\n",
    "\n",
    "# Test for significant difference in copy number between essential / non-essential cell lines for SLs\n",
    "# Only test the putative SLs\n",
    "def test_copy_number_diff_for_pairs(pairs):\n",
    "    cn_results = pairs[pairs.SL==True].apply(test_diff_in_A2_copy_number, axis=1)\n",
    "    cn_results = cn_results.assign(p_correct = fdrcorrection(cn_results.ttest_p.values)[1])\n",
    "    # A significant difference in copy number = corrected p val < 0.1 AND raw p < 0.05\n",
    "    cn_results = cn_results.assign(signif = ((cn_results.p_correct < 0.1) & (cn_results.ttest_p < 0.05))\n",
    "                                             & (cn_results.A2_cn_A1_NE > cn_results.A2_cn_A1_E))\n",
    "    return cn_results"
   ]
  },
  {
   "cell_type": "code",
   "execution_count": 11,
   "metadata": {
    "tags": []
   },
   "outputs": [
    {
     "name": "stdout",
     "output_type": "stream",
     "text": [
      "SLs w/ significant copy number difference: 85/238 --> 35.71%\n"
     ]
    }
   ],
   "source": [
    "cn_results = test_copy_number_diff_for_pairs(results_closest_pairs)\n",
    "print('SLs w/ significant copy number difference: %d/%d --> %.2f%%' % (cn_results[cn_results.signif].shape[0], \n",
    "                                cn_results.shape[0], cn_results[cn_results.signif].shape[0]/cn_results.shape[0] * 100))"
   ]
  },
  {
   "cell_type": "markdown",
   "metadata": {},
   "source": [
    "### Closest pairs: Test for difference in A2 mutation status among SLs"
   ]
  },
  {
   "cell_type": "code",
   "execution_count": 12,
   "metadata": {},
   "outputs": [],
   "source": [
    "mutations_raw = pd.read_csv(file_gene_mut, low_memory=False)"
   ]
  },
  {
   "cell_type": "code",
   "execution_count": 13,
   "metadata": {},
   "outputs": [
    {
     "data": {
      "text/html": [
       "<div>\n",
       "<style scoped>\n",
       "    .dataframe tbody tr th:only-of-type {\n",
       "        vertical-align: middle;\n",
       "    }\n",
       "\n",
       "    .dataframe tbody tr th {\n",
       "        vertical-align: top;\n",
       "    }\n",
       "\n",
       "    .dataframe thead th {\n",
       "        text-align: right;\n",
       "    }\n",
       "</style>\n",
       "<table border=\"1\" class=\"dataframe\">\n",
       "  <thead>\n",
       "    <tr style=\"text-align: right;\">\n",
       "      <th></th>\n",
       "      <th>X1</th>\n",
       "      <th>Hugo_Symbol</th>\n",
       "      <th>Entrez_Gene_Id</th>\n",
       "      <th>NCBI_Build</th>\n",
       "      <th>Chromosome</th>\n",
       "      <th>Start_position</th>\n",
       "      <th>End_position</th>\n",
       "      <th>Strand</th>\n",
       "      <th>Variant_Classification</th>\n",
       "      <th>Variant_Type</th>\n",
       "      <th>...</th>\n",
       "      <th>CCLE_WES_AC</th>\n",
       "      <th>CGA_WES_AC</th>\n",
       "      <th>SangerWES_AC</th>\n",
       "      <th>SangerRecalibWES_AC</th>\n",
       "      <th>RNAseq_AC</th>\n",
       "      <th>HC_AC</th>\n",
       "      <th>RD_AC</th>\n",
       "      <th>WGS_AC</th>\n",
       "      <th>Variant_annotation</th>\n",
       "      <th>DepMap_ID</th>\n",
       "    </tr>\n",
       "  </thead>\n",
       "  <tbody>\n",
       "    <tr>\n",
       "      <th>0</th>\n",
       "      <td>1</td>\n",
       "      <td>VPS13D</td>\n",
       "      <td>55187</td>\n",
       "      <td>37</td>\n",
       "      <td>1</td>\n",
       "      <td>12359347</td>\n",
       "      <td>12359347</td>\n",
       "      <td>+</td>\n",
       "      <td>Nonsense_Mutation</td>\n",
       "      <td>SNP</td>\n",
       "      <td>...</td>\n",
       "      <td>NaN</td>\n",
       "      <td>NaN</td>\n",
       "      <td>34:221</td>\n",
       "      <td>34:213</td>\n",
       "      <td>NaN</td>\n",
       "      <td>NaN</td>\n",
       "      <td>NaN</td>\n",
       "      <td>NaN</td>\n",
       "      <td>damaging</td>\n",
       "      <td>ACH-000001</td>\n",
       "    </tr>\n",
       "  </tbody>\n",
       "</table>\n",
       "<p>1 rows × 36 columns</p>\n",
       "</div>"
      ],
      "text/plain": [
       "   X1 Hugo_Symbol  Entrez_Gene_Id  NCBI_Build Chromosome  Start_position  \\\n",
       "0   1      VPS13D           55187          37          1        12359347   \n",
       "\n",
       "   End_position Strand Variant_Classification Variant_Type     ...      \\\n",
       "0      12359347      +      Nonsense_Mutation          SNP     ...       \n",
       "\n",
       "  CCLE_WES_AC CGA_WES_AC SangerWES_AC SangerRecalibWES_AC RNAseq_AC HC_AC  \\\n",
       "0         NaN        NaN       34:221              34:213       NaN   NaN   \n",
       "\n",
       "  RD_AC WGS_AC Variant_annotation   DepMap_ID  \n",
       "0   NaN    NaN           damaging  ACH-000001  \n",
       "\n",
       "[1 rows x 36 columns]"
      ]
     },
     "execution_count": 13,
     "metadata": {},
     "output_type": "execute_result"
    }
   ],
   "source": [
    "mutations_raw[:1]"
   ]
  },
  {
   "cell_type": "code",
   "execution_count": 14,
   "metadata": {
    "tags": []
   },
   "outputs": [
    {
     "name": "stdout",
     "output_type": "stream",
     "text": [
      "Overlapping cell lines (fitness score & mutations):  551 / 554\n"
     ]
    },
    {
     "data": {
      "text/html": [
       "<div>\n",
       "<style scoped>\n",
       "    .dataframe tbody tr th:only-of-type {\n",
       "        vertical-align: middle;\n",
       "    }\n",
       "\n",
       "    .dataframe tbody tr th {\n",
       "        vertical-align: top;\n",
       "    }\n",
       "\n",
       "    .dataframe thead th {\n",
       "        text-align: right;\n",
       "    }\n",
       "</style>\n",
       "<table border=\"1\" class=\"dataframe\">\n",
       "  <thead>\n",
       "    <tr style=\"text-align: right;\">\n",
       "      <th></th>\n",
       "      <th>entrez_id</th>\n",
       "      <th>symbol</th>\n",
       "      <th>Variant_Classification</th>\n",
       "      <th>Variant_Type</th>\n",
       "      <th>DepMap_ID</th>\n",
       "    </tr>\n",
       "  </thead>\n",
       "  <tbody>\n",
       "    <tr>\n",
       "      <th>0</th>\n",
       "      <td>388591</td>\n",
       "      <td>RNF207</td>\n",
       "      <td>Missense_Mutation</td>\n",
       "      <td>SNP</td>\n",
       "      <td>ACH-000004</td>\n",
       "    </tr>\n",
       "  </tbody>\n",
       "</table>\n",
       "</div>"
      ],
      "text/plain": [
       "   entrez_id  symbol Variant_Classification Variant_Type   DepMap_ID\n",
       "0     388591  RNF207      Missense_Mutation          SNP  ACH-000004"
      ]
     },
     "execution_count": 14,
     "metadata": {},
     "output_type": "execute_result"
    }
   ],
   "source": [
    "mutations = mutations_raw.rename(columns={'Entrez_Gene_Id':'entrez_id', 'Hugo_Symbol':'symbol'})\n",
    "mutations = mutations[['entrez_id', 'symbol', 'Variant_Classification', 'Variant_Type', 'DepMap_ID']]\n",
    "# Reduce mutation data down to cell lines for which there are genes scores + gene expr (taken from prev. notebook)\n",
    "mutations = mutations[mutations.DepMap_ID.isin(all_scores.index) & \n",
    "                      ~mutations.DepMap_ID.isin(['ACH-001096','ACH-001151','ACH-001735','ACH-001736'])].reset_index(drop=True)\n",
    "print('Overlapping cell lines (fitness score & mutations): ', mutations.DepMap_ID.nunique(),'/', all_scores.shape[0]-4)\n",
    "mutations[:1]"
   ]
  },
  {
   "cell_type": "code",
   "execution_count": 15,
   "metadata": {},
   "outputs": [
    {
     "data": {
      "text/plain": [
       "array(['Missense_Mutation', 'Silent', 'Frame_Shift_Del', 'Splice_Site',\n",
       "       'Frame_Shift_Ins', 'Nonsense_Mutation', 'De_novo_Start_OutOfFrame',\n",
       "       'In_Frame_Del', 'In_Frame_Ins', 'Start_Codon_SNP',\n",
       "       'Nonstop_Mutation', 'Stop_Codon_Del', 'Start_Codon_Ins',\n",
       "       'Stop_Codon_Ins', nan, 'Intron', 'Start_Codon_Del', \"5'Flank\",\n",
       "       'IGR', \"3'UTR\", \"5'UTR\"], dtype=object)"
      ]
     },
     "execution_count": 15,
     "metadata": {},
     "output_type": "execute_result"
    }
   ],
   "source": [
    "mutations.Variant_Classification.unique()"
   ]
  },
  {
   "cell_type": "code",
   "execution_count": 17,
   "metadata": {},
   "outputs": [],
   "source": [
    "def test_A2_mutation(pair):\n",
    "    mutation_types = ['Nonsense_Mutation']\n",
    "    A2_mut = mutations[(mutations.entrez_id==pair.A2_entrez) & \n",
    "                       (mutations.Variant_Classification.isin(mutation_types))]\n",
    "    df = pd.DataFrame(all_scores.loc[all_scores.index.isin(gene_cn.index), str(pair.A1_entrez)])\n",
    "    df = df.assign(A1_E = df[str(pair.A1_entrez)] <= cutoff_score)\n",
    "    df = df.assign(mutation = df.index.isin(A2_mut.DepMap_ID))\n",
    "    ctab = pd.crosstab(df.A1_E, df.mutation, dropna=False)\n",
    "    if ctab.shape[1] != 2: # return null if A2 never (or always) has a mutation of the given types\n",
    "        return pd.Series([pair.A1, pair.A2, float('nan'), float('nan')], index=['A1', 'A2', 'OR', 'pval'])\n",
    "    fet = stats.fisher_exact(ctab)\n",
    "    return pd.Series([pair.A1, pair.A2, fet[0], fet[1]], index=['A1', 'A2', 'OR', 'pval'])\n",
    "\n",
    "# Test for significant difference in mutations between essential / non-essential cell lines for SLs\n",
    "# Only test the putative SLs\n",
    "def test_mutation_for_pairs(pairs):\n",
    "    mut_results = pairs[pairs.SL==True].apply(test_A2_mutation, axis=1)\n",
    "    # Drop NAs => gene pairs where A2 is never mutated in the available data\n",
    "    mut_results = mut_results.dropna()\n",
    "    # Looking for OR > 1 ===> enrichment of nonsense mutations A2 for A1 essential\n",
    "    mut_results = mut_results.assign(p_correct = fdrcorrection(mut_results.pval.values)[1])\n",
    "    mut_results = mut_results.assign(signif = ((mut_results.p_correct < 0.1) & (mut_results.OR > 1)))\n",
    "    return mut_results"
   ]
  },
  {
   "cell_type": "code",
   "execution_count": 19,
   "metadata": {
    "tags": []
   },
   "outputs": [
    {
     "name": "stdout",
     "output_type": "stream",
     "text": [
      "SLs w/ significant mutation difference: 3/92 --> 3.26%\n"
     ]
    },
    {
     "data": {
      "text/html": [
       "<div>\n",
       "<style scoped>\n",
       "    .dataframe tbody tr th:only-of-type {\n",
       "        vertical-align: middle;\n",
       "    }\n",
       "\n",
       "    .dataframe tbody tr th {\n",
       "        vertical-align: top;\n",
       "    }\n",
       "\n",
       "    .dataframe thead th {\n",
       "        text-align: right;\n",
       "    }\n",
       "</style>\n",
       "<table border=\"1\" class=\"dataframe\">\n",
       "  <thead>\n",
       "    <tr style=\"text-align: right;\">\n",
       "      <th></th>\n",
       "      <th>A1</th>\n",
       "      <th>A2</th>\n",
       "      <th>OR</th>\n",
       "      <th>pval</th>\n",
       "      <th>p_correct</th>\n",
       "      <th>signif</th>\n",
       "    </tr>\n",
       "  </thead>\n",
       "  <tbody>\n",
       "    <tr>\n",
       "      <th>1017</th>\n",
       "      <td>STAG1</td>\n",
       "      <td>STAG2</td>\n",
       "      <td>inf</td>\n",
       "      <td>0.001652</td>\n",
       "      <td>0.050650</td>\n",
       "      <td>True</td>\n",
       "    </tr>\n",
       "    <tr>\n",
       "      <th>1304</th>\n",
       "      <td>ARID1B</td>\n",
       "      <td>ARID1A</td>\n",
       "      <td>10.058824</td>\n",
       "      <td>0.000213</td>\n",
       "      <td>0.010248</td>\n",
       "      <td>True</td>\n",
       "    </tr>\n",
       "    <tr>\n",
       "      <th>1454</th>\n",
       "      <td>SMARCA2</td>\n",
       "      <td>SMARCA4</td>\n",
       "      <td>21.200000</td>\n",
       "      <td>0.000223</td>\n",
       "      <td>0.010248</td>\n",
       "      <td>True</td>\n",
       "    </tr>\n",
       "  </tbody>\n",
       "</table>\n",
       "</div>"
      ],
      "text/plain": [
       "           A1       A2         OR      pval  p_correct  signif\n",
       "1017    STAG1    STAG2        inf  0.001652   0.050650    True\n",
       "1304   ARID1B   ARID1A  10.058824  0.000213   0.010248    True\n",
       "1454  SMARCA2  SMARCA4  21.200000  0.000223   0.010248    True"
      ]
     },
     "execution_count": 19,
     "metadata": {},
     "output_type": "execute_result"
    }
   ],
   "source": [
    "mut_results = test_mutation_for_pairs(results_closest_pairs)\n",
    "print('SLs w/ significant mutation difference: %d/%d --> %.2f%%' % (mut_results[mut_results.signif].shape[0], \n",
    "                                    mut_results.shape[0], mut_results[mut_results.signif].shape[0]/mut_results.shape[0]*100))\n",
    "# OR=inf means there is never a mutation when A1 is not essential\n",
    "mut_results[mut_results.signif == True]"
   ]
  },
  {
   "cell_type": "markdown",
   "metadata": {},
   "source": [
    "### Closest pairs: overview of reasons for A2 loss"
   ]
  },
  {
   "cell_type": "code",
   "execution_count": 20,
   "metadata": {},
   "outputs": [
    {
     "data": {
      "text/html": [
       "<div>\n",
       "<style scoped>\n",
       "    .dataframe tbody tr th:only-of-type {\n",
       "        vertical-align: middle;\n",
       "    }\n",
       "\n",
       "    .dataframe tbody tr th {\n",
       "        vertical-align: top;\n",
       "    }\n",
       "\n",
       "    .dataframe thead th {\n",
       "        text-align: right;\n",
       "    }\n",
       "</style>\n",
       "<table border=\"1\" class=\"dataframe\">\n",
       "  <thead>\n",
       "    <tr style=\"text-align: right;\">\n",
       "      <th></th>\n",
       "      <th>A1</th>\n",
       "      <th>A2</th>\n",
       "      <th>ttest_p</th>\n",
       "      <th>A2_expr_A1_NE</th>\n",
       "      <th>A2_expr_A1_E</th>\n",
       "      <th>ttest_p_correct</th>\n",
       "      <th>SL</th>\n",
       "      <th>percent_matched_in_paralog</th>\n",
       "      <th>WGD</th>\n",
       "      <th>either_in_complex</th>\n",
       "      <th>in_same_complex</th>\n",
       "      <th>A1_ensembl</th>\n",
       "      <th>A2_ensembl</th>\n",
       "      <th>A1_entrez</th>\n",
       "      <th>A2_entrez</th>\n",
       "      <th>copy_number_driven</th>\n",
       "      <th>nonsense_mutation_driven</th>\n",
       "    </tr>\n",
       "  </thead>\n",
       "  <tbody>\n",
       "    <tr>\n",
       "      <th>0</th>\n",
       "      <td>TEKT2</td>\n",
       "      <td>TEKT1</td>\n",
       "      <td>0.804338</td>\n",
       "      <td>0.038786</td>\n",
       "      <td>0.033592</td>\n",
       "      <td>0.934903</td>\n",
       "      <td>False</td>\n",
       "      <td>0.311628</td>\n",
       "      <td>WGD</td>\n",
       "      <td>False</td>\n",
       "      <td>False</td>\n",
       "      <td>ENSG00000092850</td>\n",
       "      <td>ENSG00000167858</td>\n",
       "      <td>27285</td>\n",
       "      <td>83659</td>\n",
       "      <td>False</td>\n",
       "      <td>False</td>\n",
       "    </tr>\n",
       "  </tbody>\n",
       "</table>\n",
       "</div>"
      ],
      "text/plain": [
       "      A1     A2   ttest_p  A2_expr_A1_NE  A2_expr_A1_E  ttest_p_correct  \\\n",
       "0  TEKT2  TEKT1  0.804338       0.038786      0.033592         0.934903   \n",
       "\n",
       "      SL  percent_matched_in_paralog  WGD  either_in_complex  in_same_complex  \\\n",
       "0  False                    0.311628  WGD              False            False   \n",
       "\n",
       "        A1_ensembl       A2_ensembl  A1_entrez  A2_entrez  copy_number_driven  \\\n",
       "0  ENSG00000092850  ENSG00000167858      27285      83659               False   \n",
       "\n",
       "   nonsense_mutation_driven  \n",
       "0                     False  "
      ]
     },
     "execution_count": 20,
     "metadata": {},
     "output_type": "execute_result"
    }
   ],
   "source": [
    "# Add column for copy number driven\n",
    "annotated_results = pd.merge(results_closest_pairs, cn_results[cn_results.signif][['A1','A2']], \n",
    "                             indicator='copy_number_driven', on=['A1', 'A2'], how='left')\n",
    "annotated_results.copy_number_driven = annotated_results.copy_number_driven == 'both'\n",
    "\n",
    "# Add column for mutation driven to the original results df\n",
    "annotated_results = pd.merge(annotated_results, mut_results[mut_results.signif][['A1','A2']], \n",
    "                             indicator='nonsense_mutation_driven', on=['A1', 'A2'], how='left')\n",
    "annotated_results.nonsense_mutation_driven = annotated_results.nonsense_mutation_driven == 'both'\n",
    "\n",
    "assert(sum(annotated_results.copy_number_driven) == cn_results[cn_results.signif].shape[0])\n",
    "assert(sum(annotated_results.nonsense_mutation_driven) == mut_results[mut_results.signif].shape[0])\n",
    "annotated_results.to_csv(file_closest_annotated, index=0)\n",
    "annotated_results[:1]"
   ]
  },
  {
   "cell_type": "code",
   "execution_count": 27,
   "metadata": {},
   "outputs": [
    {
     "data": {
      "image/png": "[encoded data removed]",
      "text/plain": [
       "<Figure size 432x288 with 1 Axes>"
      ]
     },
     "metadata": {},
     "output_type": "display_data"
    }
   ],
   "source": [
    "annotated_results = pd.read_csv(file_closest_annotated)\n",
    "df = annotated_results[annotated_results.SL==True]\n",
    "set1 = set(df.apply(lambda x: (x.A1, x.A2), axis=1).values)\n",
    "set2 = set(df[df.copy_number_driven==True].apply(lambda x: (x.A1, x.A2), axis=1).values)\n",
    "set3 = set(df[df.nonsense_mutation_driven==True].apply(lambda x: (x.A1, x.A2), axis=1).values)\n",
    "\n",
    "venn = venn3([set2, set3, set1], set_colors=('blue', 'yellow', 'green'), \n",
    "             set_labels= ('copy number\\ndriven', 'nonsense\\nmutation\\ndriven', 'all putative synthetic\\nlethal paralog pairs'))\n",
    "for text in venn.set_labels: text.set_fontsize(mpl.rcParams['axes.labelsize'])\n",
    "for text in venn.subset_labels:\n",
    "    if text != None: text.set_fontsize(mpl.rcParams['axes.labelsize'])\n",
    "\n",
    "#plt.savefig('../figures/venn.svg',  bbox_inches='tight', dpi=300)"
   ]
  },
  {
   "cell_type": "markdown",
   "metadata": {},
   "source": [
    "### All pairs: Test for difference in A2 copy number among SLs"
   ]
  },
  {
   "cell_type": "code",
   "execution_count": 29,
   "metadata": {
    "tags": []
   },
   "outputs": [
    {
     "name": "stdout",
     "output_type": "stream",
     "text": [
      "SLs w/ significant copy number difference: 110/375 --> 29.33%\n"
     ]
    }
   ],
   "source": [
    "cn_results2 = test_copy_number_diff_for_pairs(results_all_pairs)\n",
    "print('SLs w/ significant copy number difference: %d/%d --> %.2f%%' % (cn_results2[cn_results2.signif].shape[0], \n",
    "                                    cn_results2.shape[0], cn_results2[cn_results2.signif].shape[0]/cn_results2.shape[0] * 100))"
   ]
  },
  {
   "cell_type": "markdown",
   "metadata": {},
   "source": [
    "### All pairs: Test for difference in A2 nonsense mutation status among SLs"
   ]
  },
  {
   "cell_type": "code",
   "execution_count": 30,
   "metadata": {
    "tags": []
   },
   "outputs": [
    {
     "name": "stdout",
     "output_type": "stream",
     "text": [
      "SLs w/ significant mutation difference: 3/149 --> 2.01%\n"
     ]
    },
    {
     "data": {
      "text/html": [
       "<div>\n",
       "<style scoped>\n",
       "    .dataframe tbody tr th:only-of-type {\n",
       "        vertical-align: middle;\n",
       "    }\n",
       "\n",
       "    .dataframe tbody tr th {\n",
       "        vertical-align: top;\n",
       "    }\n",
       "\n",
       "    .dataframe thead th {\n",
       "        text-align: right;\n",
       "    }\n",
       "</style>\n",
       "<table border=\"1\" class=\"dataframe\">\n",
       "  <thead>\n",
       "    <tr style=\"text-align: right;\">\n",
       "      <th></th>\n",
       "      <th>A1</th>\n",
       "      <th>A2</th>\n",
       "      <th>OR</th>\n",
       "      <th>pval</th>\n",
       "      <th>p_correct</th>\n",
       "      <th>signif</th>\n",
       "    </tr>\n",
       "  </thead>\n",
       "  <tbody>\n",
       "    <tr>\n",
       "      <th>4546</th>\n",
       "      <td>STAG1</td>\n",
       "      <td>STAG2</td>\n",
       "      <td>inf</td>\n",
       "      <td>0.001652</td>\n",
       "      <td>0.082031</td>\n",
       "      <td>True</td>\n",
       "    </tr>\n",
       "    <tr>\n",
       "      <th>5448</th>\n",
       "      <td>ARID1B</td>\n",
       "      <td>ARID1A</td>\n",
       "      <td>10.058824</td>\n",
       "      <td>0.000213</td>\n",
       "      <td>0.016597</td>\n",
       "      <td>True</td>\n",
       "    </tr>\n",
       "    <tr>\n",
       "      <th>5783</th>\n",
       "      <td>SMARCA2</td>\n",
       "      <td>SMARCA4</td>\n",
       "      <td>21.200000</td>\n",
       "      <td>0.000223</td>\n",
       "      <td>0.016597</td>\n",
       "      <td>True</td>\n",
       "    </tr>\n",
       "  </tbody>\n",
       "</table>\n",
       "</div>"
      ],
      "text/plain": [
       "           A1       A2         OR      pval  p_correct  signif\n",
       "4546    STAG1    STAG2        inf  0.001652   0.082031    True\n",
       "5448   ARID1B   ARID1A  10.058824  0.000213   0.016597    True\n",
       "5783  SMARCA2  SMARCA4  21.200000  0.000223   0.016597    True"
      ]
     },
     "execution_count": 30,
     "metadata": {},
     "output_type": "execute_result"
    }
   ],
   "source": [
    "mut_results2 = test_mutation_for_pairs(results_all_pairs)\n",
    "print('SLs w/ significant mutation difference: %d/%d --> %.2f%%' % (mut_results2[mut_results2.signif].shape[0], \n",
    "                                mut_results2.shape[0], mut_results2[mut_results2.signif].shape[0]/mut_results2.shape[0] * 100))\n",
    "# OR=inf means there is never a mutation when A1 is not essential\n",
    "mut_results2[mut_results2.signif == True]"
   ]
  },
  {
   "cell_type": "markdown",
   "metadata": {},
   "source": [
    "### All pairs: overview of reasons for A2 loss"
   ]
  },
  {
   "cell_type": "code",
   "execution_count": 31,
   "metadata": {},
   "outputs": [
    {
     "data": {
      "text/html": [
       "<div>\n",
       "<style scoped>\n",
       "    .dataframe tbody tr th:only-of-type {\n",
       "        vertical-align: middle;\n",
       "    }\n",
       "\n",
       "    .dataframe tbody tr th {\n",
       "        vertical-align: top;\n",
       "    }\n",
       "\n",
       "    .dataframe thead th {\n",
       "        text-align: right;\n",
       "    }\n",
       "</style>\n",
       "<table border=\"1\" class=\"dataframe\">\n",
       "  <thead>\n",
       "    <tr style=\"text-align: right;\">\n",
       "      <th></th>\n",
       "      <th>A1</th>\n",
       "      <th>A2</th>\n",
       "      <th>ttest_p</th>\n",
       "      <th>A2_expr_A1_NE</th>\n",
       "      <th>A2_expr_A1_E</th>\n",
       "      <th>ttest_p_correct</th>\n",
       "      <th>SL</th>\n",
       "      <th>percent_matched_in_paralog</th>\n",
       "      <th>WGD</th>\n",
       "      <th>either_in_complex</th>\n",
       "      <th>in_same_complex</th>\n",
       "      <th>A1_ensembl</th>\n",
       "      <th>A2_ensembl</th>\n",
       "      <th>A1_entrez</th>\n",
       "      <th>A2_entrez</th>\n",
       "      <th>copy_number_driven</th>\n",
       "      <th>nonsense_mutation_driven</th>\n",
       "    </tr>\n",
       "  </thead>\n",
       "  <tbody>\n",
       "    <tr>\n",
       "      <th>0</th>\n",
       "      <td>TEKT2</td>\n",
       "      <td>TEKT4</td>\n",
       "      <td>0.160877</td>\n",
       "      <td>0.064105</td>\n",
       "      <td>0.023072</td>\n",
       "      <td>0.520612</td>\n",
       "      <td>False</td>\n",
       "      <td>0.293023</td>\n",
       "      <td>WGD</td>\n",
       "      <td>False</td>\n",
       "      <td>False</td>\n",
       "      <td>ENSG00000092850</td>\n",
       "      <td>ENSG00000163060</td>\n",
       "      <td>27285</td>\n",
       "      <td>150483</td>\n",
       "      <td>False</td>\n",
       "      <td>False</td>\n",
       "    </tr>\n",
       "  </tbody>\n",
       "</table>\n",
       "</div>"
      ],
      "text/plain": [
       "      A1     A2   ttest_p  A2_expr_A1_NE  A2_expr_A1_E  ttest_p_correct  \\\n",
       "0  TEKT2  TEKT4  0.160877       0.064105      0.023072         0.520612   \n",
       "\n",
       "      SL  percent_matched_in_paralog  WGD  either_in_complex  in_same_complex  \\\n",
       "0  False                    0.293023  WGD              False            False   \n",
       "\n",
       "        A1_ensembl       A2_ensembl  A1_entrez  A2_entrez  copy_number_driven  \\\n",
       "0  ENSG00000092850  ENSG00000163060      27285     150483               False   \n",
       "\n",
       "   nonsense_mutation_driven  \n",
       "0                     False  "
      ]
     },
     "execution_count": 31,
     "metadata": {},
     "output_type": "execute_result"
    }
   ],
   "source": [
    "# Add column for copy number driven\n",
    "annotated_results2 = pd.merge(results_all_pairs, cn_results2[cn_results2.signif][['A1','A2']], \n",
    "                             indicator='copy_number_driven', on=['A1', 'A2'], how='left')\n",
    "annotated_results2.copy_number_driven = annotated_results2.copy_number_driven == 'both'\n",
    "\n",
    "# Add column for mutation driven to the original results df\n",
    "annotated_results2 = pd.merge(annotated_results2, mut_results2[mut_results2.signif][['A1','A2']], \n",
    "                             indicator='nonsense_mutation_driven', on=['A1', 'A2'], how='left')\n",
    "annotated_results2.nonsense_mutation_driven = annotated_results2.nonsense_mutation_driven == 'both'\n",
    "\n",
    "assert(sum(annotated_results2.copy_number_driven) == cn_results2[cn_results2.signif].shape[0])\n",
    "assert(sum(annotated_results2.nonsense_mutation_driven) == mut_results2[mut_results2.signif].shape[0])\n",
    "annotated_results2.to_csv(file_all_annotated, index=0)\n",
    "annotated_results2[:1]"
   ]
  },
  {
   "cell_type": "code",
   "execution_count": 33,
   "metadata": {},
   "outputs": [
    {
     "data": {
      "image/png": "[encoded data removed]",
      "text/plain": [
       "<Figure size 432x288 with 1 Axes>"
      ]
     },
     "metadata": {},
     "output_type": "display_data"
    }
   ],
   "source": [
    "annotated_results2 = pd.read_csv(file_all_annotated)\n",
    "df = annotated_results2[annotated_results2.SL==True]\n",
    "set1 = set(df.apply(lambda x: (x.A1, x.A2), axis=1).values)\n",
    "set2 = set(df[df.copy_number_driven==True].apply(lambda x: (x.A1, x.A2), axis=1).values)\n",
    "set3 = set(df[df.nonsense_mutation_driven==True].apply(lambda x: (x.A1, x.A2), axis=1).values)\n",
    "\n",
    "venn = venn3([set2, set3, set1], set_colors=('blue', 'yellow', 'green'), \n",
    "             set_labels= ('copy number\\ndriven', 'nonsense\\nmutation\\ndriven', 'all putative synthetic\\nlethal paralog pairs'))\n",
    "for text in venn.set_labels: text.set_fontsize(mpl.rcParams['axes.labelsize'])\n",
    "for text in venn.subset_labels:\n",
    "    if text != None: text.set_fontsize(mpl.rcParams['axes.labelsize'])\n",
    "\n",
    "#plt.savefig('../figures/venn2.svg',  bbox_inches='tight', dpi=300)"
   ]
  },
  {
   "cell_type": "markdown",
   "metadata": {},
   "source": [
    "### Export pairs to supplemental tables\n",
    "* the raw t-test and FDR corrected p-values for differential expression, \n",
    "* their percentage protein sequence identity, \n",
    "* their mode of duplication, \n",
    "* whether either paralog is a member of a protein complex, \n",
    "* whether both paralogs are members of the same protein complex.\n",
    "* whether the  SL effect is driven by copy number variation and/or nonsense mutations"
   ]
  },
  {
   "cell_type": "code",
   "execution_count": 34,
   "metadata": {},
   "outputs": [],
   "source": [
    "def export_supp_table(results, file_name):\n",
    "    df = results[results.SL == True]\n",
    "    df = df[['A1', 'A2', 'A1_ensembl', 'A2_ensembl', 'ttest_p', 'ttest_p_correct', 'percent_matched_in_paralog', \n",
    "             'WGD', 'either_in_complex', 'in_same_complex', 'copy_number_driven', 'nonsense_mutation_driven']]\n",
    "    df = df.rename(columns={'ttest_p':'ttest_pvalue', 'ttest_p_correct':'corrected_pvalue',\n",
    "                            'percent_matched_in_paralog': 'percent_sequence_identity', 'WGD':'duplication_mode'})\n",
    "    print('copy # driven:', df[df.copy_number_driven==True].shape[0], '/', df.shape[0])\n",
    "    print('nonsense mutation driven:', df[df.nonsense_mutation_driven==True].shape[0], '/', df.shape[0])\n",
    "    display(df[:1])\n",
    "    df.to_csv(get_local_data_path(['supplemental_files'], file_name), index=0)"
   ]
  },
  {
   "cell_type": "code",
   "execution_count": 35,
   "metadata": {
    "tags": []
   },
   "outputs": [
    {
     "name": "stdout",
     "output_type": "stream",
     "text": [
      "copy # driven: 85 / 238\n",
      "nonsense mutation driven: 3 / 238\n"
     ]
    },
    {
     "data": {
      "text/html": [
       "<div>\n",
       "<style scoped>\n",
       "    .dataframe tbody tr th:only-of-type {\n",
       "        vertical-align: middle;\n",
       "    }\n",
       "\n",
       "    .dataframe tbody tr th {\n",
       "        vertical-align: top;\n",
       "    }\n",
       "\n",
       "    .dataframe thead th {\n",
       "        text-align: right;\n",
       "    }\n",
       "</style>\n",
       "<table border=\"1\" class=\"dataframe\">\n",
       "  <thead>\n",
       "    <tr style=\"text-align: right;\">\n",
       "      <th></th>\n",
       "      <th>A1</th>\n",
       "      <th>A2</th>\n",
       "      <th>A1_ensembl</th>\n",
       "      <th>A2_ensembl</th>\n",
       "      <th>ttest_pvalue</th>\n",
       "      <th>corrected_pvalue</th>\n",
       "      <th>percent_sequence_identity</th>\n",
       "      <th>duplication_mode</th>\n",
       "      <th>either_in_complex</th>\n",
       "      <th>in_same_complex</th>\n",
       "      <th>copy_number_driven</th>\n",
       "      <th>nonsense_mutation_driven</th>\n",
       "    </tr>\n",
       "  </thead>\n",
       "  <tbody>\n",
       "    <tr>\n",
       "      <th>9</th>\n",
       "      <td>MIB1</td>\n",
       "      <td>MIB2</td>\n",
       "      <td>ENSG00000101752</td>\n",
       "      <td>ENSG00000197530</td>\n",
       "      <td>0.008902</td>\n",
       "      <td>0.058037</td>\n",
       "      <td>0.392644</td>\n",
       "      <td>SSD</td>\n",
       "      <td>False</td>\n",
       "      <td>False</td>\n",
       "      <td>False</td>\n",
       "      <td>False</td>\n",
       "    </tr>\n",
       "  </tbody>\n",
       "</table>\n",
       "</div>"
      ],
      "text/plain": [
       "     A1    A2       A1_ensembl       A2_ensembl  ttest_pvalue  \\\n",
       "9  MIB1  MIB2  ENSG00000101752  ENSG00000197530      0.008902   \n",
       "\n",
       "   corrected_pvalue  percent_sequence_identity duplication_mode  \\\n",
       "9          0.058037                   0.392644              SSD   \n",
       "\n",
       "   either_in_complex  in_same_complex  copy_number_driven  \\\n",
       "9              False            False               False   \n",
       "\n",
       "   nonsense_mutation_driven  \n",
       "9                     False  "
      ]
     },
     "metadata": {},
     "output_type": "display_data"
    }
   ],
   "source": [
    "annotated_results = pd.read_csv(file_closest_annotated)\n",
    "export_supp_table(annotated_results, 'Table_S4.csv')"
   ]
  },
  {
   "cell_type": "code",
   "execution_count": 36,
   "metadata": {
    "tags": []
   },
   "outputs": [
    {
     "name": "stdout",
     "output_type": "stream",
     "text": [
      "copy # driven: 110 / 375\n",
      "nonsense mutation driven: 3 / 375\n"
     ]
    },
    {
     "data": {
      "text/html": [
       "<div>\n",
       "<style scoped>\n",
       "    .dataframe tbody tr th:only-of-type {\n",
       "        vertical-align: middle;\n",
       "    }\n",
       "\n",
       "    .dataframe tbody tr th {\n",
       "        vertical-align: top;\n",
       "    }\n",
       "\n",
       "    .dataframe thead th {\n",
       "        text-align: right;\n",
       "    }\n",
       "</style>\n",
       "<table border=\"1\" class=\"dataframe\">\n",
       "  <thead>\n",
       "    <tr style=\"text-align: right;\">\n",
       "      <th></th>\n",
       "      <th>A1</th>\n",
       "      <th>A2</th>\n",
       "      <th>A1_ensembl</th>\n",
       "      <th>A2_ensembl</th>\n",
       "      <th>ttest_pvalue</th>\n",
       "      <th>corrected_pvalue</th>\n",
       "      <th>percent_sequence_identity</th>\n",
       "      <th>duplication_mode</th>\n",
       "      <th>either_in_complex</th>\n",
       "      <th>in_same_complex</th>\n",
       "      <th>copy_number_driven</th>\n",
       "      <th>nonsense_mutation_driven</th>\n",
       "    </tr>\n",
       "  </thead>\n",
       "  <tbody>\n",
       "    <tr>\n",
       "      <th>6</th>\n",
       "      <td>CPAMD8</td>\n",
       "      <td>CD109</td>\n",
       "      <td>ENSG00000160111</td>\n",
       "      <td>ENSG00000156535</td>\n",
       "      <td>0.004233</td>\n",
       "      <td>0.05379</td>\n",
       "      <td>0.220497</td>\n",
       "      <td>SSD</td>\n",
       "      <td>False</td>\n",
       "      <td>False</td>\n",
       "      <td>False</td>\n",
       "      <td>False</td>\n",
       "    </tr>\n",
       "  </tbody>\n",
       "</table>\n",
       "</div>"
      ],
      "text/plain": [
       "       A1     A2       A1_ensembl       A2_ensembl  ttest_pvalue  \\\n",
       "6  CPAMD8  CD109  ENSG00000160111  ENSG00000156535      0.004233   \n",
       "\n",
       "   corrected_pvalue  percent_sequence_identity duplication_mode  \\\n",
       "6           0.05379                   0.220497              SSD   \n",
       "\n",
       "   either_in_complex  in_same_complex  copy_number_driven  \\\n",
       "6              False            False               False   \n",
       "\n",
       "   nonsense_mutation_driven  \n",
       "6                     False  "
      ]
     },
     "metadata": {},
     "output_type": "display_data"
    }
   ],
   "source": [
    "annotated_results = pd.read_csv(file_all_annotated)\n",
    "export_supp_table(annotated_results, 'Table_S5.csv')"
   ]
  },
  {
   "cell_type": "code",
   "execution_count": 37,
   "metadata": {},
   "outputs": [],
   "source": [
    "def export_extended_supp_table(results, file_name):\n",
    "    df = results[['A1', 'A2', 'A1_ensembl', 'A2_ensembl', 'SL', 'ttest_p', 'ttest_p_correct', 'percent_matched_in_paralog', \n",
    "             'WGD', 'either_in_complex', 'in_same_complex']]\n",
    "    df = df.rename(columns={'ttest_p':'ttest_pvalue', 'ttest_p_correct':'corrected_pvalue',\n",
    "                            'percent_matched_in_paralog': 'percent_sequence_identity', 'WGD':'duplication_mode'})\n",
    "    df = df.sort_values(['A1','A2']).reset_index(drop=True)\n",
    "    print('# SL:', df[df.SL==True].shape[0], '/', df.shape[0])\n",
    "    display(df[:1])\n",
    "    df.to_csv(get_local_data_path(['supplemental_files'], file_name), index=0)"
   ]
  },
  {
   "cell_type": "code",
   "execution_count": 74,
   "metadata": {},
   "outputs": [
    {
     "name": "stdout",
     "output_type": "stream",
     "text": [
      "# SL: 238 / 1819\n"
     ]
    },
    {
     "data": {
      "text/html": [
       "<div>\n",
       "<style scoped>\n",
       "    .dataframe tbody tr th:only-of-type {\n",
       "        vertical-align: middle;\n",
       "    }\n",
       "\n",
       "    .dataframe tbody tr th {\n",
       "        vertical-align: top;\n",
       "    }\n",
       "\n",
       "    .dataframe thead th {\n",
       "        text-align: right;\n",
       "    }\n",
       "</style>\n",
       "<table border=\"1\" class=\"dataframe\">\n",
       "  <thead>\n",
       "    <tr style=\"text-align: right;\">\n",
       "      <th></th>\n",
       "      <th>A1</th>\n",
       "      <th>A2</th>\n",
       "      <th>A1_ensembl</th>\n",
       "      <th>A2_ensembl</th>\n",
       "      <th>SL</th>\n",
       "      <th>ttest_pvalue</th>\n",
       "      <th>corrected_pvalue</th>\n",
       "      <th>percent_sequence_identity</th>\n",
       "      <th>duplication_mode</th>\n",
       "      <th>either_in_complex</th>\n",
       "      <th>in_same_complex</th>\n",
       "    </tr>\n",
       "  </thead>\n",
       "  <tbody>\n",
       "    <tr>\n",
       "      <th>0</th>\n",
       "      <td>AAK1</td>\n",
       "      <td>BMP2K</td>\n",
       "      <td>ENSG00000115977</td>\n",
       "      <td>ENSG00000138756</td>\n",
       "      <td>False</td>\n",
       "      <td>0.90543</td>\n",
       "      <td>0.965403</td>\n",
       "      <td>0.413111</td>\n",
       "      <td>SSD</td>\n",
       "      <td>False</td>\n",
       "      <td>False</td>\n",
       "    </tr>\n",
       "  </tbody>\n",
       "</table>\n",
       "</div>"
      ],
      "text/plain": [
       "     A1     A2       A1_ensembl       A2_ensembl     SL  ttest_pvalue  \\\n",
       "0  AAK1  BMP2K  ENSG00000115977  ENSG00000138756  False       0.90543   \n",
       "\n",
       "   corrected_pvalue  percent_sequence_identity duplication_mode  \\\n",
       "0          0.965403                   0.413111              SSD   \n",
       "\n",
       "   either_in_complex  in_same_complex  \n",
       "0              False            False  "
      ]
     },
     "metadata": {},
     "output_type": "display_data"
    }
   ],
   "source": [
    "# annotated_results = pd.read_csv(file_closest_annotated)\n",
    "# export_extended_supp_table(annotated_results, 'Table_S4_extended.csv')"
   ]
  },
  {
   "cell_type": "code",
   "execution_count": 75,
   "metadata": {},
   "outputs": [
    {
     "name": "stdout",
     "output_type": "stream",
     "text": [
      "# SL: 375 / 6278\n"
     ]
    },
    {
     "data": {
      "text/html": [
       "<div>\n",
       "<style scoped>\n",
       "    .dataframe tbody tr th:only-of-type {\n",
       "        vertical-align: middle;\n",
       "    }\n",
       "\n",
       "    .dataframe tbody tr th {\n",
       "        vertical-align: top;\n",
       "    }\n",
       "\n",
       "    .dataframe thead th {\n",
       "        text-align: right;\n",
       "    }\n",
       "</style>\n",
       "<table border=\"1\" class=\"dataframe\">\n",
       "  <thead>\n",
       "    <tr style=\"text-align: right;\">\n",
       "      <th></th>\n",
       "      <th>A1</th>\n",
       "      <th>A2</th>\n",
       "      <th>A1_ensembl</th>\n",
       "      <th>A2_ensembl</th>\n",
       "      <th>SL</th>\n",
       "      <th>ttest_pvalue</th>\n",
       "      <th>corrected_pvalue</th>\n",
       "      <th>percent_sequence_identity</th>\n",
       "      <th>duplication_mode</th>\n",
       "      <th>either_in_complex</th>\n",
       "      <th>in_same_complex</th>\n",
       "    </tr>\n",
       "  </thead>\n",
       "  <tbody>\n",
       "    <tr>\n",
       "      <th>0</th>\n",
       "      <td>AAK1</td>\n",
       "      <td>BMP2K</td>\n",
       "      <td>ENSG00000115977</td>\n",
       "      <td>ENSG00000138756</td>\n",
       "      <td>False</td>\n",
       "      <td>0.90543</td>\n",
       "      <td>0.966716</td>\n",
       "      <td>0.413111</td>\n",
       "      <td>SSD</td>\n",
       "      <td>False</td>\n",
       "      <td>False</td>\n",
       "    </tr>\n",
       "  </tbody>\n",
       "</table>\n",
       "</div>"
      ],
      "text/plain": [
       "     A1     A2       A1_ensembl       A2_ensembl     SL  ttest_pvalue  \\\n",
       "0  AAK1  BMP2K  ENSG00000115977  ENSG00000138756  False       0.90543   \n",
       "\n",
       "   corrected_pvalue  percent_sequence_identity duplication_mode  \\\n",
       "0          0.966716                   0.413111              SSD   \n",
       "\n",
       "   either_in_complex  in_same_complex  \n",
       "0              False            False  "
      ]
     },
     "metadata": {},
     "output_type": "display_data"
    }
   ],
   "source": [
    "# annotated_results = pd.read_csv(file_all_annotated)\n",
    "# export_extended_supp_table(annotated_results, 'Table_S5_extended.csv')"
   ]
  }
 ],
 "metadata": {
  "kernelspec": {
   "display_name": "Python 3.6.5 64-bit ('paralogEssential': conda)",
   "language": "python",
   "name": "python36564bitparalogessentialconda75906716dc9144fe8daa71c4b9fe77f3"
  },
  "language_info": {
   "codemirror_mode": {
    "name": "ipython",
    "version": 3
   },
   "file_extension": ".py",
   "mimetype": "text/x-python",
   "name": "python",
   "nbconvert_exporter": "python",
   "pygments_lexer": "ipython3",
   "version": "3.6.5"
  }
 },
 "nbformat": 4,
 "nbformat_minor": 2
}
