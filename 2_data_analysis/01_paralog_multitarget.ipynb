{
 "cells": [
  {
   "cell_type": "markdown",
   "metadata": {},
   "source": [
    "## Paralogs affected by multi-targeting sgRNAs\n",
    "\n",
    "**Inputs**:\n",
    "* Paralog summary (from `process_ensembl_paralogs`)\n",
    "* Gene sgrna status (from `filter_multi_target_guides`)\n",
    "* Dropped genes (from `ceres_post_processing`)"
   ]
  },
  {
   "cell_type": "code",
   "execution_count": 1,
   "metadata": {
    "tags": []
   },
   "outputs": [],
   "source": [
    "import pandas as pd\n",
    "import numpy as np\n",
    "import scipy.stats as stats\n",
    "import os\n",
    "import matplotlib.pyplot as plt\n",
    "import matplotlib as mpl\n",
    "import seaborn as sns\n",
    "\n",
    "%load_ext autoreload\n",
    "%autoreload 1\n",
    "from graphing_utils import *\n",
    "%aimport graphing_utils\n",
    "\n",
    "get_local_data_path = lambda folders, fname: os.path.normpath('../data/' +'/'.join(folders) +'/'+ fname)\n",
    "\n",
    "file_paralogs = get_local_data_path(['processed', 'ensembl93'], 'paralog_summary.csv')\n",
    "file_gene_guide_status = get_local_data_path(['processed', 'depmap19Q1'], 'gene_sgrna_status.csv')\n",
    "file_dropped_genes = get_local_data_path(['processed', 'depmap19Q1'], 'droppped_genes_11_07_19.csv')"
   ]
  },
  {
   "cell_type": "code",
   "execution_count": 2,
   "metadata": {},
   "outputs": [
    {
     "data": {
      "text/html": [
       "<div>\n",
       "<style scoped>\n",
       "    .dataframe tbody tr th:only-of-type {\n",
       "        vertical-align: middle;\n",
       "    }\n",
       "\n",
       "    .dataframe tbody tr th {\n",
       "        vertical-align: top;\n",
       "    }\n",
       "\n",
       "    .dataframe thead th {\n",
       "        text-align: right;\n",
       "    }\n",
       "</style>\n",
       "<table border=\"1\" class=\"dataframe\">\n",
       "  <thead>\n",
       "    <tr style=\"text-align: right;\">\n",
       "      <th></th>\n",
       "      <th>ensembl_id</th>\n",
       "      <th>symbol</th>\n",
       "      <th>entrez_id</th>\n",
       "      <th>percent_matched_in_paralog</th>\n",
       "      <th>num_paralogs</th>\n",
       "      <th>WGD</th>\n",
       "    </tr>\n",
       "  </thead>\n",
       "  <tbody>\n",
       "    <tr>\n",
       "      <th>0</th>\n",
       "      <td>ENSG00000000003</td>\n",
       "      <td>TSPAN6</td>\n",
       "      <td>7105</td>\n",
       "      <td>0.583673</td>\n",
       "      <td>8</td>\n",
       "      <td>WGD</td>\n",
       "    </tr>\n",
       "  </tbody>\n",
       "</table>\n",
       "</div>"
      ],
      "text/plain": [
       "        ensembl_id  symbol  entrez_id  percent_matched_in_paralog  \\\n",
       "0  ENSG00000000003  TSPAN6       7105                    0.583673   \n",
       "\n",
       "   num_paralogs  WGD  \n",
       "0             8  WGD  "
      ]
     },
     "execution_count": 2,
     "metadata": {},
     "output_type": "execute_result"
    }
   ],
   "source": [
    "paralog_data = pd.read_csv(file_paralogs, index_col=0).rename(columns={'A1_entrez':'entrez_id'})\n",
    "paralog_data[:1]"
   ]
  },
  {
   "cell_type": "code",
   "execution_count": 3,
   "metadata": {},
   "outputs": [
    {
     "data": {
      "text/html": [
       "<div>\n",
       "<style scoped>\n",
       "    .dataframe tbody tr th:only-of-type {\n",
       "        vertical-align: middle;\n",
       "    }\n",
       "\n",
       "    .dataframe tbody tr th {\n",
       "        vertical-align: top;\n",
       "    }\n",
       "\n",
       "    .dataframe thead th {\n",
       "        text-align: right;\n",
       "    }\n",
       "</style>\n",
       "<table border=\"1\" class=\"dataframe\">\n",
       "  <thead>\n",
       "    <tr style=\"text-align: right;\">\n",
       "      <th></th>\n",
       "      <th>entrez_id</th>\n",
       "      <th>multi_target_sgrna</th>\n",
       "    </tr>\n",
       "  </thead>\n",
       "  <tbody>\n",
       "    <tr>\n",
       "      <th>0</th>\n",
       "      <td>1</td>\n",
       "      <td>False</td>\n",
       "    </tr>\n",
       "  </tbody>\n",
       "</table>\n",
       "</div>"
      ],
      "text/plain": [
       "   entrez_id  multi_target_sgrna\n",
       "0          1               False"
      ]
     },
     "execution_count": 3,
     "metadata": {},
     "output_type": "execute_result"
    }
   ],
   "source": [
    "gene_guide_status_raw = pd.read_csv(file_gene_guide_status)\n",
    "gene_guide_status_raw[:1]"
   ]
  },
  {
   "cell_type": "markdown",
   "metadata": {},
   "source": [
    "### Paralogs targetted by multi-target guides"
   ]
  },
  {
   "cell_type": "code",
   "execution_count": 4,
   "metadata": {},
   "outputs": [
    {
     "data": {
      "text/html": [
       "<div>\n",
       "<style scoped>\n",
       "    .dataframe tbody tr th:only-of-type {\n",
       "        vertical-align: middle;\n",
       "    }\n",
       "\n",
       "    .dataframe tbody tr th {\n",
       "        vertical-align: top;\n",
       "    }\n",
       "\n",
       "    .dataframe thead th {\n",
       "        text-align: right;\n",
       "    }\n",
       "</style>\n",
       "<table border=\"1\" class=\"dataframe\">\n",
       "  <thead>\n",
       "    <tr style=\"text-align: right;\">\n",
       "      <th></th>\n",
       "      <th>entrez_id</th>\n",
       "      <th>multi_target_sgrna</th>\n",
       "      <th>num_paralogs</th>\n",
       "      <th>percent_matched_in_paralog</th>\n",
       "      <th>is_paralog</th>\n",
       "    </tr>\n",
       "  </thead>\n",
       "  <tbody>\n",
       "    <tr>\n",
       "      <th>0</th>\n",
       "      <td>1</td>\n",
       "      <td>False</td>\n",
       "      <td>0.0</td>\n",
       "      <td>0.0</td>\n",
       "      <td>False</td>\n",
       "    </tr>\n",
       "  </tbody>\n",
       "</table>\n",
       "</div>"
      ],
      "text/plain": [
       "   entrez_id  multi_target_sgrna  num_paralogs  percent_matched_in_paralog  \\\n",
       "0          1               False           0.0                         0.0   \n",
       "\n",
       "   is_paralog  \n",
       "0       False  "
      ]
     },
     "metadata": {},
     "output_type": "display_data"
    }
   ],
   "source": [
    "# Multi-targeting guides vs. paralog genes\n",
    "gene_guide_status = pd.merge(gene_guide_status_raw, paralog_data[['num_paralogs', 'entrez_id', 'percent_matched_in_paralog']], \n",
    "                                 on='entrez_id', how='left')\n",
    "gene_guide_status = gene_guide_status.fillna({'num_paralogs':0, 'percent_matched_in_paralog':0})\n",
    "gene_guide_status = gene_guide_status.assign(is_paralog = gene_guide_status.num_paralogs > 0)\n",
    "display(gene_guide_status[:1])"
   ]
  },
  {
   "cell_type": "code",
   "execution_count": 5,
   "metadata": {
    "tags": []
   },
   "outputs": [
    {
     "name": "stdout",
     "output_type": "stream",
     "text": [
      "% paralogs multi-targeted: 0.20807425430296478\n",
      "% singletons multi-targeted: 0.06653708133971292\n",
      "% all multi-targeted: 0.15484959235310655\n",
      "Paralogs enriched for multi-targeting? FET: (3.6861008116277048, 2.950261656030519e-156)\n"
     ]
    },
    {
     "data": {
      "text/plain": [
       "Text(0, 0.5, 'Proportion')"
      ]
     },
     "execution_count": 5,
     "metadata": {},
     "output_type": "execute_result"
    },
    {
     "data": {
      "image/png": "[encoded data removed]",
      "text/plain": [
       "<Figure size 216x216 with 1 Axes>"
      ]
     },
     "metadata": {
      "needs_background": "light"
     },
     "output_type": "display_data"
    }
   ],
   "source": [
    "# A multi-target guide could target both a paralog and a singleton\n",
    "# Counts for each gene type (paralog v. singleton) is number of genes targeted by at least 1 multi-target vs. no multi-targets\n",
    "ctab = pd.crosstab(gene_guide_status.multi_target_sgrna, gene_guide_status.is_paralog, dropna=False)\n",
    "print('% paralogs multi-targeted:', ctab.loc[True, True] / ctab.loc[:, True].sum())\n",
    "print('% singletons multi-targeted:', ctab.loc[True, False] / ctab.loc[:, False].sum())\n",
    "print('% all multi-targeted:', ctab.loc[True, :].sum() / ctab.sum().sum())\n",
    "assert(ctab.sum().sum() == gene_guide_status.entrez_id.nunique())\n",
    "print('Paralogs enriched for multi-targeting? FET:', stats.fisher_exact(ctab))\n",
    "\n",
    "f, ax = plt.subplots(1, 1, figsize=(3,3))\n",
    "ctab.T.apply(lambda x: x/x.sum(), axis=1).plot.bar(stacked=True, ax=ax, linewidth=0, rot=0, color=['silver', 'grey'])\n",
    "ax.legend(title='Multi-targeted'); ax.set_xlabel('Paralog gene'); ax.set_ylabel('Proportion')"
   ]
  },
  {
   "cell_type": "code",
   "execution_count": 6,
   "metadata": {},
   "outputs": [
    {
     "data": {
      "image/png": "[encoded data removed]",
      "text/plain": [
       "<Figure size 432x216 with 1 Axes>"
      ]
     },
     "metadata": {
      "needs_background": "light"
     },
     "output_type": "display_data"
    }
   ],
   "source": [
    "bins = [0, 0.2, 0.3, 0.4, 0.5, 0.6, 0.7, 0.8, 0.9, 1.1]\n",
    "labels = ['<20', '20-29', '30-39', '40-49', '50-59', '60-69', '70-79', '80-89', '  90-100']\n",
    "seq_id_bins = pd.cut(gene_guide_status.percent_matched_in_paralog, bins=bins, labels=labels, include_lowest=True, right=False)\n",
    "df = gene_guide_status.assign(seq_id_bin = seq_id_bins)\n",
    "df = df.groupby(['entrez_id', 'seq_id_bin']).multi_target_sgrna.max().reset_index()\n",
    "\n",
    "f, ax = plt.subplots(1, 1, figsize=(6,3))\n",
    "ctab = pd.crosstab(df.multi_target_sgrna, df.seq_id_bin)\n",
    "ctab.T.apply(lambda x: x/x.sum()*100, axis=1).loc[:, True].plot.bar(stacked=True, ax=ax, linewidth=0, rot=0, \n",
    "                                                                    color=['silver'], width=0.85)\n",
    "ax.grid(axis='y', linewidth=0.5)\n",
    "ax.set_xlabel('% of protein sequence matched in closest paralog')\n",
    "_ = ax.set_ylabel('% of genes targeted by\\n>=1 multi-target sgRNA')\n",
    "\n",
    "#plt.savefig('../figures/fig_S1A.svg', bbox_inches='tight', dpi=300)"
   ]
  },
  {
   "cell_type": "markdown",
   "metadata": {},
   "source": [
    "### Dropped genes"
   ]
  },
  {
   "cell_type": "code",
   "execution_count": 8,
   "metadata": {},
   "outputs": [
    {
     "data": {
      "text/html": [
       "<div>\n",
       "<style scoped>\n",
       "    .dataframe tbody tr th:only-of-type {\n",
       "        vertical-align: middle;\n",
       "    }\n",
       "\n",
       "    .dataframe tbody tr th {\n",
       "        vertical-align: top;\n",
       "    }\n",
       "\n",
       "    .dataframe thead th {\n",
       "        text-align: right;\n",
       "    }\n",
       "</style>\n",
       "<table border=\"1\" class=\"dataframe\">\n",
       "  <thead>\n",
       "    <tr style=\"text-align: right;\">\n",
       "      <th></th>\n",
       "      <th>entrez_id</th>\n",
       "      <th>dropped</th>\n",
       "    </tr>\n",
       "  </thead>\n",
       "  <tbody>\n",
       "    <tr>\n",
       "      <th>0</th>\n",
       "      <td>1</td>\n",
       "      <td>False</td>\n",
       "    </tr>\n",
       "  </tbody>\n",
       "</table>\n",
       "</div>"
      ],
      "text/plain": [
       "   entrez_id  dropped\n",
       "0          1    False"
      ]
     },
     "execution_count": 8,
     "metadata": {},
     "output_type": "execute_result"
    }
   ],
   "source": [
    "dropped_genes = pd.read_csv(file_dropped_genes)\n",
    "dropped_genes[:1]"
   ]
  },
  {
   "cell_type": "code",
   "execution_count": 9,
   "metadata": {
    "tags": []
   },
   "outputs": [
    {
     "name": "stdout",
     "output_type": "stream",
     "text": [
      "% of paralogs that were dropped: 0.07909090909090909\n",
      "% of singletons that were dropped: 0.019010259505129752\n"
     ]
    },
    {
     "data": {
      "text/html": [
       "<div>\n",
       "<style scoped>\n",
       "    .dataframe tbody tr th:only-of-type {\n",
       "        vertical-align: middle;\n",
       "    }\n",
       "\n",
       "    .dataframe tbody tr th {\n",
       "        vertical-align: top;\n",
       "    }\n",
       "\n",
       "    .dataframe thead th {\n",
       "        text-align: right;\n",
       "    }\n",
       "</style>\n",
       "<table border=\"1\" class=\"dataframe\">\n",
       "  <thead>\n",
       "    <tr style=\"text-align: right;\">\n",
       "      <th>seq_id_bin</th>\n",
       "      <th>&lt;20</th>\n",
       "      <th>20-29</th>\n",
       "      <th>30-39</th>\n",
       "      <th>40-49</th>\n",
       "      <th>50-59</th>\n",
       "      <th>60-69</th>\n",
       "      <th>70-79</th>\n",
       "      <th>80-89</th>\n",
       "      <th>90-100</th>\n",
       "    </tr>\n",
       "    <tr>\n",
       "      <th>dropped</th>\n",
       "      <th></th>\n",
       "      <th></th>\n",
       "      <th></th>\n",
       "      <th></th>\n",
       "      <th></th>\n",
       "      <th></th>\n",
       "      <th></th>\n",
       "      <th></th>\n",
       "      <th></th>\n",
       "    </tr>\n",
       "  </thead>\n",
       "  <tbody>\n",
       "    <tr>\n",
       "      <th>True</th>\n",
       "      <td>126</td>\n",
       "      <td>13</td>\n",
       "      <td>19</td>\n",
       "      <td>23</td>\n",
       "      <td>56</td>\n",
       "      <td>62</td>\n",
       "      <td>104</td>\n",
       "      <td>152</td>\n",
       "      <td>441</td>\n",
       "    </tr>\n",
       "    <tr>\n",
       "      <th>False</th>\n",
       "      <td>6502</td>\n",
       "      <td>1388</td>\n",
       "      <td>1966</td>\n",
       "      <td>2181</td>\n",
       "      <td>1939</td>\n",
       "      <td>1360</td>\n",
       "      <td>698</td>\n",
       "      <td>381</td>\n",
       "      <td>217</td>\n",
       "    </tr>\n",
       "  </tbody>\n",
       "</table>\n",
       "</div>"
      ],
      "text/plain": [
       "seq_id_bin   <20  20-29  30-39  40-49  50-59  60-69  70-79  80-89    90-100\n",
       "dropped                                                                    \n",
       "True         126     13     19     23     56     62    104    152       441\n",
       "False       6502   1388   1966   2181   1939   1360    698    381       217"
      ]
     },
     "metadata": {},
     "output_type": "display_data"
    },
    {
     "data": {
      "image/png": "[encoded data removed]",
      "text/plain": [
       "<Figure size 432x252 with 1 Axes>"
      ]
     },
     "metadata": {
      "needs_background": "light"
     },
     "output_type": "display_data"
    }
   ],
   "source": [
    "df = pd.merge(dropped_genes, paralog_data[['entrez_id', 'percent_matched_in_paralog']], how='left').fillna({'percent_matched_in_paralog':0})\n",
    "print('% of paralogs that were dropped:', \n",
    "      df[(df.dropped==True) & (df.percent_matched_in_paralog>0)].shape[0]/df[df.percent_matched_in_paralog>0].shape[0])\n",
    "print('% of singletons that were dropped:', \n",
    "      df[(df.dropped==True) & (df.percent_matched_in_paralog==0)].shape[0]/df[df.percent_matched_in_paralog==0].shape[0])\n",
    "\n",
    "bins = [0, 0.2, 0.3, 0.4, 0.5, 0.6, 0.7, 0.8, 0.9, 1.1]\n",
    "labels = ['<20', '20-29', '30-39', '40-49', '50-59', '60-69', '70-79', '80-89', '  90-100']\n",
    "seq_id_bins = pd.cut(df.percent_matched_in_paralog, bins=bins, labels=labels, include_lowest=True, right=False)\n",
    "df = df.assign(seq_id_bin = seq_id_bins)\n",
    "ctab = pd.crosstab(df.dropped, df.seq_id_bin).iloc[[1,0], :]\n",
    "display(ctab)\n",
    "\n",
    "f, ax = plt.subplots(1, 1, figsize=(6,3.5))\n",
    "ctab.T.plot.bar(stacked=True, ax=ax, linewidth=0, rot=0, color=['grey','silver'], width=0.85)\n",
    "ax.grid(axis='y', linewidth=0.5)\n",
    "ax.legend(title='Gene dropped')\n",
    "ax.set_xlabel('% of protein sequence matched in closest paralog')\n",
    "ax.set_ylabel('Number of genes')\n",
    "\n",
    "#plt.savefig('../figures/fig_S1B.svg', bbox_inches='tight', dpi=300)"
   ]
  }
 ],
 "metadata": {
  "kernelspec": {
   "display_name": "Python 3",
   "language": "python",
   "name": "python3"
  },
  "language_info": {
   "codemirror_mode": {
    "name": "ipython",
    "version": 3
   },
   "file_extension": ".py",
   "mimetype": "text/x-python",
   "name": "python",
   "nbconvert_exporter": "python",
   "pygments_lexer": "ipython3",
   "version": "3.7.6"
  }
 },
 "nbformat": 4,
 "nbformat_minor": 2
}
