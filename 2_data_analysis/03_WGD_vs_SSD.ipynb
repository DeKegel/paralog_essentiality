{
 "cells": [
  {
   "cell_type": "markdown",
   "metadata": {},
   "source": [
    "## Compare essentiality of WGD vs. SSD paralogs\n",
    "\n",
    "**Input:** Gene summary file\n",
    "\n",
    "Notes:\n",
    "* Whole genome duplicates are annotated based on whether they appear in the set from Makino and McLysaght and/or the strict set of Ohnologs from Singh et al  \n",
    "* All paralog pairs that don't appear in either of those sets are called SSDs"
   ]
  },
  {
   "cell_type": "code",
   "execution_count": 1,
   "metadata": {
    "tags": []
   },
   "outputs": [],
   "source": [
    "import pandas as pd\n",
    "import os\n",
    "import scipy.stats as stats\n",
    "import matplotlib as mpl\n",
    "import matplotlib.pyplot as plt\n",
    "import numpy as np\n",
    "import seaborn as sns\n",
    "\n",
    "%load_ext autoreload\n",
    "%autoreload 1\n",
    "from graphing_utils import *\n",
    "%aimport graphing_utils\n",
    "\n",
    "get_local_data_path = lambda folders, fname: os.path.normpath('../data/'+'/'.join(folders) +'/'+fname)\n",
    "\n",
    "file_gene_summary = get_local_data_path(['processed', 'results'], 'gene_summary_0.47.csv')"
   ]
  },
  {
   "cell_type": "code",
   "execution_count": 3,
   "metadata": {
    "tags": []
   },
   "outputs": [
    {
     "name": "stdout",
     "output_type": "stream",
     "text": [
      "Num paralogs:  10130\n",
      "Paralogs that are WGDs: 64.44%\n",
      "Paralogs that are SSDs: 35.56%\n"
     ]
    },
    {
     "data": {
      "text/html": [
       "<div>\n",
       "<style scoped>\n",
       "    .dataframe tbody tr th:only-of-type {\n",
       "        vertical-align: middle;\n",
       "    }\n",
       "\n",
       "    .dataframe tbody tr th {\n",
       "        vertical-align: top;\n",
       "    }\n",
       "\n",
       "    .dataframe thead th {\n",
       "        text-align: right;\n",
       "    }\n",
       "</style>\n",
       "<table border=\"1\" class=\"dataframe\">\n",
       "  <thead>\n",
       "    <tr style=\"text-align: right;\">\n",
       "      <th></th>\n",
       "      <th>entrez_id</th>\n",
       "      <th>essential_percent</th>\n",
       "      <th>category</th>\n",
       "      <th>ensembl_id</th>\n",
       "      <th>symbol</th>\n",
       "      <th>percent_matched_in_paralog</th>\n",
       "      <th>num_paralogs</th>\n",
       "      <th>WGD</th>\n",
       "    </tr>\n",
       "  </thead>\n",
       "  <tbody>\n",
       "    <tr>\n",
       "      <th>0</th>\n",
       "      <td>8036</td>\n",
       "      <td>0.069892</td>\n",
       "      <td>Sometimes</td>\n",
       "      <td>ENSG00000108061</td>\n",
       "      <td>SHOC2</td>\n",
       "      <td>0.254296</td>\n",
       "      <td>2</td>\n",
       "      <td>SSD</td>\n",
       "    </tr>\n",
       "  </tbody>\n",
       "</table>\n",
       "</div>"
      ],
      "text/plain": [
       "   entrez_id  essential_percent   category       ensembl_id symbol  \\\n",
       "0       8036           0.069892  Sometimes  ENSG00000108061  SHOC2   \n",
       "\n",
       "   percent_matched_in_paralog  num_paralogs  WGD  \n",
       "0                    0.254296             2  SSD  "
      ]
     },
     "execution_count": 3,
     "metadata": {},
     "output_type": "execute_result"
    }
   ],
   "source": [
    "gene_data = pd.read_csv(file_gene_summary)\n",
    "print('Num paralogs: ', gene_data[gene_data.num_paralogs > 0].shape[0])\n",
    "print('Paralogs that are WGDs: %.2f%%' % (sum(gene_data.WGD=='WGD')/sum(gene_data.num_paralogs > 0)*100))\n",
    "print('Paralogs that are SSDs: %.2f%%' % (sum(gene_data.WGD=='SSD')/sum(gene_data.num_paralogs > 0)*100))\n",
    "gene_data[:1]"
   ]
  },
  {
   "cell_type": "markdown",
   "metadata": {},
   "source": [
    "### Test WGD and SSD subsets of paralogs independently\n",
    "#### 1. WGD subset"
   ]
  },
  {
   "cell_type": "code",
   "execution_count": 4,
   "metadata": {
    "tags": []
   },
   "outputs": [
    {
     "name": "stdout",
     "output_type": "stream",
     "text": [
      "WGD subset:\n",
      "Are paralogs enriched in never essentials? FET: (1.6287982895864086, 4.887248314711825e-43)\n",
      "Are singletons enriched in broadly essentials? FET: (0.0998814614465493, 1.7352186230114818e-151)\n"
     ]
    }
   ],
   "source": [
    "wgd_data = gene_data[(gene_data.num_paralogs == 0) | (gene_data.WGD == 'WGD')]\n",
    "df = wgd_data.assign(is_paralog = wgd_data.num_paralogs > 0)\n",
    "df = df.assign(is_never = (df.category == 'Never'), is_broadly = (df.category == 'Broadly'))\n",
    "ctab = pd.crosstab(df.is_paralog, df.is_never)\n",
    "assert(ctab.sum().sum() == df.shape[0])\n",
    "print('WGD subset:')\n",
    "print('Are paralogs enriched in never essentials? FET:', stats.fisher_exact(ctab))\n",
    "ctab = pd.crosstab(~df.is_paralog, df.is_broadly).iloc[[1,0],:]\n",
    "assert(ctab.sum().sum() == df.shape[0])\n",
    "print('Are singletons enriched in broadly essentials? FET:', stats.fisher_exact(ctab))"
   ]
  },
  {
   "cell_type": "markdown",
   "metadata": {},
   "source": [
    "#### 2. SSD subset"
   ]
  },
  {
   "cell_type": "code",
   "execution_count": 5,
   "metadata": {
    "tags": []
   },
   "outputs": [
    {
     "name": "stdout",
     "output_type": "stream",
     "text": [
      "SSD subset:\n",
      "Are paralogs enriched in never essentials? FET: (1.8790889371144661, 5.146200305254311e-51)\n",
      "Are singletons enriched in broadly essentials? FET: (0.2824949439943087, 1.483620433731856e-50)\n"
     ]
    }
   ],
   "source": [
    "ssd_data = gene_data[(gene_data.num_paralogs == 0) | (gene_data.WGD == 'SSD')]\n",
    "df = ssd_data.assign(is_paralog = ssd_data.num_paralogs > 0)\n",
    "df = df.assign(is_never = (df.category == 'Never'), is_broadly = (df.category == 'Broadly'))\n",
    "ctab = pd.crosstab(df.is_paralog, df.is_never)\n",
    "assert(ctab.sum().sum() == df.shape[0])\n",
    "print('SSD subset:')\n",
    "print('Are paralogs enriched in never essentials? FET:', stats.fisher_exact(ctab))\n",
    "ctab = pd.crosstab(~df.is_paralog, df.is_broadly).iloc[[1,0],:]\n",
    "assert(ctab.sum().sum() == df.shape[0])\n",
    "print('Are singletons enriched in broadly essentials? FET:', stats.fisher_exact(ctab))"
   ]
  },
  {
   "cell_type": "markdown",
   "metadata": {},
   "source": [
    "### Compare essentiality for WGDs and SSDs "
   ]
  },
  {
   "cell_type": "code",
   "execution_count": 6,
   "metadata": {
    "tags": []
   },
   "outputs": [
    {
     "name": "stdout",
     "output_type": "stream",
     "text": [
      "WGD vs. SSD:\n",
      "Are WGDs enriched/depleted in Broadly essential genes?\n",
      "FET: OR = 0.35 pval = 1.779964462737648e-14\n",
      "Are WGDs enriched/depleted in Sometimes essential genes?\n",
      "FET: OR = 1.27 pval = 6.649926887940356e-09\n",
      "Are WGDs enriched/depleted in Never essential genes?\n",
      "FET: OR = 0.87 pval = 0.0006042787218205547\n"
     ]
    }
   ],
   "source": [
    "def do_fet_for_wgd_vs_ssd(category):\n",
    "    df = gene_data[gene_data.num_paralogs > 0] # Drop singletons\n",
    "    df = df.assign(is_category = (df.category == category))\n",
    "    ctab = pd.crosstab(df.is_category, df.WGD, dropna=False)\n",
    "    assert(ctab.sum().sum() == df.shape[0])\n",
    "    fet = stats.fisher_exact(ctab)\n",
    "    print('Are WGDs enriched/depleted in', category, 'essential genes?')\n",
    "    print('FET: OR =', np.round(fet[0],2), 'pval =', fet[1])\n",
    "    #display(ctab)\n",
    "\n",
    "print('WGD vs. SSD:')\n",
    "do_fet_for_wgd_vs_ssd(\"Broadly\")\n",
    "do_fet_for_wgd_vs_ssd(\"Sometimes\")\n",
    "do_fet_for_wgd_vs_ssd(\"Never\")"
   ]
  },
  {
   "cell_type": "code",
   "execution_count": 12,
   "metadata": {},
   "outputs": [
    {
     "data": {
      "text/html": [
       "<div>\n",
       "<style scoped>\n",
       "    .dataframe tbody tr th:only-of-type {\n",
       "        vertical-align: middle;\n",
       "    }\n",
       "\n",
       "    .dataframe tbody tr th {\n",
       "        vertical-align: top;\n",
       "    }\n",
       "\n",
       "    .dataframe thead th {\n",
       "        text-align: right;\n",
       "    }\n",
       "</style>\n",
       "<table border=\"1\" class=\"dataframe\">\n",
       "  <thead>\n",
       "    <tr style=\"text-align: right;\">\n",
       "      <th>category</th>\n",
       "      <th>Never</th>\n",
       "      <th>Sometimes</th>\n",
       "      <th>Broadly</th>\n",
       "    </tr>\n",
       "    <tr>\n",
       "      <th>WGD</th>\n",
       "      <th></th>\n",
       "      <th></th>\n",
       "      <th></th>\n",
       "    </tr>\n",
       "  </thead>\n",
       "  <tbody>\n",
       "    <tr>\n",
       "      <th>WGD</th>\n",
       "      <td>0.514400</td>\n",
       "      <td>0.471814</td>\n",
       "      <td>0.013787</td>\n",
       "    </tr>\n",
       "    <tr>\n",
       "      <th>SSD</th>\n",
       "      <td>0.549972</td>\n",
       "      <td>0.411993</td>\n",
       "      <td>0.038034</td>\n",
       "    </tr>\n",
       "    <tr>\n",
       "      <th>Singleton</th>\n",
       "      <td>0.394072</td>\n",
       "      <td>0.483151</td>\n",
       "      <td>0.122777</td>\n",
       "    </tr>\n",
       "  </tbody>\n",
       "</table>\n",
       "</div>"
      ],
      "text/plain": [
       "category      Never  Sometimes   Broadly\n",
       "WGD                                     \n",
       "WGD        0.514400   0.471814  0.013787\n",
       "SSD        0.549972   0.411993  0.038034\n",
       "Singleton  0.394072   0.483151  0.122777"
      ]
     },
     "metadata": {},
     "output_type": "display_data"
    }
   ],
   "source": [
    "# Generate contingency table\n",
    "tab = pd.crosstab(gene_data.category, gene_data.WGD)\n",
    "assert(tab.sum().sum() == gene_data.shape[0])\n",
    "tab = tab.loc[['Never', 'Sometimes', 'Broadly'], ['WGD', 'SSD', 'Singleton']] # order how I want them\n",
    "tab = tab.apply(lambda x: x/sum(x.values)).T\n",
    "display(tab)"
   ]
  },
  {
   "cell_type": "code",
   "execution_count": 19,
   "metadata": {},
   "outputs": [
    {
     "data": {
      "image/png": "[encoded data removed]",
      "text/plain": [
       "<Figure size 201.6x374.4 with 2 Axes>"
      ]
     },
     "metadata": {
      "needs_background": "light"
     },
     "output_type": "display_data"
    }
   ],
   "source": [
    "f, (ax1, ax2) = plt.subplots(2, 1, figsize=(2.8, 5.2), gridspec_kw={'height_ratios': [2, 1]})\n",
    "\n",
    "# 1/ top - proportions of essentiality categories\n",
    "tab.plot.bar(stacked=True, rot=0, ax=ax1, color=get_color_palette(1), width=0.85)\n",
    "ax1.set_ylabel('Proportion of genes in category')\n",
    "ax1.set_xlabel(''); ax1.set_xticks([])\n",
    "# ax1.legend(loc='upper right', bbox_to_anchor=(1.02,-0.8), fontsize=11,\n",
    "#            labels=['Never essential', 'Sometimes essential', 'Broadly essential'])\n",
    "ax1.legend(loc='upper right', bbox_to_anchor=(1.85,1),\n",
    "           labels=['Never\\nessential', 'Sometimes\\nessential', 'Broadly\\nessential'])\n",
    "\n",
    "# 2/ bottom - proportion of broadly essential genes\n",
    "tab.loc[:, 'Broadly':].plot.bar(ax=ax2, rot=0, color=get_color_palette(3), width=0.85)\n",
    "ax2.set_ylabel('Broadly essential\\nproportion'); ax2.set_xlabel('')\n",
    "ax2.legend().remove()\n",
    "ax2.xaxis.set_tick_params(labelsize=mpl.rcParams['axes.labelsize'])\n",
    "ax2.grid(axis='y')\n",
    "# plt.savefig('../figures/fig_4AB.svg', bbox_inches='tight', dpi=300)"
   ]
  }
 ],
 "metadata": {
  "kernelspec": {
   "display_name": "Python 3",
   "language": "python",
   "name": "python3"
  },
  "language_info": {
   "codemirror_mode": {
    "name": "ipython",
    "version": 3
   },
   "file_extension": ".py",
   "mimetype": "text/x-python",
   "name": "python",
   "nbconvert_exporter": "python",
   "pygments_lexer": "ipython3",
   "version": "3.7.6"
  }
 },
 "nbformat": 4,
 "nbformat_minor": 2
}
