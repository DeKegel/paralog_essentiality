{
 "cells": [
  {
   "cell_type": "markdown",
   "metadata": {},
   "source": [
    "## Gene summary w/ % essential and paralogy\n",
    "**Inputs:** \n",
    "* Gene scores - the results of running CERES\n",
    "* Paralog genes\n",
    "* Calculated cutoff score (-0.47)\n",
    "\n",
    "**Outputs:**\n",
    "* Binary calls: for each gene in each cell lines, whether the gene is essential in that cell line (0/1)\n",
    "* Gene summary: % of cell lines each gene is essential in, using <= -0.47 (previously calculated cutoff scores) as essential + gene paralogy info"
   ]
  },
  {
   "cell_type": "code",
   "execution_count": 2,
   "metadata": {
    "tags": []
   },
   "outputs": [
    {
     "name": "stdout",
     "output_type": "stream",
     "text": [
      "The autoreload extension is already loaded. To reload it, use:\n",
      "  %reload_ext autoreload\n"
     ]
    }
   ],
   "source": [
    "import pandas as pd\n",
    "import numpy as np\n",
    "import os\n",
    "import re\n",
    "import seaborn as sns\n",
    "import sys\n",
    "sys.path.append('../2_data_analysis')\n",
    "\n",
    "%load_ext autoreload\n",
    "%autoreload 1\n",
    "from graphing_utils import *\n",
    "%aimport graphing_utils\n",
    "\n",
    "get_local_data_path = lambda folders, fname: os.path.normpath('../data/' +'/'.join(folders) +'/'+ fname)\n",
    "\n",
    "# Inputs\n",
    "file_gene_scores = get_local_data_path(['processed','depmap19Q1'], 'gene_scores_11_07_19.csv')\n",
    "file_paralogs = get_local_data_path(['processed','ensembl93'], 'paralog_summary.csv')\n",
    "cutoff_score = -0.47\n",
    "\n",
    "# Output\n",
    "file_binary_scores = get_local_data_path(['processed','depmap19Q1'], 'binary_scores_11_07_19.csv')\n",
    "file_gene_summary = get_local_data_path(['processed','results'],'gene_summary_'+str(abs(cutoff_score))+'.csv')"
   ]
  },
  {
   "cell_type": "code",
   "execution_count": 3,
   "metadata": {
    "tags": []
   },
   "outputs": [
    {
     "name": "stdout",
     "output_type": "stream",
     "text": [
      "Num cell lines: 558\n",
      "Num genes: 16540\n"
     ]
    },
    {
     "data": {
      "text/html": [
       "<div>\n",
       "<style scoped>\n",
       "    .dataframe tbody tr th:only-of-type {\n",
       "        vertical-align: middle;\n",
       "    }\n",
       "\n",
       "    .dataframe tbody tr th {\n",
       "        vertical-align: top;\n",
       "    }\n",
       "\n",
       "    .dataframe thead th {\n",
       "        text-align: right;\n",
       "    }\n",
       "</style>\n",
       "<table border=\"1\" class=\"dataframe\">\n",
       "  <thead>\n",
       "    <tr style=\"text-align: right;\">\n",
       "      <th></th>\n",
       "      <th>8036</th>\n",
       "      <th>55967</th>\n",
       "      <th>55153</th>\n",
       "      <th>25940</th>\n",
       "      <th>23224</th>\n",
       "      <th>116071</th>\n",
       "      <th>114803</th>\n",
       "      <th>1967</th>\n",
       "      <th>23014</th>\n",
       "      <th>29957</th>\n",
       "      <th>...</th>\n",
       "      <th>128344</th>\n",
       "      <th>55249</th>\n",
       "      <th>84304</th>\n",
       "      <th>5869</th>\n",
       "      <th>57818</th>\n",
       "      <th>5273</th>\n",
       "      <th>84952</th>\n",
       "      <th>11046</th>\n",
       "      <th>90594</th>\n",
       "      <th>400</th>\n",
       "    </tr>\n",
       "    <tr>\n",
       "      <th>cell_line</th>\n",
       "      <th></th>\n",
       "      <th></th>\n",
       "      <th></th>\n",
       "      <th></th>\n",
       "      <th></th>\n",
       "      <th></th>\n",
       "      <th></th>\n",
       "      <th></th>\n",
       "      <th></th>\n",
       "      <th></th>\n",
       "      <th></th>\n",
       "      <th></th>\n",
       "      <th></th>\n",
       "      <th></th>\n",
       "      <th></th>\n",
       "      <th></th>\n",
       "      <th></th>\n",
       "      <th></th>\n",
       "      <th></th>\n",
       "      <th></th>\n",
       "      <th></th>\n",
       "    </tr>\n",
       "  </thead>\n",
       "  <tbody>\n",
       "    <tr>\n",
       "      <th>ACH-000601</th>\n",
       "      <td>-0.117838</td>\n",
       "      <td>-0.083374</td>\n",
       "      <td>-0.75716</td>\n",
       "      <td>-0.07252</td>\n",
       "      <td>-0.012776</td>\n",
       "      <td>-0.119112</td>\n",
       "      <td>0.053607</td>\n",
       "      <td>-1.092377</td>\n",
       "      <td>-0.234541</td>\n",
       "      <td>-0.018627</td>\n",
       "      <td>...</td>\n",
       "      <td>-0.18303</td>\n",
       "      <td>-0.096821</td>\n",
       "      <td>-0.092369</td>\n",
       "      <td>0.004617</td>\n",
       "      <td>0.010656</td>\n",
       "      <td>-0.008256</td>\n",
       "      <td>0.003173</td>\n",
       "      <td>-0.062839</td>\n",
       "      <td>-0.016976</td>\n",
       "      <td>-0.154559</td>\n",
       "    </tr>\n",
       "  </tbody>\n",
       "</table>\n",
       "<p>1 rows × 16540 columns</p>\n",
       "</div>"
      ],
      "text/plain": [
       "                8036     55967    55153    25940     23224    116071  \\\n",
       "cell_line                                                              \n",
       "ACH-000601 -0.117838 -0.083374 -0.75716 -0.07252 -0.012776 -0.119112   \n",
       "\n",
       "              114803      1967     23014     29957  ...   128344     55249  \\\n",
       "cell_line                                           ...                      \n",
       "ACH-000601  0.053607 -1.092377 -0.234541 -0.018627  ... -0.18303 -0.096821   \n",
       "\n",
       "               84304      5869     57818      5273     84952     11046  \\\n",
       "cell_line                                                                \n",
       "ACH-000601 -0.092369  0.004617  0.010656 -0.008256  0.003173 -0.062839   \n",
       "\n",
       "               90594       400  \n",
       "cell_line                       \n",
       "ACH-000601 -0.016976 -0.154559  \n",
       "\n",
       "[1 rows x 16540 columns]"
      ]
     },
     "metadata": {},
     "output_type": "display_data"
    }
   ],
   "source": [
    "gene_scores = pd.read_csv(file_gene_scores, index_col=0).set_index('cell_line')\n",
    "print(\"Num cell lines: \" + str(gene_scores.shape[0]))\n",
    "print(\"Num genes: \" + str(gene_scores.shape[1]))\n",
    "display(gene_scores[:1])"
   ]
  },
  {
   "cell_type": "code",
   "execution_count": 7,
   "metadata": {
    "tags": []
   },
   "outputs": [
    {
     "data": {
      "text/html": [
       "<div>\n",
       "<style scoped>\n",
       "    .dataframe tbody tr th:only-of-type {\n",
       "        vertical-align: middle;\n",
       "    }\n",
       "\n",
       "    .dataframe tbody tr th {\n",
       "        vertical-align: top;\n",
       "    }\n",
       "\n",
       "    .dataframe thead th {\n",
       "        text-align: right;\n",
       "    }\n",
       "</style>\n",
       "<table border=\"1\" class=\"dataframe\">\n",
       "  <thead>\n",
       "    <tr style=\"text-align: right;\">\n",
       "      <th></th>\n",
       "      <th>8036</th>\n",
       "      <th>55967</th>\n",
       "      <th>55153</th>\n",
       "      <th>25940</th>\n",
       "      <th>23224</th>\n",
       "      <th>116071</th>\n",
       "      <th>114803</th>\n",
       "      <th>1967</th>\n",
       "      <th>23014</th>\n",
       "      <th>29957</th>\n",
       "      <th>...</th>\n",
       "      <th>128344</th>\n",
       "      <th>55249</th>\n",
       "      <th>84304</th>\n",
       "      <th>5869</th>\n",
       "      <th>57818</th>\n",
       "      <th>5273</th>\n",
       "      <th>84952</th>\n",
       "      <th>11046</th>\n",
       "      <th>90594</th>\n",
       "      <th>400</th>\n",
       "    </tr>\n",
       "    <tr>\n",
       "      <th>cell_line</th>\n",
       "      <th></th>\n",
       "      <th></th>\n",
       "      <th></th>\n",
       "      <th></th>\n",
       "      <th></th>\n",
       "      <th></th>\n",
       "      <th></th>\n",
       "      <th></th>\n",
       "      <th></th>\n",
       "      <th></th>\n",
       "      <th></th>\n",
       "      <th></th>\n",
       "      <th></th>\n",
       "      <th></th>\n",
       "      <th></th>\n",
       "      <th></th>\n",
       "      <th></th>\n",
       "      <th></th>\n",
       "      <th></th>\n",
       "      <th></th>\n",
       "      <th></th>\n",
       "    </tr>\n",
       "  </thead>\n",
       "  <tbody>\n",
       "    <tr>\n",
       "      <th>ACH-000601</th>\n",
       "      <td>0</td>\n",
       "      <td>0</td>\n",
       "      <td>1</td>\n",
       "      <td>0</td>\n",
       "      <td>0</td>\n",
       "      <td>0</td>\n",
       "      <td>0</td>\n",
       "      <td>1</td>\n",
       "      <td>0</td>\n",
       "      <td>0</td>\n",
       "      <td>...</td>\n",
       "      <td>0</td>\n",
       "      <td>0</td>\n",
       "      <td>0</td>\n",
       "      <td>0</td>\n",
       "      <td>0</td>\n",
       "      <td>0</td>\n",
       "      <td>0</td>\n",
       "      <td>0</td>\n",
       "      <td>0</td>\n",
       "      <td>0</td>\n",
       "    </tr>\n",
       "  </tbody>\n",
       "</table>\n",
       "<p>1 rows × 16540 columns</p>\n",
       "</div>"
      ],
      "text/plain": [
       "            8036  55967  55153  25940  23224  116071  114803  1967  23014  \\\n",
       "cell_line                                                                   \n",
       "ACH-000601     0      0      1      0      0       0       0     1      0   \n",
       "\n",
       "            29957  ...  128344  55249  84304  5869  57818  5273  84952  11046  \\\n",
       "cell_line          ...                                                          \n",
       "ACH-000601      0  ...       0      0      0     0      0     0      0      0   \n",
       "\n",
       "            90594  400  \n",
       "cell_line               \n",
       "ACH-000601      0    0  \n",
       "\n",
       "[1 rows x 16540 columns]"
      ]
     },
     "metadata": {},
     "output_type": "display_data"
    },
    {
     "name": "stdout",
     "output_type": "stream",
     "text": [
      "Median num essential genes per cell line: 1678 = 10.145%\n"
     ]
    }
   ],
   "source": [
    "# Binarize gene scores based on given cutoff score\n",
    "# fn applymap() = apply a function to a Dataframe elementwise, i.e. to each cell\n",
    "binarized_scores = gene_scores.applymap(lambda x: int(x <= cutoff_score))\n",
    "# binarized_scores.to_csv(file_binary_scores)\n",
    "display(binarized_scores[:1])\n",
    "print('Median num essential genes per cell line: %d = %.3f%%' % (binarized_scores.sum(axis=1).median(), \n",
    "      binarized_scores.sum(axis=1).median()/binarized_scores.shape[1] *100))"
   ]
  },
  {
   "cell_type": "code",
   "execution_count": 5,
   "metadata": {},
   "outputs": [
    {
     "data": {
      "image/png": "[encoded data removed]",
      "text/plain": [
       "<Figure size 288x201.6 with 1 Axes>"
      ]
     },
     "metadata": {
      "needs_background": "light"
     },
     "output_type": "display_data"
    }
   ],
   "source": [
    "f, ax = plt.subplots(1, 1, figsize=(4,2.8))\n",
    "sns.distplot(binarized_scores.sum(axis=1), kde=False, ax=ax, color='silver', hist_kws={\"alpha\": 1, \"rwidth\":1, 'edgecolor':'silver'})\n",
    "ax.set_xlabel('Number of essential genes in cell line')\n",
    "ax.set_ylabel('Number of cell lines')\n",
    "ax.set_ylim([0, 80])\n",
    "#plt.savefig('../figures/fig_S1C.svg', bbox_inches='tight', dpi=300)"
   ]
  },
  {
   "cell_type": "code",
   "execution_count": 8,
   "metadata": {
    "tags": []
   },
   "outputs": [
    {
     "name": "stdout",
     "output_type": "stream",
     "text": [
      "% never essential: 0.4755\n",
      "% sometimes essential: 0.4632\n",
      "% broadly essential: 0.06\n"
     ]
    },
    {
     "data": {
      "text/html": [
       "<div>\n",
       "<style scoped>\n",
       "    .dataframe tbody tr th:only-of-type {\n",
       "        vertical-align: middle;\n",
       "    }\n",
       "\n",
       "    .dataframe tbody tr th {\n",
       "        vertical-align: top;\n",
       "    }\n",
       "\n",
       "    .dataframe thead th {\n",
       "        text-align: right;\n",
       "    }\n",
       "</style>\n",
       "<table border=\"1\" class=\"dataframe\">\n",
       "  <thead>\n",
       "    <tr style=\"text-align: right;\">\n",
       "      <th></th>\n",
       "      <th>entrez_id</th>\n",
       "      <th>essential_percent</th>\n",
       "      <th>category</th>\n",
       "    </tr>\n",
       "  </thead>\n",
       "  <tbody>\n",
       "    <tr>\n",
       "      <th>0</th>\n",
       "      <td>8036</td>\n",
       "      <td>0.069892</td>\n",
       "      <td>Sometimes</td>\n",
       "    </tr>\n",
       "  </tbody>\n",
       "</table>\n",
       "</div>"
      ],
      "text/plain": [
       "  entrez_id  essential_percent   category\n",
       "0      8036           0.069892  Sometimes"
      ]
     },
     "execution_count": 8,
     "metadata": {},
     "output_type": "execute_result"
    }
   ],
   "source": [
    "# Create new data frame with % of cell lines each gene is essential in + essentiality label\n",
    "gene_essentiality = pd.DataFrame(binarized_scores.apply(lambda x: sum(x)/len(x)), columns=['essential_percent'])\n",
    "gene_essentiality.index.names = ['entrez_id']\n",
    "gene_essentiality = gene_essentiality.reset_index()\n",
    "\n",
    "# Essentiality categories: Never (0%), Sometimes and Broadly (>90%)\n",
    "get_cat_label = lambda x: 'Never' if x == 0 else ('Broadly' if x > 0.9 else 'Sometimes')\n",
    "gene_essentiality = gene_essentiality.assign(category = gene_essentiality.essential_percent.apply(get_cat_label))\n",
    "assert(gene_essentiality[gene_essentiality.category=='Broadly'].shape[0] == \n",
    "       gene_essentiality[gene_essentiality.essential_percent>0.9].shape[0])\n",
    "\n",
    "print('%% never essential: %.4f' % (sum(gene_essentiality.category=='Never')/gene_essentiality.shape[0]))\n",
    "print('%% sometimes essential: %.4f' % (sum(gene_essentiality.category=='Sometimes')/gene_essentiality.shape[0]))\n",
    "print('%% broadly essential: %.2f' % (sum(gene_essentiality.category=='Broadly')/gene_essentiality.shape[0]))\n",
    "gene_essentiality[:1]"
   ]
  },
  {
   "cell_type": "code",
   "execution_count": 12,
   "metadata": {
    "tags": []
   },
   "outputs": [
    {
     "name": "stdout",
     "output_type": "stream",
     "text": [
      "Paralogs in merged: 10130 = 61.245%\n",
      "WGDs: 64.442%\n",
      "N genes: 16540\n"
     ]
    },
    {
     "data": {
      "text/html": [
       "<div>\n",
       "<style scoped>\n",
       "    .dataframe tbody tr th:only-of-type {\n",
       "        vertical-align: middle;\n",
       "    }\n",
       "\n",
       "    .dataframe tbody tr th {\n",
       "        vertical-align: top;\n",
       "    }\n",
       "\n",
       "    .dataframe thead th {\n",
       "        text-align: right;\n",
       "    }\n",
       "</style>\n",
       "<table border=\"1\" class=\"dataframe\">\n",
       "  <thead>\n",
       "    <tr style=\"text-align: right;\">\n",
       "      <th></th>\n",
       "      <th>entrez_id</th>\n",
       "      <th>essential_percent</th>\n",
       "      <th>category</th>\n",
       "      <th>ensembl_id</th>\n",
       "      <th>symbol</th>\n",
       "      <th>percent_matched_in_paralog</th>\n",
       "      <th>num_paralogs</th>\n",
       "      <th>WGD</th>\n",
       "    </tr>\n",
       "  </thead>\n",
       "  <tbody>\n",
       "    <tr>\n",
       "      <th>0</th>\n",
       "      <td>8036</td>\n",
       "      <td>0.069892</td>\n",
       "      <td>Sometimes</td>\n",
       "      <td>ENSG00000108061</td>\n",
       "      <td>SHOC2</td>\n",
       "      <td>0.254296</td>\n",
       "      <td>2</td>\n",
       "      <td>SSD</td>\n",
       "    </tr>\n",
       "  </tbody>\n",
       "</table>\n",
       "</div>"
      ],
      "text/plain": [
       "   entrez_id  essential_percent   category       ensembl_id symbol  \\\n",
       "0       8036           0.069892  Sometimes  ENSG00000108061  SHOC2   \n",
       "\n",
       "   percent_matched_in_paralog  num_paralogs  WGD  \n",
       "0                    0.254296             2  SSD  "
      ]
     },
     "execution_count": 12,
     "metadata": {},
     "output_type": "execute_result"
    }
   ],
   "source": [
    "# Add paralogy info\n",
    "# Note: assumes all screened genes that aren't in paralog summary are singletons\n",
    "paralog_data = pd.read_csv(file_paralogs, index_col=0)\n",
    "gene_summary = pd.merge(gene_essentiality.astype({'entrez_id':'int'}), paralog_data, on='entrez_id', how='left')\n",
    "print('Paralogs in merged: %d = %.3f%%' % (gene_summary[gene_summary.num_paralogs > 0].shape[0], \n",
    "      gene_summary[gene_summary.num_paralogs > 0].shape[0]/gene_summary.shape[0]*100))\n",
    "print('WGDs: %.3f%%' % (gene_summary[gene_summary.WGD=='WGD'].shape[0]/gene_summary[gene_summary.num_paralogs>0].shape[0]*100))\n",
    "\n",
    "# Clean-up NaNs for singletons in merged data set\n",
    "gene_summary = gene_summary.fillna({'percent_matched_in_paralog':0, 'num_paralogs':0, 'WGD':'Singleton'}).astype({'num_paralogs':'int'})\n",
    "assert(gene_summary[gene_summary.num_paralogs==0].shape[0] == gene_summary[gene_summary.WGD=='Singleton'].shape[0])\n",
    "\n",
    "print('N genes:', gene_summary.shape[0])\n",
    "gene_summary[:1]"
   ]
  },
  {
   "cell_type": "code",
   "execution_count": 13,
   "metadata": {},
   "outputs": [],
   "source": [
    "# Export gene summary\n",
    "gene_summary.to_csv(file_gene_summary, index=0)"
   ]
  },
  {
   "cell_type": "markdown",
   "metadata": {},
   "source": [
    "### Export tables to include with the paper"
   ]
  },
  {
   "cell_type": "code",
   "execution_count": 14,
   "metadata": {},
   "outputs": [
    {
     "data": {
      "text/html": [
       "<div>\n",
       "<style scoped>\n",
       "    .dataframe tbody tr th:only-of-type {\n",
       "        vertical-align: middle;\n",
       "    }\n",
       "\n",
       "    .dataframe tbody tr th {\n",
       "        vertical-align: top;\n",
       "    }\n",
       "\n",
       "    .dataframe thead th {\n",
       "        text-align: right;\n",
       "    }\n",
       "</style>\n",
       "<table border=\"1\" class=\"dataframe\">\n",
       "  <thead>\n",
       "    <tr style=\"text-align: right;\">\n",
       "      <th></th>\n",
       "      <th>entrez_id</th>\n",
       "      <th>ensembl_id</th>\n",
       "      <th>essential_category</th>\n",
       "      <th>essential_percent</th>\n",
       "      <th>num_paralogs</th>\n",
       "      <th>percent_matched_in_closest_paralog</th>\n",
       "      <th>duplication_mode</th>\n",
       "    </tr>\n",
       "    <tr>\n",
       "      <th>symbol</th>\n",
       "      <th></th>\n",
       "      <th></th>\n",
       "      <th></th>\n",
       "      <th></th>\n",
       "      <th></th>\n",
       "      <th></th>\n",
       "      <th></th>\n",
       "    </tr>\n",
       "  </thead>\n",
       "  <tbody>\n",
       "    <tr>\n",
       "      <th>A1CF</th>\n",
       "      <td>29974</td>\n",
       "      <td>ENSG00000148584</td>\n",
       "      <td>Never</td>\n",
       "      <td>0.0</td>\n",
       "      <td>4</td>\n",
       "      <td>0.468439</td>\n",
       "      <td>WGD</td>\n",
       "    </tr>\n",
       "    <tr>\n",
       "      <th>A2M</th>\n",
       "      <td>2</td>\n",
       "      <td>ENSG00000175899</td>\n",
       "      <td>Never</td>\n",
       "      <td>0.0</td>\n",
       "      <td>5</td>\n",
       "      <td>0.725237</td>\n",
       "      <td>WGD</td>\n",
       "    </tr>\n",
       "  </tbody>\n",
       "</table>\n",
       "</div>"
      ],
      "text/plain": [
       "        entrez_id       ensembl_id essential_category  essential_percent  \\\n",
       "symbol                                                                     \n",
       "A1CF        29974  ENSG00000148584              Never                0.0   \n",
       "A2M             2  ENSG00000175899              Never                0.0   \n",
       "\n",
       "        num_paralogs  percent_matched_in_closest_paralog duplication_mode  \n",
       "symbol                                                                     \n",
       "A1CF               4                            0.468439              WGD  \n",
       "A2M                5                            0.725237              WGD  "
      ]
     },
     "metadata": {},
     "output_type": "display_data"
    }
   ],
   "source": [
    "gene_scores.to_csv(get_local_data_path(['supplemental_files'], 'Table_S1.csv'))\n",
    "binarized_scores.to_csv(get_local_data_path(['supplemental_files'], 'Table_S2.csv'))\n",
    "table_s3 = gene_summary.rename(columns={'category':'essential_category', \n",
    "                                        'percent_matched_in_paralog':'percent_matched_in_closest_paralog',\n",
    "                                        'WGD':'duplication_mode'})\n",
    "table_s3 = table_s3[['symbol', 'entrez_id', 'ensembl_id', 'essential_category', 'essential_percent', \n",
    "                     'num_paralogs', 'percent_matched_in_closest_paralog', 'duplication_mode']]\n",
    "table_s3 = table_s3.set_index('symbol').sort_index()\n",
    "display(table_s3[:2])\n",
    "table_s3.to_csv(get_local_data_path(['supplemental_files'], 'Table_S3.csv'))"
   ]
  }
 ],
 "metadata": {
  "kernelspec": {
   "display_name": "Python 3",
   "language": "python",
   "name": "python3"
  },
  "language_info": {
   "codemirror_mode": {
    "name": "ipython",
    "version": 3
   },
   "file_extension": ".py",
   "mimetype": "text/x-python",
   "name": "python",
   "nbconvert_exporter": "python",
   "pygments_lexer": "ipython3",
   "version": "3.7.6"
  }
 },
 "nbformat": 4,
 "nbformat_minor": 2
}
