{
 "cells": [
  {
   "cell_type": "markdown",
   "metadata": {},
   "source": [
    "## Protein-coding paralog genes set from Ensembl data\n",
    "\n",
    "**Input:** Ensembl list of paralogs & gene id, WGD and protein complex data\n",
    "\n",
    "**Outputs:**  \n",
    "- All protein coding paralog pairs  \n",
    "- Closest protein coding paralog pairs  \n",
    "- Paralog gene summary\n",
    "\n",
    "Using Ensembl release 93: http://jul2018.archive.ensembl.org/index.html\n",
    "\n",
    "Selected attributes in Ensembl query:\n",
    "- Gene stable ID\n",
    "- Human paralogue gene stable ID, \n",
    "- Paralogue %id. target Human gene identical to query gene\n",
    "- Paralogue %id. query gene identical to target Human gene\n",
    "\n",
    "Notes:  \n",
    "ENSEMBL paralog data is listed as symmetric paralog pairs.  \n",
    "The sequence identity of a paralog pair is not necessarily  symmetric because the paralogs may have different lengths.  "
   ]
  },
  {
   "cell_type": "code",
   "execution_count": 9,
   "metadata": {},
   "outputs": [],
   "source": [
    "import pandas as pd\n",
    "import numpy as np\n",
    "import os\n",
    "import re\n",
    "import seaborn as sns\n",
    "import matplotlib.pyplot as plt\n",
    "\n",
    "get_data_path = lambda folders, fname: os.path.normpath(os.environ['3RD_PARTY_DIR']+'/'+'/'.join(folders) +'/'+fname)\n",
    "get_local_data_path = lambda folders, fname: os.path.normpath('../data/' +'/'.join(folders) +'/'+ fname)\n",
    "\n",
    "# Inputs\n",
    "file_ensembl_data = get_data_path(['ensembl', '93'], 'paralog_pairs_all.txt')\n",
    "file_id_map = get_data_path(['HGNC'] , 'non_alt_loci_set_01_02_19.txt')\n",
    "file_singh_wgds = get_data_path(['WGD_sources', 'singh_2015'], 'Pairs_HUMAN_Strict.txt')\n",
    "file_makino_wgds = get_data_path(['WGD_sources'], 'makino_2010_ohnologs.xls')\n",
    "file_complexes_map = get_local_data_path(['processed'], 'CORUM_entrez_map.csv')\n",
    "\n",
    "# Outputs\n",
    "file_all_pairs = get_local_data_path(['processed', 'ensembl93'], 'all_pairs.csv')\n",
    "file_closest_pairs = get_local_data_path(['processed', 'ensembl93'], 'closest_pairs.csv')\n",
    "file_paralog_summary = get_local_data_path(['processed', 'ensembl93'], 'paralog_summary.csv')"
   ]
  },
  {
   "cell_type": "markdown",
   "metadata": {},
   "source": [
    "### Paralog pairs - HGNC protein-coding "
   ]
  },
  {
   "cell_type": "code",
   "execution_count": 2,
   "metadata": {},
   "outputs": [],
   "source": [
    "raw_data = pd.read_csv(file_ensembl_data)"
   ]
  },
  {
   "cell_type": "code",
   "execution_count": 3,
   "metadata": {
    "tags": []
   },
   "outputs": [
    {
     "name": "stdout",
     "output_type": "stream",
     "text": [
      "N 3654800\n"
     ]
    }
   ],
   "source": [
    "# Clean up columns\n",
    "data = raw_data.drop(columns=['Paralogue %id. query gene identical to target Human gene'])\n",
    "data.rename(inplace=True, columns={\n",
    "    'Gene stable ID': 'A1_ensembl',\n",
    "    'Gene name': 'symbol',\n",
    "    'Human paralogue gene stable ID': 'A2_ensembl',\n",
    "    'Paralogue %id. target Human gene identical to query gene': 'percent_matched_in_paralog'})\n",
    "data.percent_matched_in_paralog = data.percent_matched_in_paralog / 100\n",
    "print('N', data.shape[0])"
   ]
  },
  {
   "cell_type": "code",
   "execution_count": 4,
   "metadata": {},
   "outputs": [
    {
     "data": {
      "text/html": [
       "<div>\n",
       "<style scoped>\n",
       "    .dataframe tbody tr th:only-of-type {\n",
       "        vertical-align: middle;\n",
       "    }\n",
       "\n",
       "    .dataframe tbody tr th {\n",
       "        vertical-align: top;\n",
       "    }\n",
       "\n",
       "    .dataframe thead th {\n",
       "        text-align: right;\n",
       "    }\n",
       "</style>\n",
       "<table border=\"1\" class=\"dataframe\">\n",
       "  <thead>\n",
       "    <tr style=\"text-align: right;\">\n",
       "      <th></th>\n",
       "      <th>ensembl_gene_id</th>\n",
       "      <th>locus_type</th>\n",
       "      <th>entrez_id</th>\n",
       "    </tr>\n",
       "  </thead>\n",
       "  <tbody>\n",
       "    <tr>\n",
       "      <th>0</th>\n",
       "      <td>ENSG00000121410</td>\n",
       "      <td>gene with protein product</td>\n",
       "      <td>1.0</td>\n",
       "    </tr>\n",
       "  </tbody>\n",
       "</table>\n",
       "</div>"
      ],
      "text/plain": [
       "   ensembl_gene_id                 locus_type  entrez_id\n",
       "0  ENSG00000121410  gene with protein product        1.0"
      ]
     },
     "execution_count": 4,
     "metadata": {},
     "output_type": "execute_result"
    }
   ],
   "source": [
    "id_map = pd.read_csv(file_id_map, sep='\\t', low_memory=False)\n",
    "id_map = id_map[['ensembl_gene_id', 'locus_type', 'entrez_id']]\n",
    "id_map[:1]"
   ]
  },
  {
   "cell_type": "code",
   "execution_count": 5,
   "metadata": {
    "tags": []
   },
   "outputs": [
    {
     "name": "stdout",
     "output_type": "stream",
     "text": [
      "Protein coding genes w/ a paralog in Ensembl: 13684\n"
     ]
    },
    {
     "data": {
      "text/html": [
       "<div>\n",
       "<style scoped>\n",
       "    .dataframe tbody tr th:only-of-type {\n",
       "        vertical-align: middle;\n",
       "    }\n",
       "\n",
       "    .dataframe tbody tr th {\n",
       "        vertical-align: top;\n",
       "    }\n",
       "\n",
       "    .dataframe thead th {\n",
       "        text-align: right;\n",
       "    }\n",
       "</style>\n",
       "<table border=\"1\" class=\"dataframe\">\n",
       "  <thead>\n",
       "    <tr style=\"text-align: right;\">\n",
       "      <th></th>\n",
       "      <th>A1_ensembl</th>\n",
       "      <th>A2_ensembl</th>\n",
       "      <th>percent_matched_in_paralog</th>\n",
       "    </tr>\n",
       "  </thead>\n",
       "  <tbody>\n",
       "    <tr>\n",
       "      <th>0</th>\n",
       "      <td>ENSG00000092850</td>\n",
       "      <td>ENSG00000163060</td>\n",
       "      <td>0.293023</td>\n",
       "    </tr>\n",
       "    <tr>\n",
       "      <th>1</th>\n",
       "      <td>ENSG00000167858</td>\n",
       "      <td>ENSG00000163060</td>\n",
       "      <td>0.375598</td>\n",
       "    </tr>\n",
       "  </tbody>\n",
       "</table>\n",
       "</div>"
      ],
      "text/plain": [
       "        A1_ensembl       A2_ensembl  percent_matched_in_paralog\n",
       "0  ENSG00000092850  ENSG00000163060                    0.293023\n",
       "1  ENSG00000167858  ENSG00000163060                    0.375598"
      ]
     },
     "execution_count": 5,
     "metadata": {},
     "output_type": "execute_result"
    }
   ],
   "source": [
    "paralog_data = data[~data.A2_ensembl.isna()].reset_index(drop=True)\n",
    "\n",
    "# Merge pairs with id_map to get locus type\n",
    "paralog_data = pd.merge(paralog_data, id_map.rename(columns={'ensembl_gene_id':'A1_ensembl'}).drop(columns=['entrez_id']), \n",
    "                        on='A1_ensembl', how='inner')\n",
    "paralog_data = pd.merge(paralog_data, id_map.rename(columns={'ensembl_gene_id':'A2_ensembl'}).drop(columns=['entrez_id']), \n",
    "                        on='A2_ensembl', how='inner')\n",
    "\n",
    "# Only keep pairs where A1 and A2 are both protein-coding\n",
    "coding_pairs = paralog_data[(paralog_data.locus_type_x == 'gene with protein product') & \n",
    "                            (paralog_data.locus_type_y == 'gene with protein product')]\n",
    "coding_pairs = coding_pairs.drop(columns=['locus_type_x', 'locus_type_y']).reset_index(drop=True)\n",
    "assert(coding_pairs.index[-1] == coding_pairs.shape[0]-1)\n",
    "\n",
    "print('Protein coding genes w/ a paralog in Ensembl:', coding_pairs.A1_ensembl.nunique())\n",
    "coding_pairs[:2]"
   ]
  },
  {
   "cell_type": "code",
   "execution_count": 6,
   "metadata": {
    "tags": []
   },
   "outputs": [
    {
     "name": "stdout",
     "output_type": "stream",
     "text": [
      "Unique protein coding pairs w/ >=20% seq id: 28538\n",
      "A1s in those paralog pairs: 12138\n"
     ]
    },
    {
     "data": {
      "text/html": [
       "<div>\n",
       "<style scoped>\n",
       "    .dataframe tbody tr th:only-of-type {\n",
       "        vertical-align: middle;\n",
       "    }\n",
       "\n",
       "    .dataframe tbody tr th {\n",
       "        vertical-align: top;\n",
       "    }\n",
       "\n",
       "    .dataframe thead th {\n",
       "        text-align: right;\n",
       "    }\n",
       "</style>\n",
       "<table border=\"1\" class=\"dataframe\">\n",
       "  <thead>\n",
       "    <tr style=\"text-align: right;\">\n",
       "      <th></th>\n",
       "      <th>A1_ensembl</th>\n",
       "      <th>A2_ensembl</th>\n",
       "      <th>percent_matched_in_paralog</th>\n",
       "      <th>min_seq_id</th>\n",
       "    </tr>\n",
       "  </thead>\n",
       "  <tbody>\n",
       "    <tr>\n",
       "      <th>0</th>\n",
       "      <td>ENSG00000092850</td>\n",
       "      <td>ENSG00000163060</td>\n",
       "      <td>0.293023</td>\n",
       "      <td>0.289655</td>\n",
       "    </tr>\n",
       "  </tbody>\n",
       "</table>\n",
       "</div>"
      ],
      "text/plain": [
       "        A1_ensembl       A2_ensembl  percent_matched_in_paralog  min_seq_id\n",
       "0  ENSG00000092850  ENSG00000163060                    0.293023    0.289655"
      ]
     },
     "execution_count": 6,
     "metadata": {},
     "output_type": "execute_result"
    }
   ],
   "source": [
    "# Sort df and determine min./max sequence identity\n",
    "sorted_pairs = pd.concat([pd.DataFrame(np.sort(coding_pairs[['A1_ensembl','A2_ensembl']]), columns=['A1_sorted','A2_sorted']), \n",
    "                          coding_pairs[['A1_ensembl','A2_ensembl','percent_matched_in_paralog']]], axis=1)\n",
    "num_duplicated = sorted_pairs.groupby(['A1_sorted','A2_sorted']).A1_ensembl.count()\n",
    "assert(sorted_pairs.duplicated(subset=['A1_sorted','A2_sorted']).sum() * 2 == coding_pairs.shape[0])\n",
    "\n",
    "# Get min. sequence identity for each pair\n",
    "sorted_pairs['min_seq_id'] = sorted_pairs.groupby(['A1_sorted','A2_sorted']).percent_matched_in_paralog.transform('min')\n",
    "\n",
    "# Reduce paralog pairs to those with min reciprocal 20% sequence identity\n",
    "pairs_min_20 = sorted_pairs[sorted_pairs.min_seq_id >= 0.2].reset_index(drop=True)\n",
    "print('Unique protein coding pairs w/ >=20% seq id:', pairs_min_20.drop_duplicates(subset=['A1_sorted','A2_sorted']).shape[0])\n",
    "\n",
    "# Go back to unsorted list\n",
    "pairs_min_20 = pairs_min_20.drop(columns=['A1_sorted','A2_sorted'])\n",
    "print('A1s in those paralog pairs:', pairs_min_20.A1_ensembl.nunique())\n",
    "pairs_min_20[:1]"
   ]
  },
  {
   "cell_type": "markdown",
   "metadata": {},
   "source": [
    "### Annotations"
   ]
  },
  {
   "cell_type": "code",
   "execution_count": 10,
   "metadata": {
    "tags": []
   },
   "outputs": [
    {
     "data": {
      "text/html": [
       "<div>\n",
       "<style scoped>\n",
       "    .dataframe tbody tr th:only-of-type {\n",
       "        vertical-align: middle;\n",
       "    }\n",
       "\n",
       "    .dataframe tbody tr th {\n",
       "        vertical-align: top;\n",
       "    }\n",
       "\n",
       "    .dataframe thead th {\n",
       "        text-align: right;\n",
       "    }\n",
       "</style>\n",
       "<table border=\"1\" class=\"dataframe\">\n",
       "  <thead>\n",
       "    <tr style=\"text-align: right;\">\n",
       "      <th></th>\n",
       "      <th>Ohnolog-1 Id</th>\n",
       "      <th>Ohnolog-2 Id</th>\n",
       "      <th>Ohnolog-1 Symbol</th>\n",
       "      <th>Ohnolog-2 Symbol</th>\n",
       "      <th>Synteny Outgroup Support</th>\n",
       "      <th>Combine p-value(self) from all vetebrates</th>\n",
       "      <th>Combine p-value(outgroup) from all vetebrates</th>\n",
       "      <th>p-value from self comparison</th>\n",
       "      <th>Combined p-value for all outgroups</th>\n",
       "      <th>P-value for Amphioxus</th>\n",
       "      <th>P-value for Ciona intestinalis</th>\n",
       "      <th>P-value for Ciona savignyi</th>\n",
       "      <th>P-value for Drosophila</th>\n",
       "      <th>P-value for Sea Urchin</th>\n",
       "      <th>P-value for Worm</th>\n",
       "      <th>Duplication node form Ensembl</th>\n",
       "    </tr>\n",
       "  </thead>\n",
       "  <tbody>\n",
       "    <tr>\n",
       "      <th>0</th>\n",
       "      <td>ENSG00000095464</td>\n",
       "      <td>ENSG00000132915</td>\n",
       "      <td>PDE6C</td>\n",
       "      <td>PDE6A</td>\n",
       "      <td>4.0</td>\n",
       "      <td>0.000008</td>\n",
       "      <td>0.000076</td>\n",
       "      <td>7.960000e-12</td>\n",
       "      <td>1.090000e-09</td>\n",
       "      <td>2.630000e-08</td>\n",
       "      <td>NaN</td>\n",
       "      <td>0.431946</td>\n",
       "      <td>0.101149</td>\n",
       "      <td>NaN</td>\n",
       "      <td>0.951</td>\n",
       "      <td>Vertebrata</td>\n",
       "    </tr>\n",
       "  </tbody>\n",
       "</table>\n",
       "</div>"
      ],
      "text/plain": [
       "      Ohnolog-1 Id     Ohnolog-2 Id Ohnolog-1 Symbol Ohnolog-2 Symbol  \\\n",
       "0  ENSG00000095464  ENSG00000132915            PDE6C            PDE6A   \n",
       "\n",
       "   Synteny Outgroup Support  Combine p-value(self) from all vetebrates  \\\n",
       "0                       4.0                                   0.000008   \n",
       "\n",
       "   Combine p-value(outgroup) from all vetebrates  \\\n",
       "0                                       0.000076   \n",
       "\n",
       "   p-value from self comparison  Combined p-value for all outgroups  \\\n",
       "0                  7.960000e-12                        1.090000e-09   \n",
       "\n",
       "   P-value for Amphioxus  P-value for Ciona intestinalis  \\\n",
       "0           2.630000e-08                             NaN   \n",
       "\n",
       "   P-value for Ciona savignyi  P-value for Drosophila  P-value for Sea Urchin  \\\n",
       "0                    0.431946                0.101149                     NaN   \n",
       "\n",
       "   P-value for Worm Duplication node form Ensembl  \n",
       "0             0.951                    Vertebrata  "
      ]
     },
     "metadata": {},
     "output_type": "display_data"
    },
    {
     "name": "stdout",
     "output_type": "stream",
     "text": [
      "All singh WGDs: 2695\n"
     ]
    },
    {
     "data": {
      "text/html": [
       "<div>\n",
       "<style scoped>\n",
       "    .dataframe tbody tr th:only-of-type {\n",
       "        vertical-align: middle;\n",
       "    }\n",
       "\n",
       "    .dataframe tbody tr th {\n",
       "        vertical-align: top;\n",
       "    }\n",
       "\n",
       "    .dataframe thead th {\n",
       "        text-align: right;\n",
       "    }\n",
       "</style>\n",
       "<table border=\"1\" class=\"dataframe\">\n",
       "  <thead>\n",
       "    <tr style=\"text-align: right;\">\n",
       "      <th></th>\n",
       "      <th>Ohnolog1</th>\n",
       "      <th>chr_ohno1</th>\n",
       "      <th>Position1</th>\n",
       "      <th>Ohnolog2</th>\n",
       "      <th>chr_ohno2</th>\n",
       "      <th>Position2</th>\n",
       "      <th>C_int</th>\n",
       "      <th>C_sav</th>\n",
       "      <th>Amphi</th>\n",
       "      <th>Sea_u</th>\n",
       "      <th>Fly</th>\n",
       "      <th>Worm</th>\n",
       "    </tr>\n",
       "  </thead>\n",
       "  <tbody>\n",
       "    <tr>\n",
       "      <th>0</th>\n",
       "      <td>ENSG00000130762</td>\n",
       "      <td>1</td>\n",
       "      <td>3361100</td>\n",
       "      <td>ENSG00000142632</td>\n",
       "      <td>1</td>\n",
       "      <td>16411691</td>\n",
       "      <td>None</td>\n",
       "      <td>None</td>\n",
       "      <td>None</td>\n",
       "      <td>Ohno</td>\n",
       "      <td>Ohno</td>\n",
       "      <td>None</td>\n",
       "    </tr>\n",
       "  </tbody>\n",
       "</table>\n",
       "</div>"
      ],
      "text/plain": [
       "          Ohnolog1 chr_ohno1  Position1         Ohnolog2 chr_ohno2  Position2  \\\n",
       "0  ENSG00000130762         1    3361100  ENSG00000142632         1   16411691   \n",
       "\n",
       "  C_int C_sav Amphi Sea_u   Fly  Worm  \n",
       "0  None  None  None  Ohno  Ohno  None  "
      ]
     },
     "metadata": {},
     "output_type": "display_data"
    },
    {
     "name": "stdout",
     "output_type": "stream",
     "text": [
      "All makino WGDs: 9057\n",
      "N WGD among Ensembl paralog pairs: 6215\n"
     ]
    },
    {
     "data": {
      "text/html": [
       "<div>\n",
       "<style scoped>\n",
       "    .dataframe tbody tr th:only-of-type {\n",
       "        vertical-align: middle;\n",
       "    }\n",
       "\n",
       "    .dataframe tbody tr th {\n",
       "        vertical-align: top;\n",
       "    }\n",
       "\n",
       "    .dataframe thead th {\n",
       "        text-align: right;\n",
       "    }\n",
       "</style>\n",
       "<table border=\"1\" class=\"dataframe\">\n",
       "  <thead>\n",
       "    <tr style=\"text-align: right;\">\n",
       "      <th></th>\n",
       "      <th>A1_ensembl</th>\n",
       "      <th>A2_ensembl</th>\n",
       "      <th>percent_matched_in_paralog</th>\n",
       "      <th>min_seq_id</th>\n",
       "      <th>WGD</th>\n",
       "    </tr>\n",
       "  </thead>\n",
       "  <tbody>\n",
       "    <tr>\n",
       "      <th>0</th>\n",
       "      <td>ENSG00000092850</td>\n",
       "      <td>ENSG00000163060</td>\n",
       "      <td>0.293023</td>\n",
       "      <td>0.289655</td>\n",
       "      <td>True</td>\n",
       "    </tr>\n",
       "  </tbody>\n",
       "</table>\n",
       "</div>"
      ],
      "text/plain": [
       "        A1_ensembl       A2_ensembl  percent_matched_in_paralog  min_seq_id  \\\n",
       "0  ENSG00000092850  ENSG00000163060                    0.293023    0.289655   \n",
       "\n",
       "    WGD  \n",
       "0  True  "
      ]
     },
     "execution_count": 10,
     "metadata": {},
     "output_type": "execute_result"
    }
   ],
   "source": [
    "# 1. Add duplication mode - union of WGDs from two sources\n",
    "singh_wgd = pd.read_csv(file_singh_wgds, sep='\\t')\n",
    "display(singh_wgd[:1])\n",
    "singh_wgd = singh_wgd.rename(columns={'Ohnolog-1 Id':'Ohno1','Ohnolog-2 Id':'Ohno2'})\n",
    "singh_wgd = pd.DataFrame(np.sort(singh_wgd[['Ohno1', 'Ohno2']]), columns=['Ohno1','Ohno2']).drop_duplicates()\n",
    "singh_wgd = pd.concat([singh_wgd, singh_wgd.rename(columns={'Ohno1':'Ohno2','Ohno2':'Ohno1'})], sort=True) # make symmetric\n",
    "print('All singh WGDs:', int(singh_wgd.shape[0]/2))\n",
    "\n",
    "makino_wgd = pd.read_excel(file_makino_wgds, skiprows=1, skipfooter=3, sheet_name='Table S7')\n",
    "display(makino_wgd[:1])\n",
    "makino_wgd = makino_wgd.rename(columns={'Ohnolog1':'Ohno1','Ohnolog2':'Ohno2'})\n",
    "makino_wgd = pd.DataFrame(np.sort(makino_wgd[['Ohno1', 'Ohno2']]), columns=['Ohno1', 'Ohno2']).drop_duplicates()\n",
    "makino_wgd = pd.concat([makino_wgd, makino_wgd.rename(columns={'Ohno1':'Ohno2','Ohno2':'Ohno1'})], sort=True)\n",
    "print('All makino WGDs:', int(makino_wgd.shape[0]/2))\n",
    "\n",
    "all_wgds = pd.merge(singh_wgd, makino_wgd, how=\"outer\")\n",
    "\n",
    "# Merge both WGD sets with full list of sorted pairs\n",
    "pairs_annot = pd.merge(pairs_min_20, all_wgds.rename(columns={'Ohno1':'A1_ensembl', 'Ohno2':'A2_ensembl'}), \n",
    "                       how='left', indicator='WGD')\n",
    "pairs_annot['WGD'] = (pairs_annot.WGD == \"both\")\n",
    "print('N WGD among Ensembl paralog pairs:', int(pairs_annot[pairs_annot.WGD].shape[0]/2))\n",
    "pairs_annot[:1]"
   ]
  },
  {
   "cell_type": "code",
   "execution_count": 11,
   "metadata": {
    "tags": []
   },
   "outputs": [
    {
     "data": {
      "text/html": [
       "<div>\n",
       "<style scoped>\n",
       "    .dataframe tbody tr th:only-of-type {\n",
       "        vertical-align: middle;\n",
       "    }\n",
       "\n",
       "    .dataframe tbody tr th {\n",
       "        vertical-align: top;\n",
       "    }\n",
       "\n",
       "    .dataframe thead th {\n",
       "        text-align: right;\n",
       "    }\n",
       "</style>\n",
       "<table border=\"1\" class=\"dataframe\">\n",
       "  <thead>\n",
       "    <tr style=\"text-align: right;\">\n",
       "      <th></th>\n",
       "      <th>A1_ensembl</th>\n",
       "      <th>A2_ensembl</th>\n",
       "      <th>either_in_complex</th>\n",
       "      <th>in_same_complex</th>\n",
       "    </tr>\n",
       "  </thead>\n",
       "  <tbody>\n",
       "    <tr>\n",
       "      <th>0</th>\n",
       "      <td>ENSG00000092850</td>\n",
       "      <td>ENSG00000163060</td>\n",
       "      <td>False</td>\n",
       "      <td>False</td>\n",
       "    </tr>\n",
       "  </tbody>\n",
       "</table>\n",
       "</div>"
      ],
      "text/plain": [
       "        A1_ensembl       A2_ensembl  either_in_complex  in_same_complex\n",
       "0  ENSG00000092850  ENSG00000163060              False            False"
      ]
     },
     "metadata": {},
     "output_type": "display_data"
    },
    {
     "name": "stdout",
     "output_type": "stream",
     "text": [
      "Either in a complex: 11334\n",
      "In same complex: 676\n"
     ]
    },
    {
     "data": {
      "text/html": [
       "<div>\n",
       "<style scoped>\n",
       "    .dataframe tbody tr th:only-of-type {\n",
       "        vertical-align: middle;\n",
       "    }\n",
       "\n",
       "    .dataframe tbody tr th {\n",
       "        vertical-align: top;\n",
       "    }\n",
       "\n",
       "    .dataframe thead th {\n",
       "        text-align: right;\n",
       "    }\n",
       "</style>\n",
       "<table border=\"1\" class=\"dataframe\">\n",
       "  <thead>\n",
       "    <tr style=\"text-align: right;\">\n",
       "      <th></th>\n",
       "      <th>A1_ensembl</th>\n",
       "      <th>A2_ensembl</th>\n",
       "      <th>percent_matched_in_paralog</th>\n",
       "      <th>min_seq_id</th>\n",
       "      <th>WGD</th>\n",
       "      <th>either_in_complex</th>\n",
       "      <th>in_same_complex</th>\n",
       "    </tr>\n",
       "  </thead>\n",
       "  <tbody>\n",
       "    <tr>\n",
       "      <th>0</th>\n",
       "      <td>ENSG00000092850</td>\n",
       "      <td>ENSG00000163060</td>\n",
       "      <td>0.293023</td>\n",
       "      <td>0.289655</td>\n",
       "      <td>True</td>\n",
       "      <td>False</td>\n",
       "      <td>False</td>\n",
       "    </tr>\n",
       "  </tbody>\n",
       "</table>\n",
       "</div>"
      ],
      "text/plain": [
       "        A1_ensembl       A2_ensembl  percent_matched_in_paralog  min_seq_id  \\\n",
       "0  ENSG00000092850  ENSG00000163060                    0.293023    0.289655   \n",
       "\n",
       "    WGD  either_in_complex  in_same_complex  \n",
       "0  True              False            False  "
      ]
     },
     "execution_count": 11,
     "metadata": {},
     "output_type": "execute_result"
    }
   ],
   "source": [
    "# 2. Protein complex membership\n",
    "complex_map = pd.read_csv(file_complexes_map, index_col=0)\n",
    "complex_map = pd.merge(complex_map, id_map, on='entrez_id').drop(columns=['entrez_id'])\n",
    "complexes_per_gene = complex_map.groupby('ensembl_gene_id').agg({'complex_id': set}).reset_index()\n",
    "\n",
    "# Merge with each gene in all pairs and fill in empty sets\n",
    "df = pd.merge(pairs_annot[['A1_ensembl','A2_ensembl']], \n",
    "              complexes_per_gene.rename(columns={'ensembl_gene_id':'A1_ensembl','complex_id':'A1_complex_ids'}), how='left')\n",
    "df = pd.merge(df, complexes_per_gene.rename(columns={'ensembl_gene_id':'A2_ensembl','complex_id':'A2_complex_ids'}), how='left')\n",
    "df.loc[df.A1_complex_ids.isna(), 'A1_complex_ids'] = set()\n",
    "df.loc[df.A2_complex_ids.isna(), 'A2_complex_ids'] = set()\n",
    "\n",
    "# Calculate complex intersection and union\n",
    "complex_membership = df.assign(shared_complexes=df.apply(lambda x: x.A1_complex_ids.intersection(x.A2_complex_ids), axis=1),\n",
    "                                all_complexes=df.apply(lambda x: x.A1_complex_ids.union(x.A2_complex_ids), axis=1))\n",
    "\n",
    "complex_membership['either_in_complex'] = complex_membership.all_complexes.apply(lambda x: len(x) > 0)\n",
    "complex_membership['in_same_complex'] = complex_membership.shared_complexes.apply(lambda x: len(x) > 0)\n",
    "complex_membership = complex_membership[['A1_ensembl','A2_ensembl','either_in_complex','in_same_complex']]\n",
    "display(complex_membership[:1])\n",
    "print('Either in a complex:', complex_membership[complex_membership.either_in_complex].shape[0])\n",
    "print('In same complex:', complex_membership[complex_membership.in_same_complex].shape[0])\n",
    "\n",
    "pairs_annot2 = pd.merge(pairs_annot, complex_membership, how='left').fillna(False)\n",
    "pairs_annot2[:1]"
   ]
  },
  {
   "cell_type": "code",
   "execution_count": 13,
   "metadata": {},
   "outputs": [
    {
     "data": {
      "text/html": [
       "<div>\n",
       "<style scoped>\n",
       "    .dataframe tbody tr th:only-of-type {\n",
       "        vertical-align: middle;\n",
       "    }\n",
       "\n",
       "    .dataframe tbody tr th {\n",
       "        vertical-align: top;\n",
       "    }\n",
       "\n",
       "    .dataframe thead th {\n",
       "        text-align: right;\n",
       "    }\n",
       "</style>\n",
       "<table border=\"1\" class=\"dataframe\">\n",
       "  <thead>\n",
       "    <tr style=\"text-align: right;\">\n",
       "      <th></th>\n",
       "      <th>A1_ensembl</th>\n",
       "      <th>A2_ensembl</th>\n",
       "      <th>percent_matched_in_paralog</th>\n",
       "      <th>min_seq_id</th>\n",
       "      <th>WGD</th>\n",
       "      <th>either_in_complex</th>\n",
       "      <th>in_same_complex</th>\n",
       "      <th>A1_symbol</th>\n",
       "      <th>A1_entrez</th>\n",
       "      <th>A2_symbol</th>\n",
       "      <th>A2_entrez</th>\n",
       "    </tr>\n",
       "  </thead>\n",
       "  <tbody>\n",
       "    <tr>\n",
       "      <th>0</th>\n",
       "      <td>ENSG00000092850</td>\n",
       "      <td>ENSG00000163060</td>\n",
       "      <td>0.293023</td>\n",
       "      <td>0.289655</td>\n",
       "      <td>True</td>\n",
       "      <td>False</td>\n",
       "      <td>False</td>\n",
       "      <td>TEKT2</td>\n",
       "      <td>27285</td>\n",
       "      <td>TEKT4</td>\n",
       "      <td>150483</td>\n",
       "    </tr>\n",
       "    <tr>\n",
       "      <th>1</th>\n",
       "      <td>ENSG00000167858</td>\n",
       "      <td>ENSG00000163060</td>\n",
       "      <td>0.375598</td>\n",
       "      <td>0.360920</td>\n",
       "      <td>True</td>\n",
       "      <td>False</td>\n",
       "      <td>False</td>\n",
       "      <td>TEKT1</td>\n",
       "      <td>83659</td>\n",
       "      <td>TEKT4</td>\n",
       "      <td>150483</td>\n",
       "    </tr>\n",
       "  </tbody>\n",
       "</table>\n",
       "</div>"
      ],
      "text/plain": [
       "        A1_ensembl       A2_ensembl  percent_matched_in_paralog  min_seq_id  \\\n",
       "0  ENSG00000092850  ENSG00000163060                    0.293023    0.289655   \n",
       "1  ENSG00000167858  ENSG00000163060                    0.375598    0.360920   \n",
       "\n",
       "    WGD  either_in_complex  in_same_complex A1_symbol  A1_entrez A2_symbol  \\\n",
       "0  True              False            False     TEKT2      27285     TEKT4   \n",
       "1  True              False            False     TEKT1      83659     TEKT4   \n",
       "\n",
       "   A2_entrez  \n",
       "0     150483  \n",
       "1     150483  "
      ]
     },
     "execution_count": 13,
     "metadata": {},
     "output_type": "execute_result"
    }
   ],
   "source": [
    "# 3. Symbol and entrez id\n",
    "id_map = pd.read_csv(file_id_map, sep='\\t', low_memory=False).dropna(subset=['ensembl_gene_id', 'entrez_id'])\n",
    "id_map = id_map[['ensembl_gene_id', 'symbol', 'entrez_id']]\n",
    "pairs_annot3 = pd.merge(pairs_annot2, \n",
    "                        id_map.rename(columns={'ensembl_gene_id':'A1_ensembl','symbol':'A1_symbol','entrez_id':'A1_entrez'}))\n",
    "pairs_annot3 = pd.merge(pairs_annot3,\n",
    "                        id_map.rename(columns={'ensembl_gene_id':'A2_ensembl','symbol':'A2_symbol','entrez_id':'A2_entrez'}))\n",
    "pairs_annot3 = pairs_annot3.astype({'A1_entrez':'int', 'A2_entrez':'int'})\n",
    "assert(pairs_annot2.shape[0] == pairs_annot3.shape[0])\n",
    "pairs_annot3[:2]"
   ]
  },
  {
   "cell_type": "code",
   "execution_count": 14,
   "metadata": {},
   "outputs": [
    {
     "data": {
      "text/html": [
       "<div>\n",
       "<style scoped>\n",
       "    .dataframe tbody tr th:only-of-type {\n",
       "        vertical-align: middle;\n",
       "    }\n",
       "\n",
       "    .dataframe tbody tr th {\n",
       "        vertical-align: top;\n",
       "    }\n",
       "\n",
       "    .dataframe thead th {\n",
       "        text-align: right;\n",
       "    }\n",
       "</style>\n",
       "<table border=\"1\" class=\"dataframe\">\n",
       "  <thead>\n",
       "    <tr style=\"text-align: right;\">\n",
       "      <th></th>\n",
       "      <th>A1_ensembl</th>\n",
       "      <th>A2_ensembl</th>\n",
       "      <th>percent_matched_in_paralog</th>\n",
       "      <th>min_seq_id</th>\n",
       "      <th>WGD</th>\n",
       "      <th>either_in_complex</th>\n",
       "      <th>in_same_complex</th>\n",
       "      <th>A1_symbol</th>\n",
       "      <th>A1_entrez</th>\n",
       "      <th>A2_symbol</th>\n",
       "      <th>A2_entrez</th>\n",
       "      <th>closest</th>\n",
       "    </tr>\n",
       "  </thead>\n",
       "  <tbody>\n",
       "    <tr>\n",
       "      <th>0</th>\n",
       "      <td>ENSG00000092850</td>\n",
       "      <td>ENSG00000163060</td>\n",
       "      <td>0.293023</td>\n",
       "      <td>0.289655</td>\n",
       "      <td>True</td>\n",
       "      <td>False</td>\n",
       "      <td>False</td>\n",
       "      <td>TEKT2</td>\n",
       "      <td>27285</td>\n",
       "      <td>TEKT4</td>\n",
       "      <td>150483</td>\n",
       "      <td>False</td>\n",
       "    </tr>\n",
       "    <tr>\n",
       "      <th>1</th>\n",
       "      <td>ENSG00000167858</td>\n",
       "      <td>ENSG00000163060</td>\n",
       "      <td>0.375598</td>\n",
       "      <td>0.360920</td>\n",
       "      <td>True</td>\n",
       "      <td>False</td>\n",
       "      <td>False</td>\n",
       "      <td>TEKT1</td>\n",
       "      <td>83659</td>\n",
       "      <td>TEKT4</td>\n",
       "      <td>150483</td>\n",
       "      <td>True</td>\n",
       "    </tr>\n",
       "  </tbody>\n",
       "</table>\n",
       "</div>"
      ],
      "text/plain": [
       "        A1_ensembl       A2_ensembl  percent_matched_in_paralog  min_seq_id  \\\n",
       "0  ENSG00000092850  ENSG00000163060                    0.293023    0.289655   \n",
       "1  ENSG00000167858  ENSG00000163060                    0.375598    0.360920   \n",
       "\n",
       "    WGD  either_in_complex  in_same_complex A1_symbol  A1_entrez A2_symbol  \\\n",
       "0  True              False            False     TEKT2      27285     TEKT4   \n",
       "1  True              False            False     TEKT1      83659     TEKT4   \n",
       "\n",
       "   A2_entrez  closest  \n",
       "0     150483    False  \n",
       "1     150483     True  "
      ]
     },
     "execution_count": 14,
     "metadata": {},
     "output_type": "execute_result"
    }
   ],
   "source": [
    "# 4. Whether pairs is closest pair (there could be more than one)\n",
    "max_per_gene = pd.DataFrame(pairs_annot3.groupby('A1_ensembl').percent_matched_in_paralog.max()).reset_index()\n",
    "pairs_annot4 = pd.merge(pairs_annot3, max_per_gene, how='left', indicator='closest')\n",
    "pairs_annot4.closest = pairs_annot4.closest == 'both'\n",
    "pairs_annot4[:2]"
   ]
  },
  {
   "cell_type": "markdown",
   "metadata": {},
   "source": [
    "### Export files"
   ]
  },
  {
   "cell_type": "code",
   "execution_count": 15,
   "metadata": {
    "tags": []
   },
   "outputs": [
    {
     "name": "stdout",
     "output_type": "stream",
     "text": [
      "Num pairs: 57076 , num A1s: 12138\n"
     ]
    },
    {
     "data": {
      "text/html": [
       "<div>\n",
       "<style scoped>\n",
       "    .dataframe tbody tr th:only-of-type {\n",
       "        vertical-align: middle;\n",
       "    }\n",
       "\n",
       "    .dataframe tbody tr th {\n",
       "        vertical-align: top;\n",
       "    }\n",
       "\n",
       "    .dataframe thead th {\n",
       "        text-align: right;\n",
       "    }\n",
       "</style>\n",
       "<table border=\"1\" class=\"dataframe\">\n",
       "  <thead>\n",
       "    <tr style=\"text-align: right;\">\n",
       "      <th></th>\n",
       "      <th>A1_ensembl</th>\n",
       "      <th>A2_ensembl</th>\n",
       "      <th>percent_matched_in_paralog</th>\n",
       "      <th>min_seq_id</th>\n",
       "      <th>WGD</th>\n",
       "      <th>either_in_complex</th>\n",
       "      <th>in_same_complex</th>\n",
       "      <th>A1_symbol</th>\n",
       "      <th>A1_entrez</th>\n",
       "      <th>A2_symbol</th>\n",
       "      <th>A2_entrez</th>\n",
       "      <th>closest</th>\n",
       "    </tr>\n",
       "  </thead>\n",
       "  <tbody>\n",
       "    <tr>\n",
       "      <th>0</th>\n",
       "      <td>ENSG00000092850</td>\n",
       "      <td>ENSG00000163060</td>\n",
       "      <td>0.293023</td>\n",
       "      <td>0.289655</td>\n",
       "      <td>WGD</td>\n",
       "      <td>False</td>\n",
       "      <td>False</td>\n",
       "      <td>TEKT2</td>\n",
       "      <td>27285</td>\n",
       "      <td>TEKT4</td>\n",
       "      <td>150483</td>\n",
       "      <td>False</td>\n",
       "    </tr>\n",
       "  </tbody>\n",
       "</table>\n",
       "</div>"
      ],
      "text/plain": [
       "        A1_ensembl       A2_ensembl  percent_matched_in_paralog  min_seq_id  \\\n",
       "0  ENSG00000092850  ENSG00000163060                    0.293023    0.289655   \n",
       "\n",
       "   WGD  either_in_complex  in_same_complex A1_symbol  A1_entrez A2_symbol  \\\n",
       "0  WGD              False            False     TEKT2      27285     TEKT4   \n",
       "\n",
       "   A2_entrez  closest  \n",
       "0     150483    False  "
      ]
     },
     "execution_count": 15,
     "metadata": {},
     "output_type": "execute_result"
    }
   ],
   "source": [
    "all_pairs = pairs_annot4\n",
    "print('Num pairs:', all_pairs.shape[0], ', num A1s:', all_pairs.A1_ensembl.nunique())\n",
    "all_pairs['WGD'] = all_pairs['WGD'].apply(lambda x: 'WGD' if x==True else 'SSD')\n",
    "all_pairs.to_csv(file_all_pairs)\n",
    "all_pairs[:1]"
   ]
  },
  {
   "cell_type": "code",
   "execution_count": 16,
   "metadata": {
    "tags": []
   },
   "outputs": [
    {
     "name": "stdout",
     "output_type": "stream",
     "text": [
      "Num A1s w/ multiple closest paralogs: 418\n",
      "Num paralog pairs when keeping only closest paralog(s): 13107\n"
     ]
    },
    {
     "data": {
      "text/html": [
       "<div>\n",
       "<style scoped>\n",
       "    .dataframe tbody tr th:only-of-type {\n",
       "        vertical-align: middle;\n",
       "    }\n",
       "\n",
       "    .dataframe tbody tr th {\n",
       "        vertical-align: top;\n",
       "    }\n",
       "\n",
       "    .dataframe thead th {\n",
       "        text-align: right;\n",
       "    }\n",
       "</style>\n",
       "<table border=\"1\" class=\"dataframe\">\n",
       "  <thead>\n",
       "    <tr style=\"text-align: right;\">\n",
       "      <th></th>\n",
       "      <th>A1_ensembl</th>\n",
       "      <th>A2_ensembl</th>\n",
       "      <th>percent_matched_in_paralog</th>\n",
       "      <th>min_seq_id</th>\n",
       "      <th>WGD</th>\n",
       "      <th>either_in_complex</th>\n",
       "      <th>in_same_complex</th>\n",
       "      <th>A1_symbol</th>\n",
       "      <th>A1_entrez</th>\n",
       "      <th>A2_symbol</th>\n",
       "      <th>A2_entrez</th>\n",
       "      <th>closest</th>\n",
       "    </tr>\n",
       "  </thead>\n",
       "  <tbody>\n",
       "    <tr>\n",
       "      <th>1</th>\n",
       "      <td>ENSG00000167858</td>\n",
       "      <td>ENSG00000163060</td>\n",
       "      <td>0.375598</td>\n",
       "      <td>0.36092</td>\n",
       "      <td>WGD</td>\n",
       "      <td>False</td>\n",
       "      <td>False</td>\n",
       "      <td>TEKT1</td>\n",
       "      <td>83659</td>\n",
       "      <td>TEKT4</td>\n",
       "      <td>150483</td>\n",
       "      <td>True</td>\n",
       "    </tr>\n",
       "  </tbody>\n",
       "</table>\n",
       "</div>"
      ],
      "text/plain": [
       "        A1_ensembl       A2_ensembl  percent_matched_in_paralog  min_seq_id  \\\n",
       "1  ENSG00000167858  ENSG00000163060                    0.375598     0.36092   \n",
       "\n",
       "   WGD  either_in_complex  in_same_complex A1_symbol  A1_entrez A2_symbol  \\\n",
       "1  WGD              False            False     TEKT1      83659     TEKT4   \n",
       "\n",
       "   A2_entrez  closest  \n",
       "1     150483     True  "
      ]
     },
     "execution_count": 16,
     "metadata": {},
     "output_type": "execute_result"
    }
   ],
   "source": [
    "closest_pairs = all_pairs[all_pairs.closest == True]\n",
    "multiple_closest = closest_pairs[closest_pairs.duplicated(subset=['A1_ensembl'], keep=False)].sort_values('A1_ensembl')\n",
    "print('Num A1s w/ multiple closest paralogs: ' + str(multiple_closest.A1_ensembl.nunique()))\n",
    "print('Num paralog pairs when keeping only closest paralog(s): ' + str(closest_pairs.shape[0]))\n",
    "closest_pairs.to_csv(file_closest_pairs)\n",
    "closest_pairs[:1]"
   ]
  },
  {
   "cell_type": "code",
   "execution_count": 17,
   "metadata": {
    "tags": []
   },
   "outputs": [
    {
     "name": "stdout",
     "output_type": "stream",
     "text": [
      "Num paralog genes: 12138\n"
     ]
    },
    {
     "data": {
      "text/html": [
       "<div>\n",
       "<style scoped>\n",
       "    .dataframe tbody tr th:only-of-type {\n",
       "        vertical-align: middle;\n",
       "    }\n",
       "\n",
       "    .dataframe tbody tr th {\n",
       "        vertical-align: top;\n",
       "    }\n",
       "\n",
       "    .dataframe thead th {\n",
       "        text-align: right;\n",
       "    }\n",
       "</style>\n",
       "<table border=\"1\" class=\"dataframe\">\n",
       "  <thead>\n",
       "    <tr style=\"text-align: right;\">\n",
       "      <th></th>\n",
       "      <th>ensembl_id</th>\n",
       "      <th>symbol</th>\n",
       "      <th>entrez_id</th>\n",
       "      <th>percent_matched_in_paralog</th>\n",
       "      <th>num_paralogs</th>\n",
       "      <th>WGD</th>\n",
       "    </tr>\n",
       "  </thead>\n",
       "  <tbody>\n",
       "    <tr>\n",
       "      <th>0</th>\n",
       "      <td>ENSG00000000003</td>\n",
       "      <td>TSPAN6</td>\n",
       "      <td>7105</td>\n",
       "      <td>0.583673</td>\n",
       "      <td>8</td>\n",
       "      <td>WGD</td>\n",
       "    </tr>\n",
       "    <tr>\n",
       "      <th>1</th>\n",
       "      <td>ENSG00000000005</td>\n",
       "      <td>TNMD</td>\n",
       "      <td>64102</td>\n",
       "      <td>0.365931</td>\n",
       "      <td>1</td>\n",
       "      <td>SSD</td>\n",
       "    </tr>\n",
       "  </tbody>\n",
       "</table>\n",
       "</div>"
      ],
      "text/plain": [
       "        ensembl_id  symbol  entrez_id  percent_matched_in_paralog  \\\n",
       "0  ENSG00000000003  TSPAN6       7105                    0.583673   \n",
       "1  ENSG00000000005    TNMD      64102                    0.365931   \n",
       "\n",
       "   num_paralogs  WGD  \n",
       "0             8  WGD  \n",
       "1             1  SSD  "
      ]
     },
     "execution_count": 17,
     "metadata": {},
     "output_type": "execute_result"
    }
   ],
   "source": [
    "# Paralog summary:\n",
    "# Create summary for each A1 gene (table is symmetric so this is every paralog gene)\n",
    "# Assign duplication mode based on whether gene appears in any WGD pairs\n",
    "paralogs_summary = all_pairs.groupby(['A1_ensembl', 'A1_symbol', 'A1_entrez'])\\\n",
    "                            .agg({'percent_matched_in_paralog':'max', 'A2_ensembl':'count'}).reset_index()\n",
    "paralogs_summary = paralogs_summary.rename(columns={'A2_ensembl':'num_paralogs', 'A1_ensembl':'ensembl_id', \n",
    "                                                    'A1_symbol':'symbol', 'A1_entrez':'entrez_id'})\n",
    "paralogs_summary['WGD'] = paralogs_summary.ensembl_id.isin(all_wgds.Ohno1) | paralogs_summary.ensembl_id.isin(all_wgds.Ohno2)\n",
    "paralogs_summary['WGD'] = paralogs_summary['WGD'].apply(lambda x: 'WGD' if x==True else 'SSD')\n",
    "print('Num paralog genes:', paralogs_summary.shape[0])\n",
    "paralogs_summary.to_csv(file_paralog_summary)\n",
    "paralogs_summary[:2]"
   ]
  }
 ],
 "metadata": {
  "kernelspec": {
   "display_name": "Python 3.6.5 64-bit ('paralogEssential': conda)",
   "language": "python",
   "name": "python36564bitparalogessentialconda75906716dc9144fe8daa71c4b9fe77f3"
  },
  "language_info": {
   "codemirror_mode": {
    "name": "ipython",
    "version": 3
   },
   "file_extension": ".py",
   "mimetype": "text/x-python",
   "name": "python",
   "nbconvert_exporter": "python",
   "pygments_lexer": "ipython3",
   "version": "3.6.5"
  }
 },
 "nbformat": 4,
 "nbformat_minor": 2
}
