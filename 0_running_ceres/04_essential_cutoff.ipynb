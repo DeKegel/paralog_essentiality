{
 "cells": [
  {
   "cell_type": "markdown",
   "metadata": {},
   "source": [
    "## Calculating a cutoff fitness score for cell line specific essentiality\n",
    "\n",
    "Determine a cut-off score using Gaussian mixture models\n",
    "\n",
    "**Input**: genes scores, the result of running CERES - a score for each gene in each cell line.\n",
    "\n",
    "**Output:** cutoff score to use for calling genes essential / not essential in each cell line = **-0.47**"
   ]
  },
  {
   "cell_type": "code",
   "execution_count": 17,
   "metadata": {
    "tags": []
   },
   "outputs": [
    {
     "name": "stdout",
     "output_type": "stream",
     "text": [
      "The autoreload extension is already loaded. To reload it, use:\n",
      "  %reload_ext autoreload\n"
     ]
    }
   ],
   "source": [
    "import pandas as pd\n",
    "import os\n",
    "import numpy as np\n",
    "import seaborn as sns\n",
    "import matplotlib.pyplot as plt\n",
    "import matplotlib as mpl\n",
    "import scipy.stats as stats\n",
    "from sklearn import mixture\n",
    "import sys\n",
    "sys.path.append('../2_data_analysis')\n",
    "\n",
    "%load_ext autoreload\n",
    "%autoreload 1\n",
    "from graphing_utils import *\n",
    "%aimport graphing_utils\n",
    "\n",
    "get_local_data_path = lambda folders, fname: os.path.normpath('../data/' +'/'.join(folders) +'/'+ fname)\n",
    "\n",
    "# Scores should be rows=cell lines, cols=genes\n",
    "file_gene_scores = get_local_data_path(['processed','depmap19Q1'], 'gene_scores_11_07_19.csv')"
   ]
  },
  {
   "cell_type": "code",
   "execution_count": 10,
   "metadata": {
    "tags": []
   },
   "outputs": [
    {
     "name": "stdout",
     "output_type": "stream",
     "text": [
      "Num genes w/ scores: 16540\n"
     ]
    }
   ],
   "source": [
    "scores = pd.read_csv(file_gene_scores, index_col=0)\n",
    "scores = scores.set_index('cell_line')\n",
    "print('Num genes w/ scores: ' + str(scores.shape[1]))"
   ]
  },
  {
   "cell_type": "code",
   "execution_count": 11,
   "metadata": {},
   "outputs": [
    {
     "data": {
      "text/html": [
       "<div>\n",
       "<style scoped>\n",
       "    .dataframe tbody tr th:only-of-type {\n",
       "        vertical-align: middle;\n",
       "    }\n",
       "\n",
       "    .dataframe tbody tr th {\n",
       "        vertical-align: top;\n",
       "    }\n",
       "\n",
       "    .dataframe thead th {\n",
       "        text-align: right;\n",
       "    }\n",
       "</style>\n",
       "<table border=\"1\" class=\"dataframe\">\n",
       "  <thead>\n",
       "    <tr style=\"text-align: right;\">\n",
       "      <th></th>\n",
       "      <th>8036</th>\n",
       "      <th>55967</th>\n",
       "      <th>55153</th>\n",
       "      <th>25940</th>\n",
       "      <th>23224</th>\n",
       "      <th>116071</th>\n",
       "      <th>114803</th>\n",
       "      <th>1967</th>\n",
       "      <th>23014</th>\n",
       "      <th>29957</th>\n",
       "      <th>...</th>\n",
       "      <th>128344</th>\n",
       "      <th>55249</th>\n",
       "      <th>84304</th>\n",
       "      <th>5869</th>\n",
       "      <th>57818</th>\n",
       "      <th>5273</th>\n",
       "      <th>84952</th>\n",
       "      <th>11046</th>\n",
       "      <th>90594</th>\n",
       "      <th>400</th>\n",
       "    </tr>\n",
       "    <tr>\n",
       "      <th>cell_line</th>\n",
       "      <th></th>\n",
       "      <th></th>\n",
       "      <th></th>\n",
       "      <th></th>\n",
       "      <th></th>\n",
       "      <th></th>\n",
       "      <th></th>\n",
       "      <th></th>\n",
       "      <th></th>\n",
       "      <th></th>\n",
       "      <th></th>\n",
       "      <th></th>\n",
       "      <th></th>\n",
       "      <th></th>\n",
       "      <th></th>\n",
       "      <th></th>\n",
       "      <th></th>\n",
       "      <th></th>\n",
       "      <th></th>\n",
       "      <th></th>\n",
       "      <th></th>\n",
       "    </tr>\n",
       "  </thead>\n",
       "  <tbody>\n",
       "    <tr>\n",
       "      <th>ACH-000601</th>\n",
       "      <td>-0.117838</td>\n",
       "      <td>-0.083374</td>\n",
       "      <td>-0.75716</td>\n",
       "      <td>-0.07252</td>\n",
       "      <td>-0.012776</td>\n",
       "      <td>-0.119112</td>\n",
       "      <td>0.053607</td>\n",
       "      <td>-1.092377</td>\n",
       "      <td>-0.234541</td>\n",
       "      <td>-0.018627</td>\n",
       "      <td>...</td>\n",
       "      <td>-0.18303</td>\n",
       "      <td>-0.096821</td>\n",
       "      <td>-0.092369</td>\n",
       "      <td>0.004617</td>\n",
       "      <td>0.010656</td>\n",
       "      <td>-0.008256</td>\n",
       "      <td>0.003173</td>\n",
       "      <td>-0.062839</td>\n",
       "      <td>-0.016976</td>\n",
       "      <td>-0.154559</td>\n",
       "    </tr>\n",
       "  </tbody>\n",
       "</table>\n",
       "<p>1 rows × 16540 columns</p>\n",
       "</div>"
      ],
      "text/plain": [
       "                8036     55967    55153    25940     23224    116071  \\\n",
       "cell_line                                                              \n",
       "ACH-000601 -0.117838 -0.083374 -0.75716 -0.07252 -0.012776 -0.119112   \n",
       "\n",
       "              114803      1967     23014     29957  ...   128344     55249  \\\n",
       "cell_line                                           ...                      \n",
       "ACH-000601  0.053607 -1.092377 -0.234541 -0.018627  ... -0.18303 -0.096821   \n",
       "\n",
       "               84304      5869     57818      5273     84952     11046  \\\n",
       "cell_line                                                                \n",
       "ACH-000601 -0.092369  0.004617  0.010656 -0.008256  0.003173 -0.062839   \n",
       "\n",
       "               90594       400  \n",
       "cell_line                       \n",
       "ACH-000601 -0.016976 -0.154559  \n",
       "\n",
       "[1 rows x 16540 columns]"
      ]
     },
     "execution_count": 11,
     "metadata": {},
     "output_type": "execute_result"
    }
   ],
   "source": [
    "scores[:1]"
   ]
  },
  {
   "cell_type": "code",
   "execution_count": 12,
   "metadata": {},
   "outputs": [
    {
     "data": {
      "text/plain": [
       "Text(0.5, 0, 'Score')"
      ]
     },
     "execution_count": 12,
     "metadata": {},
     "output_type": "execute_result"
    },
    {
     "data": {
      "image/png": "[encoded data removed]",
      "text/plain": [
       "<Figure size 360x216 with 1 Axes>"
      ]
     },
     "metadata": {
      "needs_background": "light"
     },
     "output_type": "display_data"
    }
   ],
   "source": [
    "f, ax = plt.subplots(1, 1, figsize=(5,3))\n",
    "sns.distplot(scores.values.flatten(), kde=False, bins=50, ax=ax)\n",
    "ax.set_title('All scores across all cell lines')\n",
    "ax.set_xlabel('Score')"
   ]
  },
  {
   "cell_type": "code",
   "execution_count": 21,
   "metadata": {},
   "outputs": [],
   "source": [
    "# Note: cut offs can differ slightly due to randomness\n",
    "def find_best_gmm(scores, max_components=5):\n",
    "    print('Fitting GMM with 1-5 components')\n",
    "    results_df = pd.DataFrame(columns=['model','num_components', 'bic', 'aic'])\n",
    "    for n in range(0, max_components):\n",
    "        gmm = fit_gmm_w_n_components(scores, n)\n",
    "        #gmm = mixture.GaussianMixture(n_components=(n+1)).fit(X)\n",
    "        results_df.loc[n] = [gmm, n+1, gmm.bic(X), gmm.aic(X)]\n",
    "    print('Best num component according to BIC: ', results_df[results_df.bic==results_df.bic.min()].num_components.values[0])\n",
    "    print('Best num component according to AIC: ', results_df[results_df.aic==results_df.aic.min()].num_components.values[0])\n",
    "    return results_df[results_df.aic==results_df.aic.min()].model.values[0]\n",
    "\n",
    "def fit_gmm_w_n_components(scores, n_components):\n",
    "    print('Fitting GMM with', n_components, 'components')\n",
    "    # Reshape the scores into a 2-D array (of single element vectors)\n",
    "    X = np.reshape(scores.values.flatten(), (-1, 1))\n",
    "    gmm = mixture.GaussianMixture(n_components=n_components).fit(X)\n",
    "    return gmm"
   ]
  },
  {
   "cell_type": "code",
   "execution_count": 25,
   "metadata": {
    "tags": []
   },
   "outputs": [
    {
     "name": "stdout",
     "output_type": "stream",
     "text": [
      "Fitting GMM with 3 components\n"
     ]
    }
   ],
   "source": [
    "# Fit GMM\n",
    "num_components=3\n",
    "if num_components == None:\n",
    "    gmm = find_best_gmm(scores)\n",
    "else:\n",
    "    gmm = fit_gmm_w_n_components(scores, num_components)"
   ]
  },
  {
   "cell_type": "code",
   "execution_count": 26,
   "metadata": {
    "tags": []
   },
   "outputs": [
    {
     "name": "stdout",
     "output_type": "stream",
     "text": [
      "Cut-offs (mins): \n",
      "0 : -0.192\n",
      "2 : -3.298\n",
      "1 : -0.477\n"
     ]
    }
   ],
   "source": [
    "# Use GMM to predict label and derive cutoff\n",
    "X = np.reshape(scores.values.flatten(), (-1, 1))\n",
    "gmm_df = pd.DataFrame(X).rename(columns={0:'score'})\n",
    "gmm_df['label'] = gmm.predict(X)\n",
    "print('Cut-offs (mins): ')\n",
    "for label in gmm_df.label.unique():\n",
    "    print(label, ':', np.round(gmm_df[gmm_df.label == label].score.min(), 3))"
   ]
  },
  {
   "cell_type": "code",
   "execution_count": 27,
   "metadata": {},
   "outputs": [
    {
     "data": {
      "image/png": "[encoded data removed]",
      "text/plain": [
       "<Figure size 316.8x194.4 with 2 Axes>"
      ]
     },
     "metadata": {
      "needs_background": "light"
     },
     "output_type": "display_data"
    }
   ],
   "source": [
    "# Graph distribution colored according to prediction\n",
    "f, ax = plt.subplots(1, 1, figsize=(4.4,2.7))\n",
    "xlim = [-1.7, 0.7]\n",
    "ax.set_xlim(xlim)\n",
    "bins = np.linspace(gmm_df.score.min(), gmm_df.score.max(), 160)\n",
    "colors = sns.color_palette(\"Blues\")[3:0:-1]\n",
    "sorted_mins = sorted([(0, gmm_df[gmm_df.label == 0].score.min()),\n",
    "                      (1, gmm_df[gmm_df.label == 1].score.min()), \n",
    "                      (2, gmm_df[gmm_df.label == 2].score.min())], key=lambda tup: tup[1])\n",
    "for i, component in enumerate(sorted_mins):\n",
    "    sns.distplot(gmm_df[gmm_df.label == component[0]].score, kde=False, ax=ax, bins=bins, label=label, \n",
    "                 color=colors[i], hist_kws={\"alpha\": 1, 'edgecolor': colors[i]})\n",
    "ax.set_xlabel('CRISPR score')\n",
    "ax.set_ylabel('Number of genes, counted\\nin all cell lines (millions)')\n",
    "\n",
    "# Plot of the individual components of the mixture model\n",
    "ax2 = ax.twinx()\n",
    "x = np.reshape(np.linspace(gmm_df.score.min(), gmm_df.score.max(), 1000), (-1, 1))\n",
    "pdf = np.exp(gmm.score_samples(x))\n",
    "probability  = gmm.predict_proba(x)\n",
    "pdf_individual = probability  * pdf[:, np.newaxis] # this is the same as doing a reshape w/ (-1, 1)\n",
    "for idx in range(0, 3):\n",
    "    ax2.plot(x, [i[idx] for i in pdf_individual], label=str(idx), color='black', linewidth=1.3)\n",
    "ax2.set_xlim(xlim)\n",
    "ax2.set_ylim([0, 2.2])\n",
    "ax2.yaxis.set_ticks([]) # Don't show y ticks\n",
    "\n",
    "# Extra annotations\n",
    "ax.axvline(-0.47, color='black', linewidth=1.3, linestyle='--')\n",
    "ax.text(-0.3, 1350000,'Not essential')\n",
    "ax.text(-1.4, 1350000,'Essential')\n",
    "ax.text(-0.6, 300000,'Threshold = -0.47', rotation=90)\n",
    "\n",
    "plt.savefig('../figures/fig_1B.svg', bbox_inches='tight', dpi=300)"
   ]
  },
  {
   "cell_type": "code",
   "execution_count": null,
   "metadata": {},
   "outputs": [],
   "source": []
  }
 ],
 "metadata": {
  "kernelspec": {
   "display_name": "Python 3",
   "language": "python",
   "name": "python3"
  },
  "language_info": {
   "codemirror_mode": {
    "name": "ipython",
    "version": 3
   },
   "file_extension": ".py",
   "mimetype": "text/x-python",
   "name": "python",
   "nbconvert_exporter": "python",
   "pygments_lexer": "ipython3",
   "version": "3.7.6"
  }
 },
 "nbformat": 4,
 "nbformat_minor": 2
}
