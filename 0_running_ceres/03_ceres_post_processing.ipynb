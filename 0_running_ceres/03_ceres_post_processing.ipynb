{
 "cells": [
  {
   "cell_type": "markdown",
   "metadata": {},
   "source": [
    "## CERES post-processing\n",
    "\n",
    "**Inputs:**\n",
    "* CERES output file (a score for each gene in each cell line) - from `run_CERES.R`\n",
    "* Reference (non-)essentials from DepMap portal\n",
    "* Guides per gene from `2_filter_multi_target_guides`\n",
    "* DepMap gene scores\n",
    "\n",
    "**Outputs:**\n",
    "* Cleaned up and filtered gene scores file to use for the rest of the analysis\n",
    "* Dropped genes (annotated among all screened genes)\n",
    "\n",
    "For the output, use the same format as the table from DepMap.  \n",
    "* Genes as column headings\n",
    "* Cell lines as rows\n",
    "\n",
    "Post-processing steps:\n",
    "1. Filter out genes that were not targeted by enough guides (less than 3).    \n",
    "2. Rescale scores to the reference essentials / non-essentials.\n",
    "3. Update genes (columns) to Entrez IDs.\n",
    "4. Filter out non-protein coding genes"
   ]
  },
  {
   "cell_type": "code",
   "execution_count": 59,
   "metadata": {},
   "outputs": [],
   "source": [
    "import pandas as pd\n",
    "import numpy as np\n",
    "import os\n",
    "import re\n",
    "from sklearn.metrics import auc\n",
    "from sklearn.metrics import precision_recall_curve\n",
    "import matplotlib.pyplot as plt\n",
    "\n",
    "get_data_path = lambda folders, fname: os.path.normpath(os.environ['3RD_PARTY_DIR']+'/'+'/'.join(folders) +'/'+fname)\n",
    "get_local_data_path = lambda folders, fname: os.path.normpath('../data/' +'/'.join(folders) +'/'+ fname)\n",
    "\n",
    "# Input from running CERES / sgRNA mapping\n",
    "file_ceres_unscaled = get_local_data_path(['processed', 'depmap19Q1'], 'ceres_output_11_07_19.csv')\n",
    "file_guides_per_gene = get_local_data_path(['processed', 'depmap19Q1'], 'guides_per_gene_26_05_20.csv')\n",
    "\n",
    "# Inputs from DepMap\n",
    "# 20Q2 positive controls: intersection of Hart (2015) and Blomen (2014)\n",
    "file_ref_essentials = get_data_path(['depmap', '19Q1'], 'essential_genes.txt')\n",
    "file_ref_nonessentials = get_data_path(['depmap', '19Q1'], 'nonessential_genes.txt')\n",
    "file_depmap_scores = get_data_path(['depmap', '19Q1'], 'gene_effect.csv')\n",
    "\n",
    "# Other input\n",
    "file_id_map = get_data_path(['HGNC'] , 'non_alt_loci_set_01_02_19.txt')\n",
    "\n",
    "# Output\n",
    "file_gene_scores = get_local_data_path(['processed', 'depmap19Q1'], 'gene_scores_11_07_19.csv')\n",
    "file_dropped_genes = get_local_data_path(['processed', 'depmap19Q1'], 'droppped_genes_11_07_19.csv')"
   ]
  },
  {
   "cell_type": "markdown",
   "metadata": {},
   "source": [
    "### Filter & normalize CERES output"
   ]
  },
  {
   "cell_type": "code",
   "execution_count": 15,
   "metadata": {
    "tags": []
   },
   "outputs": [
    {
     "name": "stdout",
     "output_type": "stream",
     "text": [
      "Num genes: 17269\n",
      "Num cell lines: 558\n"
     ]
    },
    {
     "data": {
      "text/html": [
       "<div>\n",
       "<style scoped>\n",
       "    .dataframe tbody tr th:only-of-type {\n",
       "        vertical-align: middle;\n",
       "    }\n",
       "\n",
       "    .dataframe tbody tr th {\n",
       "        vertical-align: top;\n",
       "    }\n",
       "\n",
       "    .dataframe thead th {\n",
       "        text-align: right;\n",
       "    }\n",
       "</style>\n",
       "<table border=\"1\" class=\"dataframe\">\n",
       "  <thead>\n",
       "    <tr style=\"text-align: right;\">\n",
       "      <th></th>\n",
       "      <th>SHOC2</th>\n",
       "      <th>NDUFA12</th>\n",
       "      <th>SDAD1</th>\n",
       "      <th>FAM98A</th>\n",
       "      <th>ZNF253</th>\n",
       "      <th>HIST1H2BF</th>\n",
       "      <th>SYNE2</th>\n",
       "      <th>SPHAR</th>\n",
       "      <th>BATF2</th>\n",
       "      <th>MYSM1</th>\n",
       "      <th>...</th>\n",
       "      <th>OR2L3</th>\n",
       "      <th>LCE1A</th>\n",
       "      <th>GOLGA6B</th>\n",
       "      <th>NUTM2B</th>\n",
       "      <th>ARL1</th>\n",
       "      <th>IFNA5</th>\n",
       "      <th>SRSF10</th>\n",
       "      <th>STEAP1B</th>\n",
       "      <th>MTRNR2L4</th>\n",
       "      <th>PSG9</th>\n",
       "    </tr>\n",
       "  </thead>\n",
       "  <tbody>\n",
       "    <tr>\n",
       "      <th>ACH-000601</th>\n",
       "      <td>-0.117301</td>\n",
       "      <td>-0.082887</td>\n",
       "      <td>-0.755706</td>\n",
       "      <td>-0.072048</td>\n",
       "      <td>-0.293705</td>\n",
       "      <td>-0.098842</td>\n",
       "      <td>-0.012390</td>\n",
       "      <td>-0.014636</td>\n",
       "      <td>-0.118574</td>\n",
       "      <td>0.053898</td>\n",
       "      <td>...</td>\n",
       "      <td>0.105195</td>\n",
       "      <td>-0.160834</td>\n",
       "      <td>-0.363589</td>\n",
       "      <td>0.134118</td>\n",
       "      <td>-0.153969</td>\n",
       "      <td>-0.018077</td>\n",
       "      <td>-0.437614</td>\n",
       "      <td>0.026585</td>\n",
       "      <td>0.199271</td>\n",
       "      <td>-0.054447</td>\n",
       "    </tr>\n",
       "    <tr>\n",
       "      <th>ACH-000496</th>\n",
       "      <td>-0.299054</td>\n",
       "      <td>-0.069327</td>\n",
       "      <td>-0.524179</td>\n",
       "      <td>0.009497</td>\n",
       "      <td>-0.415214</td>\n",
       "      <td>-0.026524</td>\n",
       "      <td>0.023207</td>\n",
       "      <td>0.144555</td>\n",
       "      <td>-0.275711</td>\n",
       "      <td>-0.134776</td>\n",
       "      <td>...</td>\n",
       "      <td>0.196956</td>\n",
       "      <td>-0.011123</td>\n",
       "      <td>-0.383300</td>\n",
       "      <td>0.116085</td>\n",
       "      <td>0.156371</td>\n",
       "      <td>0.074223</td>\n",
       "      <td>-0.474701</td>\n",
       "      <td>0.052686</td>\n",
       "      <td>0.274772</td>\n",
       "      <td>-0.051095</td>\n",
       "    </tr>\n",
       "  </tbody>\n",
       "</table>\n",
       "<p>2 rows × 17269 columns</p>\n",
       "</div>"
      ],
      "text/plain": [
       "               SHOC2   NDUFA12     SDAD1    FAM98A    ZNF253  HIST1H2BF  \\\n",
       "ACH-000601 -0.117301 -0.082887 -0.755706 -0.072048 -0.293705  -0.098842   \n",
       "ACH-000496 -0.299054 -0.069327 -0.524179  0.009497 -0.415214  -0.026524   \n",
       "\n",
       "               SYNE2     SPHAR     BATF2     MYSM1    ...        OR2L3  \\\n",
       "ACH-000601 -0.012390 -0.014636 -0.118574  0.053898    ...     0.105195   \n",
       "ACH-000496  0.023207  0.144555 -0.275711 -0.134776    ...     0.196956   \n",
       "\n",
       "               LCE1A   GOLGA6B    NUTM2B      ARL1     IFNA5    SRSF10  \\\n",
       "ACH-000601 -0.160834 -0.363589  0.134118 -0.153969 -0.018077 -0.437614   \n",
       "ACH-000496 -0.011123 -0.383300  0.116085  0.156371  0.074223 -0.474701   \n",
       "\n",
       "             STEAP1B  MTRNR2L4      PSG9  \n",
       "ACH-000601  0.026585  0.199271 -0.054447  \n",
       "ACH-000496  0.052686  0.274772 -0.051095  \n",
       "\n",
       "[2 rows x 17269 columns]"
      ]
     },
     "execution_count": 15,
     "metadata": {},
     "output_type": "execute_result"
    }
   ],
   "source": [
    "scores_raw = pd.read_csv(file_ceres_unscaled, index_col=0)\n",
    "scores = scores_raw.T\n",
    "scores = scores.dropna(axis=1, how='all') # Drop columns (genes) where all values are NaN\n",
    "scores.index = scores.index.str.replace('.','-')\n",
    "print('Num genes:', scores.shape[1])\n",
    "print('Num cell lines:', scores.shape[0])\n",
    "scores[:2]"
   ]
  },
  {
   "cell_type": "markdown",
   "metadata": {},
   "source": [
    "#### 1. Drop genes targetted by too few guides (< 3)"
   ]
  },
  {
   "cell_type": "code",
   "execution_count": 34,
   "metadata": {},
   "outputs": [
    {
     "name": "stdout",
     "output_type": "stream",
     "text": [
      "Genes in guide-gene map: 17270\n"
     ]
    },
    {
     "data": {
      "text/html": [
       "<div>\n",
       "<style scoped>\n",
       "    .dataframe tbody tr th:only-of-type {\n",
       "        vertical-align: middle;\n",
       "    }\n",
       "\n",
       "    .dataframe tbody tr th {\n",
       "        vertical-align: top;\n",
       "    }\n",
       "\n",
       "    .dataframe thead th {\n",
       "        text-align: right;\n",
       "    }\n",
       "</style>\n",
       "<table border=\"1\" class=\"dataframe\">\n",
       "  <thead>\n",
       "    <tr style=\"text-align: right;\">\n",
       "      <th></th>\n",
       "      <th>symbol</th>\n",
       "      <th>entrez_id</th>\n",
       "      <th>guides_per_gene</th>\n",
       "    </tr>\n",
       "  </thead>\n",
       "  <tbody>\n",
       "    <tr>\n",
       "      <th>0</th>\n",
       "      <td>A1BG</td>\n",
       "      <td>1</td>\n",
       "      <td>4</td>\n",
       "    </tr>\n",
       "    <tr>\n",
       "      <th>1</th>\n",
       "      <td>A1CF</td>\n",
       "      <td>29974</td>\n",
       "      <td>4</td>\n",
       "    </tr>\n",
       "  </tbody>\n",
       "</table>\n",
       "</div>"
      ],
      "text/plain": [
       "  symbol  entrez_id  guides_per_gene\n",
       "0   A1BG          1                4\n",
       "1   A1CF      29974                4"
      ]
     },
     "metadata": {},
     "output_type": "display_data"
    },
    {
     "name": "stdout",
     "output_type": "stream",
     "text": [
      "Genes in CERES output that are not in my guide-per-gene map:\n"
     ]
    },
    {
     "data": {
      "text/plain": [
       "Index([], dtype='object')"
      ]
     },
     "metadata": {},
     "output_type": "display_data"
    },
    {
     "name": "stdout",
     "output_type": "stream",
     "text": [
      "Genes in my guide-per-gene map that are not in CERES output:\n",
      "['C14orf178']\n",
      "Filtered guide-per-gene map: 17269\n"
     ]
    }
   ],
   "source": [
    "# Drop genes that were targetted by too few guides (less than 3)\n",
    "# Some genes that I expect to be included might not be there if there was no copy number data for them.\n",
    "guides_per_gene = pd.read_csv(file_guides_per_gene, index_col=0)\n",
    "guides_per_gene = guides_per_gene.rename(columns={'ccds_symbol':'symbol'})\n",
    "print('Genes in guide-gene map:', guides_per_gene.symbol.nunique())\n",
    "display(guides_per_gene[:2])\n",
    "\n",
    "print('Genes in CERES output that are not in my guide-per-gene map:')\n",
    "display(scores.loc[:, ~scores.columns.isin(guides_per_gene.symbol)].columns)\n",
    "\n",
    "# Check raw scores\n",
    "print('Genes in my guide-per-gene map that are not in CERES output:')\n",
    "print(guides_per_gene[~guides_per_gene.symbol.isin(scores_raw.index)].symbol.values)\n",
    "\n",
    "# Filter guides per gene down to genes that are in CERES output (additional genes dropped are due to NaN values)\n",
    "guides_per_gene = guides_per_gene[guides_per_gene.symbol.isin(scores.columns)]\n",
    "print('Filtered guide-per-gene map:', guides_per_gene.shape[0])"
   ]
  },
  {
   "cell_type": "code",
   "execution_count": 36,
   "metadata": {
    "tags": []
   },
   "outputs": [
    {
     "name": "stdout",
     "output_type": "stream",
     "text": [
      "Genes w/ 2 guides: 374\n",
      "Genes w/ 1 guide: 257\n",
      "Num genes after filtering for too few guides: 16638 / 17269\n"
     ]
    }
   ],
   "source": [
    "# Drop genes that were targetted by too few guides (less than 3)\n",
    "print('Genes w/ 2 guides:', guides_per_gene[guides_per_gene.guides_per_gene == 2].shape[0])\n",
    "print('Genes w/ 1 guide:', guides_per_gene[guides_per_gene.guides_per_gene == 1].shape[0])\n",
    "scores_filtered = scores.loc[:, scores.columns.isin(guides_per_gene[guides_per_gene.guides_per_gene >= 3].symbol)]\n",
    "print('Num genes after filtering for too few guides:', scores_filtered.shape[1],'/', scores.shape[1])"
   ]
  },
  {
   "cell_type": "markdown",
   "metadata": {},
   "source": [
    "#### 2. Normalize CERES gene scores to reference essential/non-essential genes from DepMap"
   ]
  },
  {
   "cell_type": "code",
   "execution_count": 37,
   "metadata": {},
   "outputs": [
    {
     "data": {
      "text/html": [
       "<div>\n",
       "<style scoped>\n",
       "    .dataframe tbody tr th:only-of-type {\n",
       "        vertical-align: middle;\n",
       "    }\n",
       "\n",
       "    .dataframe tbody tr th {\n",
       "        vertical-align: top;\n",
       "    }\n",
       "\n",
       "    .dataframe thead th {\n",
       "        text-align: right;\n",
       "    }\n",
       "</style>\n",
       "<table border=\"1\" class=\"dataframe\">\n",
       "  <thead>\n",
       "    <tr style=\"text-align: right;\">\n",
       "      <th></th>\n",
       "      <th>SHOC2</th>\n",
       "      <th>NDUFA12</th>\n",
       "      <th>SDAD1</th>\n",
       "      <th>FAM98A</th>\n",
       "      <th>SYNE2</th>\n",
       "      <th>BATF2</th>\n",
       "      <th>MYSM1</th>\n",
       "      <th>EIF2B1</th>\n",
       "      <th>FBXO21</th>\n",
       "      <th>SLC25A24</th>\n",
       "      <th>...</th>\n",
       "      <th>PCDHGB3</th>\n",
       "      <th>YY1AP1</th>\n",
       "      <th>NUDT22</th>\n",
       "      <th>RAB5B</th>\n",
       "      <th>G6PC2</th>\n",
       "      <th>SERPINB10</th>\n",
       "      <th>CGNL1</th>\n",
       "      <th>SLC35D2</th>\n",
       "      <th>ZNF439</th>\n",
       "      <th>ARL1</th>\n",
       "    </tr>\n",
       "  </thead>\n",
       "  <tbody>\n",
       "    <tr>\n",
       "      <th>ACH-000601</th>\n",
       "      <td>-0.117838</td>\n",
       "      <td>-0.083374</td>\n",
       "      <td>-0.75716</td>\n",
       "      <td>-0.07252</td>\n",
       "      <td>-0.012776</td>\n",
       "      <td>-0.119112</td>\n",
       "      <td>0.053607</td>\n",
       "      <td>-1.092377</td>\n",
       "      <td>-0.234541</td>\n",
       "      <td>-0.018627</td>\n",
       "      <td>...</td>\n",
       "      <td>-0.107285</td>\n",
       "      <td>-0.096821</td>\n",
       "      <td>-0.092369</td>\n",
       "      <td>0.004617</td>\n",
       "      <td>0.010656</td>\n",
       "      <td>-0.008256</td>\n",
       "      <td>0.003173</td>\n",
       "      <td>-0.062839</td>\n",
       "      <td>-0.016976</td>\n",
       "      <td>-0.154559</td>\n",
       "    </tr>\n",
       "  </tbody>\n",
       "</table>\n",
       "<p>1 rows × 16638 columns</p>\n",
       "</div>"
      ],
      "text/plain": [
       "               SHOC2   NDUFA12    SDAD1   FAM98A     SYNE2     BATF2  \\\n",
       "ACH-000601 -0.117838 -0.083374 -0.75716 -0.07252 -0.012776 -0.119112   \n",
       "\n",
       "               MYSM1    EIF2B1    FBXO21  SLC25A24    ...      PCDHGB3  \\\n",
       "ACH-000601  0.053607 -1.092377 -0.234541 -0.018627    ...    -0.107285   \n",
       "\n",
       "              YY1AP1    NUDT22     RAB5B     G6PC2  SERPINB10     CGNL1  \\\n",
       "ACH-000601 -0.096821 -0.092369  0.004617  0.010656  -0.008256  0.003173   \n",
       "\n",
       "             SLC35D2    ZNF439      ARL1  \n",
       "ACH-000601 -0.062839 -0.016976 -0.154559  \n",
       "\n",
       "[1 rows x 16638 columns]"
      ]
     },
     "execution_count": 37,
     "metadata": {},
     "output_type": "execute_result"
    }
   ],
   "source": [
    "# Normalize CERES gene scores, per cell line, according to Hart essential and non-essential genes\n",
    "\n",
    "def norm(scores, reference_essential, reference_non_essential):\n",
    "    normed = ((scores - scores[scores.index.isin(reference_non_essential)].median()) / \n",
    "              (scores[scores.index.isin(reference_non_essential)].median() -\n",
    "               scores[scores.index.isin(reference_essential)].median()))\n",
    "    return normed\n",
    "\n",
    "# Get the reference essential and non-essentials (downloaded from DepMap)\n",
    "get_gene_name = lambda x: re.search('([\\w-]+)\\s\\(\\w+\\)', x).group(1)\n",
    "reference_essential = pd.read_csv(file_ref_essentials).gene.apply(get_gene_name)\n",
    "reference_non_essential = pd.read_csv(file_ref_nonessentials).gene.apply(get_gene_name)\n",
    "\n",
    "# Normalize scores\n",
    "scores_normed = scores_filtered.apply(lambda x: norm(x, reference_essential, reference_non_essential), axis=1)\n",
    "\n",
    "# Verify normalization\n",
    "assert(np.median(scores_normed.loc[:,scores_normed.columns.isin(reference_essential)].values.flatten()) == -1)\n",
    "assert(np.round(np.median(scores_normed.loc[:,scores_normed.columns.isin(reference_non_essential)].values.flatten()), 15) == 0)\n",
    "scores_normed[:1]"
   ]
  },
  {
   "cell_type": "code",
   "execution_count": 38,
   "metadata": {
    "tags": []
   },
   "outputs": [
    {
     "name": "stdout",
     "output_type": "stream",
     "text": [
      "Genes w/ entrez ids not in HGNC map:  6  ->  ['C10orf12' 'C10orf131' 'FAM231A' 'MIA2' 'TMEM133' 'UPK3B']\n"
     ]
    },
    {
     "data": {
      "text/html": [
       "<div>\n",
       "<style scoped>\n",
       "    .dataframe tbody tr th:only-of-type {\n",
       "        vertical-align: middle;\n",
       "    }\n",
       "\n",
       "    .dataframe tbody tr th {\n",
       "        vertical-align: top;\n",
       "    }\n",
       "\n",
       "    .dataframe thead th {\n",
       "        text-align: right;\n",
       "    }\n",
       "</style>\n",
       "<table border=\"1\" class=\"dataframe\">\n",
       "  <thead>\n",
       "    <tr style=\"text-align: right;\">\n",
       "      <th></th>\n",
       "      <th>8036</th>\n",
       "      <th>55967</th>\n",
       "      <th>55153</th>\n",
       "      <th>25940</th>\n",
       "      <th>23224</th>\n",
       "      <th>116071</th>\n",
       "      <th>114803</th>\n",
       "      <th>1967</th>\n",
       "      <th>23014</th>\n",
       "      <th>29957</th>\n",
       "      <th>...</th>\n",
       "      <th>56102</th>\n",
       "      <th>55249</th>\n",
       "      <th>84304</th>\n",
       "      <th>5869</th>\n",
       "      <th>57818</th>\n",
       "      <th>5273</th>\n",
       "      <th>84952</th>\n",
       "      <th>11046</th>\n",
       "      <th>90594</th>\n",
       "      <th>400</th>\n",
       "    </tr>\n",
       "  </thead>\n",
       "  <tbody>\n",
       "    <tr>\n",
       "      <th>ACH-000601</th>\n",
       "      <td>-0.117838</td>\n",
       "      <td>-0.083374</td>\n",
       "      <td>-0.757160</td>\n",
       "      <td>-0.072520</td>\n",
       "      <td>-0.012776</td>\n",
       "      <td>-0.119112</td>\n",
       "      <td>0.053607</td>\n",
       "      <td>-1.092377</td>\n",
       "      <td>-0.234541</td>\n",
       "      <td>-0.018627</td>\n",
       "      <td>...</td>\n",
       "      <td>-0.107285</td>\n",
       "      <td>-0.096821</td>\n",
       "      <td>-0.092369</td>\n",
       "      <td>0.004617</td>\n",
       "      <td>0.010656</td>\n",
       "      <td>-0.008256</td>\n",
       "      <td>0.003173</td>\n",
       "      <td>-0.062839</td>\n",
       "      <td>-0.016976</td>\n",
       "      <td>-0.154559</td>\n",
       "    </tr>\n",
       "    <tr>\n",
       "      <th>ACH-000496</th>\n",
       "      <td>-0.301782</td>\n",
       "      <td>-0.067929</td>\n",
       "      <td>-0.530951</td>\n",
       "      <td>0.012311</td>\n",
       "      <td>0.026267</td>\n",
       "      <td>-0.278020</td>\n",
       "      <td>-0.134553</td>\n",
       "      <td>-1.029437</td>\n",
       "      <td>-0.192028</td>\n",
       "      <td>-0.320229</td>\n",
       "      <td>...</td>\n",
       "      <td>-0.033775</td>\n",
       "      <td>0.079118</td>\n",
       "      <td>-0.159384</td>\n",
       "      <td>-0.024264</td>\n",
       "      <td>-0.008371</td>\n",
       "      <td>-0.029345</td>\n",
       "      <td>-0.023362</td>\n",
       "      <td>-0.082542</td>\n",
       "      <td>0.009871</td>\n",
       "      <td>0.161822</td>\n",
       "    </tr>\n",
       "  </tbody>\n",
       "</table>\n",
       "<p>2 rows × 16632 columns</p>\n",
       "</div>"
      ],
      "text/plain": [
       "                8036     55967     55153     25940     23224    116071  \\\n",
       "ACH-000601 -0.117838 -0.083374 -0.757160 -0.072520 -0.012776 -0.119112   \n",
       "ACH-000496 -0.301782 -0.067929 -0.530951  0.012311  0.026267 -0.278020   \n",
       "\n",
       "              114803      1967     23014     29957    ...        56102  \\\n",
       "ACH-000601  0.053607 -1.092377 -0.234541 -0.018627    ...    -0.107285   \n",
       "ACH-000496 -0.134553 -1.029437 -0.192028 -0.320229    ...    -0.033775   \n",
       "\n",
       "               55249     84304      5869     57818      5273     84952  \\\n",
       "ACH-000601 -0.096821 -0.092369  0.004617  0.010656 -0.008256  0.003173   \n",
       "ACH-000496  0.079118 -0.159384 -0.024264 -0.008371 -0.029345 -0.023362   \n",
       "\n",
       "               11046     90594       400  \n",
       "ACH-000601 -0.062839 -0.016976 -0.154559  \n",
       "ACH-000496 -0.082542  0.009871  0.161822  \n",
       "\n",
       "[2 rows x 16632 columns]"
      ]
     },
     "execution_count": 38,
     "metadata": {},
     "output_type": "execute_result"
    }
   ],
   "source": [
    "# Check if all entrez ids are in the HGNC gene id map\n",
    "id_map = pd.read_csv(file_id_map, sep='\\t')[['locus_type', 'entrez_id']]\n",
    "id_map = id_map.dropna(subset=['entrez_id']).astype({'entrez_id':'int'}).astype({'entrez_id':'str'})\n",
    "entrez_ids_to_discard = guides_per_gene[~guides_per_gene.entrez_id.isin(id_map.entrez_id)].entrez_id.values\n",
    "print('Genes w/ entrez ids not in HGNC map: ', len(entrez_ids_to_discard), \n",
    "       ' -> ', guides_per_gene[~guides_per_gene.entrez_id.isin(id_map.entrez_id)].symbol.values)\n",
    "\n",
    "# Label genes with entrez id, using guide gene map\n",
    "rename_map = guides_per_gene[guides_per_gene.entrez_id.isin(id_map.entrez_id)]\n",
    "scores_renamed = scores_normed.loc[:, scores_normed.columns.isin(rename_map.symbol)]\n",
    "new_columns = rename_map.set_index('symbol').reindex(scores_renamed.columns).entrez_id.values\n",
    "assert(scores_renamed.shape[1] == len(new_columns))\n",
    "scores_renamed.columns = new_columns\n",
    "scores_renamed.columns = scores_renamed.columns.map(str)\n",
    "scores_renamed[:2]"
   ]
  },
  {
   "cell_type": "code",
   "execution_count": 60,
   "metadata": {
    "tags": []
   },
   "outputs": [
    {
     "name": "stdout",
     "output_type": "stream",
     "text": [
      "Num protein-coding genes: 16540 / 16632\n"
     ]
    },
    {
     "data": {
      "text/html": [
       "<div>\n",
       "<style scoped>\n",
       "    .dataframe tbody tr th:only-of-type {\n",
       "        vertical-align: middle;\n",
       "    }\n",
       "\n",
       "    .dataframe tbody tr th {\n",
       "        vertical-align: top;\n",
       "    }\n",
       "\n",
       "    .dataframe thead th {\n",
       "        text-align: right;\n",
       "    }\n",
       "</style>\n",
       "<table border=\"1\" class=\"dataframe\">\n",
       "  <thead>\n",
       "    <tr style=\"text-align: right;\">\n",
       "      <th></th>\n",
       "      <th>cell_line</th>\n",
       "      <th>8036</th>\n",
       "      <th>55967</th>\n",
       "      <th>55153</th>\n",
       "      <th>25940</th>\n",
       "      <th>23224</th>\n",
       "      <th>116071</th>\n",
       "      <th>114803</th>\n",
       "      <th>1967</th>\n",
       "      <th>23014</th>\n",
       "      <th>...</th>\n",
       "      <th>128344</th>\n",
       "      <th>55249</th>\n",
       "      <th>84304</th>\n",
       "      <th>5869</th>\n",
       "      <th>57818</th>\n",
       "      <th>5273</th>\n",
       "      <th>84952</th>\n",
       "      <th>11046</th>\n",
       "      <th>90594</th>\n",
       "      <th>400</th>\n",
       "    </tr>\n",
       "  </thead>\n",
       "  <tbody>\n",
       "    <tr>\n",
       "      <th>0</th>\n",
       "      <td>ACH-000601</td>\n",
       "      <td>-0.117838</td>\n",
       "      <td>-0.083374</td>\n",
       "      <td>-0.757160</td>\n",
       "      <td>-0.072520</td>\n",
       "      <td>-0.012776</td>\n",
       "      <td>-0.119112</td>\n",
       "      <td>0.053607</td>\n",
       "      <td>-1.092377</td>\n",
       "      <td>-0.234541</td>\n",
       "      <td>...</td>\n",
       "      <td>-0.183030</td>\n",
       "      <td>-0.096821</td>\n",
       "      <td>-0.092369</td>\n",
       "      <td>0.004617</td>\n",
       "      <td>0.010656</td>\n",
       "      <td>-0.008256</td>\n",
       "      <td>0.003173</td>\n",
       "      <td>-0.062839</td>\n",
       "      <td>-0.016976</td>\n",
       "      <td>-0.154559</td>\n",
       "    </tr>\n",
       "    <tr>\n",
       "      <th>1</th>\n",
       "      <td>ACH-000496</td>\n",
       "      <td>-0.301782</td>\n",
       "      <td>-0.067929</td>\n",
       "      <td>-0.530951</td>\n",
       "      <td>0.012311</td>\n",
       "      <td>0.026267</td>\n",
       "      <td>-0.278020</td>\n",
       "      <td>-0.134553</td>\n",
       "      <td>-1.029437</td>\n",
       "      <td>-0.192028</td>\n",
       "      <td>...</td>\n",
       "      <td>-0.248577</td>\n",
       "      <td>0.079118</td>\n",
       "      <td>-0.159384</td>\n",
       "      <td>-0.024264</td>\n",
       "      <td>-0.008371</td>\n",
       "      <td>-0.029345</td>\n",
       "      <td>-0.023362</td>\n",
       "      <td>-0.082542</td>\n",
       "      <td>0.009871</td>\n",
       "      <td>0.161822</td>\n",
       "    </tr>\n",
       "  </tbody>\n",
       "</table>\n",
       "<p>2 rows × 16541 columns</p>\n",
       "</div>"
      ],
      "text/plain": [
       "    cell_line      8036     55967     55153     25940     23224    116071  \\\n",
       "0  ACH-000601 -0.117838 -0.083374 -0.757160 -0.072520 -0.012776 -0.119112   \n",
       "1  ACH-000496 -0.301782 -0.067929 -0.530951  0.012311  0.026267 -0.278020   \n",
       "\n",
       "     114803      1967     23014    ...       128344     55249     84304  \\\n",
       "0  0.053607 -1.092377 -0.234541    ...    -0.183030 -0.096821 -0.092369   \n",
       "1 -0.134553 -1.029437 -0.192028    ...    -0.248577  0.079118 -0.159384   \n",
       "\n",
       "       5869     57818      5273     84952     11046     90594       400  \n",
       "0  0.004617  0.010656 -0.008256  0.003173 -0.062839 -0.016976 -0.154559  \n",
       "1 -0.024264 -0.008371 -0.029345 -0.023362 -0.082542  0.009871  0.161822  \n",
       "\n",
       "[2 rows x 16541 columns]"
      ]
     },
     "execution_count": 60,
     "metadata": {},
     "output_type": "execute_result"
    }
   ],
   "source": [
    "# Filter genes to those that are protein coding in HGNC\n",
    "protein_coding = id_map[id_map.locus_type == 'gene with protein product']\n",
    "protein_coding_scores = scores_renamed.loc[:, scores_renamed.columns.isin(protein_coding.entrez_id)]\n",
    "protein_coding_scores = protein_coding_scores.reset_index().rename(columns={'index':'cell_line'})\n",
    "print('Num protein-coding genes:', protein_coding_scores.shape[1]-1, '/', scores_renamed.shape[1])\n",
    "protein_coding_scores[:2]"
   ]
  },
  {
   "cell_type": "code",
   "execution_count": 61,
   "metadata": {},
   "outputs": [],
   "source": [
    "# Export\n",
    "protein_coding_scores.to_csv(file_gene_scores)"
   ]
  },
  {
   "cell_type": "markdown",
   "metadata": {},
   "source": [
    "### Record dropped genes (compared to DepMap gene scores file)"
   ]
  },
  {
   "cell_type": "code",
   "execution_count": 62,
   "metadata": {},
   "outputs": [
    {
     "data": {
      "text/html": [
       "<div>\n",
       "<style scoped>\n",
       "    .dataframe tbody tr th:only-of-type {\n",
       "        vertical-align: middle;\n",
       "    }\n",
       "\n",
       "    .dataframe tbody tr th {\n",
       "        vertical-align: top;\n",
       "    }\n",
       "\n",
       "    .dataframe thead th {\n",
       "        text-align: right;\n",
       "    }\n",
       "</style>\n",
       "<table border=\"1\" class=\"dataframe\">\n",
       "  <thead>\n",
       "    <tr style=\"text-align: right;\">\n",
       "      <th></th>\n",
       "      <th>1</th>\n",
       "      <th>29974</th>\n",
       "      <th>2</th>\n",
       "      <th>144568</th>\n",
       "      <th>127550</th>\n",
       "      <th>53947</th>\n",
       "      <th>51146</th>\n",
       "      <th>8086</th>\n",
       "      <th>65985</th>\n",
       "      <th>13</th>\n",
       "      <th>...</th>\n",
       "      <th>221302</th>\n",
       "      <th>9183</th>\n",
       "      <th>55055</th>\n",
       "      <th>11130</th>\n",
       "      <th>79364</th>\n",
       "      <th>440590</th>\n",
       "      <th>79699</th>\n",
       "      <th>7791</th>\n",
       "      <th>23140</th>\n",
       "      <th>26009</th>\n",
       "    </tr>\n",
       "    <tr>\n",
       "      <th>Broad_ID</th>\n",
       "      <th></th>\n",
       "      <th></th>\n",
       "      <th></th>\n",
       "      <th></th>\n",
       "      <th></th>\n",
       "      <th></th>\n",
       "      <th></th>\n",
       "      <th></th>\n",
       "      <th></th>\n",
       "      <th></th>\n",
       "      <th></th>\n",
       "      <th></th>\n",
       "      <th></th>\n",
       "      <th></th>\n",
       "      <th></th>\n",
       "      <th></th>\n",
       "      <th></th>\n",
       "      <th></th>\n",
       "      <th></th>\n",
       "      <th></th>\n",
       "      <th></th>\n",
       "    </tr>\n",
       "  </thead>\n",
       "  <tbody>\n",
       "    <tr>\n",
       "      <th>ACH-000004</th>\n",
       "      <td>0.115554</td>\n",
       "      <td>0.039815</td>\n",
       "      <td>-0.164159</td>\n",
       "      <td>0.009906</td>\n",
       "      <td>-0.010568</td>\n",
       "      <td>-0.154759</td>\n",
       "      <td>0.236325</td>\n",
       "      <td>-0.335781</td>\n",
       "      <td>0.188261</td>\n",
       "      <td>0.120806</td>\n",
       "      <td>...</td>\n",
       "      <td>-0.164844</td>\n",
       "      <td>-0.148051</td>\n",
       "      <td>-0.082069</td>\n",
       "      <td>-0.363942</td>\n",
       "      <td>0.114826</td>\n",
       "      <td>0.16051</td>\n",
       "      <td>-0.361914</td>\n",
       "      <td>0.184332</td>\n",
       "      <td>0.109661</td>\n",
       "      <td>-0.163671</td>\n",
       "    </tr>\n",
       "  </tbody>\n",
       "</table>\n",
       "<p>1 rows × 17628 columns</p>\n",
       "</div>"
      ],
      "text/plain": [
       "                   1     29974         2    144568    127550     53947  \\\n",
       "Broad_ID                                                                 \n",
       "ACH-000004  0.115554  0.039815 -0.164159  0.009906 -0.010568 -0.154759   \n",
       "\n",
       "               51146      8086     65985        13    ...       221302  \\\n",
       "Broad_ID                                              ...                \n",
       "ACH-000004  0.236325 -0.335781  0.188261  0.120806    ...    -0.164844   \n",
       "\n",
       "                9183     55055     11130     79364   440590     79699  \\\n",
       "Broad_ID                                                                \n",
       "ACH-000004 -0.148051 -0.082069 -0.363942  0.114826  0.16051 -0.361914   \n",
       "\n",
       "                7791     23140     26009  \n",
       "Broad_ID                                  \n",
       "ACH-000004  0.184332  0.109661 -0.163671  \n",
       "\n",
       "[1 rows x 17628 columns]"
      ]
     },
     "execution_count": 62,
     "metadata": {},
     "output_type": "execute_result"
    }
   ],
   "source": [
    "# Get the DepMap provided scores (gene_effect.csv) and filter them to my scores\n",
    "# Original DEPMAP n gene = 17,634 - 6 genes not in HGNC = 17,628 (don't count these 6 genes in analysis)\n",
    "depmap_scores_all = pd.read_csv(file_depmap_scores, index_col=0)\n",
    "get_gene_id = lambda x: re.search('[\\w-]+\\s\\((\\w+)\\)', x).group(1)\n",
    "depmap_scores_all = depmap_scores_all.rename(columns=get_gene_id)\n",
    "depmap_scores = depmap_scores_all.loc[:,~depmap_scores_all.columns.isin([str(i) for i in entrez_ids_to_discard])]\n",
    "depmap_scores[:1]"
   ]
  },
  {
   "cell_type": "code",
   "execution_count": 63,
   "metadata": {
    "tags": []
   },
   "outputs": [
    {
     "name": "stdout",
     "output_type": "stream",
     "text": [
      "Genes dropped as a result of guide filtering: 996\n",
      "N genes not targeted by any remaining guides: 365\n"
     ]
    },
    {
     "data": {
      "text/html": [
       "<div>\n",
       "<style scoped>\n",
       "    .dataframe tbody tr th:only-of-type {\n",
       "        vertical-align: middle;\n",
       "    }\n",
       "\n",
       "    .dataframe tbody tr th {\n",
       "        vertical-align: top;\n",
       "    }\n",
       "\n",
       "    .dataframe thead th {\n",
       "        text-align: right;\n",
       "    }\n",
       "</style>\n",
       "<table border=\"1\" class=\"dataframe\">\n",
       "  <thead>\n",
       "    <tr style=\"text-align: right;\">\n",
       "      <th></th>\n",
       "      <th>entrez_id</th>\n",
       "      <th>dropped</th>\n",
       "    </tr>\n",
       "  </thead>\n",
       "  <tbody>\n",
       "    <tr>\n",
       "      <th>0</th>\n",
       "      <td>1</td>\n",
       "      <td>False</td>\n",
       "    </tr>\n",
       "  </tbody>\n",
       "</table>\n",
       "</div>"
      ],
      "text/plain": [
       "   entrez_id  dropped\n",
       "0          1    False"
      ]
     },
     "execution_count": 63,
     "metadata": {},
     "output_type": "execute_result"
    }
   ],
   "source": [
    "# Genes that were dropped as a result of guide filtering (not due to non protein-coding)\n",
    "depmap_genes = pd.DataFrame(depmap_scores.columns, columns=['entrez_id']).astype({'entrez_id':'int'})\n",
    "depmap_genes = depmap_genes.assign(dropped=~depmap_genes.entrez_id.isin(scores_renamed.columns))\n",
    "print('Genes dropped as a result of guide filtering:', depmap_genes[depmap_genes.dropped].shape[0])\n",
    "print('N genes not targeted by any remaining guides:', \n",
    "      depmap_genes[~depmap_genes.entrez_id.isin(guides_per_gene.entrez_id)].shape[0])\n",
    "depmap_genes.to_csv(file_dropped_genes, index=0)\n",
    "depmap_genes[:1]"
   ]
  },
  {
   "cell_type": "markdown",
   "metadata": {},
   "source": [
    "### Precision-recall analysis with the DepMap reference essentials"
   ]
  },
  {
   "cell_type": "code",
   "execution_count": 53,
   "metadata": {
    "tags": []
   },
   "outputs": [
    {
     "name": "stdout",
     "output_type": "stream",
     "text": [
      "(558, 16632) == (558, 16632)\n"
     ]
    }
   ],
   "source": [
    "# Reduce scores down to overlap the cell lines and genes in my scores df\n",
    "depmap_overlap = depmap_scores.loc[depmap_scores.index.isin(scores_renamed.index), \n",
    "                                   depmap_scores.columns.isin(scores_renamed.columns)]\n",
    "my_scores = scores_renamed.loc[scores_renamed.index.isin(depmap_overlap.index),\n",
    "                               scores_renamed.columns.isin(depmap_overlap.columns)]\n",
    "print(my_scores.shape, '==', depmap_overlap.shape)"
   ]
  },
  {
   "cell_type": "code",
   "execution_count": 54,
   "metadata": {
    "tags": []
   },
   "outputs": [
    {
     "name": "stdout",
     "output_type": "stream",
     "text": [
      "Essential reference: 212\n",
      "Non-essential reference: 781\n"
     ]
    }
   ],
   "source": [
    "# Get Hart essentials - the benchmark\n",
    "get_gene_id = lambda x: re.search('[\\w-]+\\s\\((\\w+)\\)', x).group(1)\n",
    "reference_essential = pd.read_csv(file_ref_essentials).gene.apply(get_gene_id)\n",
    "reference_non_essential = pd.read_csv(file_ref_nonessentials).gene.apply(get_gene_id)\n",
    "print('Essential reference:', reference_essential.shape[0])\n",
    "print('Non-essential reference:',reference_non_essential.shape[0])"
   ]
  },
  {
   "cell_type": "code",
   "execution_count": 55,
   "metadata": {},
   "outputs": [],
   "source": [
    "def compute_AUCs(scores, essentials, nonessentials, fdr=0.05):\n",
    "    AUCs = []\n",
    "    recall_at_fdr = []\n",
    "    # Reduce set down to essential and non-essential genes\n",
    "    scores = scores.loc[:, (scores.columns.isin(essentials)) | (scores.columns.isin(nonessentials))]\n",
    "    for i in range(0, scores.shape[0]):\n",
    "        cell_line_scores = scores.iloc[i:i+1, :] #scores for a given cell line\n",
    "        true_values = cell_line_scores.apply(lambda x: 1 if x.name in essentials else 0).values\n",
    "        predictions = cell_line_scores.values.flatten()*-1\n",
    "        precision, recall, thresholds = precision_recall_curve(true_values, predictions)\n",
    "        PR = pd.DataFrame({'precision': precision, 'recall': recall})\n",
    "        recall_at_fdr.append(PR[PR.precision >= (1-fdr)].recall.max())\n",
    "        AUC = auc(recall, precision)\n",
    "        AUCs.append(AUC)\n",
    "    return AUCs, recall_at_fdr"
   ]
  },
  {
   "cell_type": "code",
   "execution_count": 56,
   "metadata": {
    "tags": []
   },
   "outputs": [
    {
     "name": "stdout",
     "output_type": "stream",
     "text": [
      "AUC for DepMap gene scores: mean: 0.9595\n"
     ]
    }
   ],
   "source": [
    "depmap_AUC, depmap_recall = compute_AUCs(depmap_overlap, reference_essential.values, reference_non_essential.values)\n",
    "print('AUC for DepMap gene scores: mean:', np.round(np.mean(depmap_AUC), 4))"
   ]
  },
  {
   "cell_type": "code",
   "execution_count": 57,
   "metadata": {
    "tags": []
   },
   "outputs": [
    {
     "name": "stdout",
     "output_type": "stream",
     "text": [
      "AUC for my reprocessed gene scores: mean: 0.9616\n"
     ]
    }
   ],
   "source": [
    "my_AUC, my_recall = compute_AUCs(my_scores, reference_essential.values, reference_non_essential.values)\n",
    "print('AUC for my reprocessed gene scores: mean:', np.round(np.mean(my_AUC), 4))"
   ]
  }
 ],
 "metadata": {
  "kernelspec": {
   "display_name": "Python 3.6.5 64-bit ('paralogEssential': conda)",
   "language": "python",
   "name": "python36564bitparalogessentialconda75906716dc9144fe8daa71c4b9fe77f3"
  },
  "language_info": {
   "codemirror_mode": {
    "name": "ipython",
    "version": 3
   },
   "file_extension": ".py",
   "mimetype": "text/x-python",
   "name": "python",
   "nbconvert_exporter": "python",
   "pygments_lexer": "ipython3",
   "version": "3.6.5"
  }
 },
 "nbformat": 4,
 "nbformat_minor": 2
}
