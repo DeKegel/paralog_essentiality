{
 "cells": [
  {
   "cell_type": "markdown",
   "metadata": {},
   "source": [
    "## 3rd party data/packages to run CERES\n",
    "\n",
    "CERES: https://github.com/cancerdatasci/ceres\n",
    "\n",
    "To run the two R scripts, follow the instructions provided for the CERES package, but use Bowtie indices for hg38.\n",
    "\n",
    "NOTE: R scripts can only run on Linux/Mac OS due to dependency on bowtie + samtools command line tools"
   ]
  },
  {
   "cell_type": "markdown",
   "metadata": {},
   "source": [
    "### DEPMAP (19Q1)\n",
    "Files from DepMap Public 19Q1: https://depmap.org/portal/download/\n",
    "\n",
    "*depmap\\19Q1\\logfold_change.csv*\n",
    "- File: https://ndownloader.figshare.com/files/14225294\n",
    "\n",
    "*depmap\\19Q1\\replicate_map.csv*\n",
    "- File: https://ndownloader.figshare.com/files/14221412\n",
    "\n",
    "*depmap\\19Q1\\copy_number.csv*\n",
    "- File: https://ndownloader.figshare.com/files/14221364\n",
    "\n",
    "*depmap\\19Q1\\guide_gene_map.csv*\n",
    "- File: https://ndownloader.figshare.com/files/14221394\n",
    "\n",
    "*depmap\\19Q1\\essential_genes.txt*\n",
    "- File: https://ndownloader.figshare.com/files/14221367\n",
    "\n",
    "*depmap\\19Q1\\nonessential_genes.txt*\n",
    "- File: https://ndownloader.figshare.com/files/14221397\n",
    "\n",
    "*depmap\\19Q1\\gene_effect.csv*\n",
    "- File: https://ndownloader.figshare.com/files/14221388"
   ]
  },
  {
   "cell_type": "markdown",
   "metadata": {},
   "source": [
    "### Bowtie\n",
    "\n",
    "*bowtie_indexes\\hg19*\n",
    "- .ebwt files\n",
    "- File: https://genome-idx.s3.amazonaws.com/bt/hg19.zip\n",
    "- Downloaded from http://bowtie-bio.sourceforge.net/index.shtml"
   ]
  },
  {
   "cell_type": "markdown",
   "metadata": {},
   "source": [
    "### CCDS\n",
    "\n",
    "https://www.ncbi.nlm.nih.gov/projects/CCDS/CcdsBrowse.cgi?REQUEST=SHOW_STATISTICS\n",
    "\n",
    "*ccds_gene_annotations/CCDS.20131129.txt*\n",
    "- CCDS gene annotations for hg19 - GRCh37.p13 - CCDS.20131129.txt - CCDS release 15"
   ]
  },
  {
   "cell_type": "markdown",
   "metadata": {},
   "source": [
    "### HGNC\n",
    "\n",
    "*HGNC\\non_alt_loci_set_01_02_19.txt*\n",
    "- Downloaded from https://www.genenames.org/download/statistics-and-files/ on 01/02/19 (not versioned)"
   ]
  }
 ],
 "metadata": {
  "kernelspec": {
   "display_name": "Python 3.6.5 64-bit ('paralogEssential': conda)",
   "language": "python",
   "name": "python36564bitparalogessentialconda75906716dc9144fe8daa71c4b9fe77f3"
  },
  "language_info": {
   "codemirror_mode": {
    "name": "ipython",
    "version": 3
   },
   "file_extension": ".py",
   "mimetype": "text/x-python",
   "name": "python",
   "nbconvert_exporter": "python",
   "pygments_lexer": "ipython3",
   "version": "3.6.5"
  }
 },
 "nbformat": 4,
 "nbformat_minor": 4
}
