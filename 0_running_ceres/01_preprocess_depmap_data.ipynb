{
 "cells": [
  {
   "cell_type": "markdown",
   "metadata": {},
   "source": [
    "## Pre-process DepMap files used in analysis\n",
    "\n",
    "Note: CERES requires the replicate map and copy number files to be .tsv instead of .csv\n",
    "\n",
    "Run this script before: `align_guides.R`\n",
    "\n",
    "Figshare for DepMap 19Q1: https://figshare.com/articles/DepMap_Achilles_19Q1_Public/7655150"
   ]
  },
  {
   "cell_type": "code",
   "execution_count": 2,
   "metadata": {},
   "outputs": [],
   "source": [
    "import os\n",
    "import pandas as pd\n",
    "\n",
    "get_data_path = lambda folders, fname: os.path.normpath(os.environ['3RD_PARTY_DIR']+'/'+'/'.join(folders) +'/'+ fname)\n",
    "get_local_data_path = lambda folders, fname: os.path.normpath('../data/' +'/'.join(folders) +'/'+ fname)\n",
    "\n",
    "# Input\n",
    "file_logfold_changes = get_data_path(['depmap', '19Q1'], 'logfold_change.csv')\n",
    "file_replicate_map = get_data_path(['depmap', '19Q1'], 'replicate_map.csv')\n",
    "file_copy_number = get_data_path(['depmap', '19Q1'], 'copy_number.csv')\n",
    "\n",
    "# Output\n",
    "file_sgrna_sequences = get_local_data_path(['processed','depmap19Q1'], 'sgrna_sequences.csv')\n",
    "file_replicate_map_out = get_data_path(['depmap', '19Q1'], 'replicate_map.tsv')\n",
    "file_copy_number_out = get_data_path(['depmap', '19Q1'], 'copy_number.tsv')"
   ]
  },
  {
   "cell_type": "code",
   "execution_count": 3,
   "metadata": {
    "tags": []
   },
   "outputs": [
    {
     "data": {
      "text/html": [
       "<div>\n",
       "<style scoped>\n",
       "    .dataframe tbody tr th:only-of-type {\n",
       "        vertical-align: middle;\n",
       "    }\n",
       "\n",
       "    .dataframe tbody tr th {\n",
       "        vertical-align: top;\n",
       "    }\n",
       "\n",
       "    .dataframe thead th {\n",
       "        text-align: right;\n",
       "    }\n",
       "</style>\n",
       "<table border=\"1\" class=\"dataframe\">\n",
       "  <thead>\n",
       "    <tr style=\"text-align: right;\">\n",
       "      <th></th>\n",
       "      <th>Unnamed: 0</th>\n",
       "    </tr>\n",
       "  </thead>\n",
       "  <tbody>\n",
       "    <tr>\n",
       "      <th>0</th>\n",
       "      <td>AAAAAAATCCAGCAATGCAG</td>\n",
       "    </tr>\n",
       "    <tr>\n",
       "      <th>1</th>\n",
       "      <td>AAAAAACCCGTAGATAGCCT</td>\n",
       "    </tr>\n",
       "  </tbody>\n",
       "</table>\n",
       "</div>"
      ],
      "text/plain": [
       "             Unnamed: 0\n",
       "0  AAAAAAATCCAGCAATGCAG\n",
       "1  AAAAAACCCGTAGATAGCCT"
      ]
     },
     "metadata": {},
     "output_type": "display_data"
    }
   ],
   "source": [
    "# Extract sgrna sequences from logfold_changes file, for R align_guides script\n",
    "sequences_raw = pd.read_csv(file_logfold_changes, usecols=[0])\n",
    "display(sequences_raw[:2])"
   ]
  },
  {
   "cell_type": "code",
   "execution_count": 5,
   "metadata": {},
   "outputs": [
    {
     "name": "stdout",
     "output_type": "stream",
     "text": [
      "N sgrnas: 73839\n"
     ]
    },
    {
     "data": {
      "text/html": [
       "<div>\n",
       "<style scoped>\n",
       "    .dataframe tbody tr th:only-of-type {\n",
       "        vertical-align: middle;\n",
       "    }\n",
       "\n",
       "    .dataframe tbody tr th {\n",
       "        vertical-align: top;\n",
       "    }\n",
       "\n",
       "    .dataframe thead th {\n",
       "        text-align: right;\n",
       "    }\n",
       "</style>\n",
       "<table border=\"1\" class=\"dataframe\">\n",
       "  <thead>\n",
       "    <tr style=\"text-align: right;\">\n",
       "      <th></th>\n",
       "      <th>sgrna</th>\n",
       "    </tr>\n",
       "  </thead>\n",
       "  <tbody>\n",
       "    <tr>\n",
       "      <th>0</th>\n",
       "      <td>AAAAAAATCCAGCAATGCAG</td>\n",
       "    </tr>\n",
       "  </tbody>\n",
       "</table>\n",
       "</div>"
      ],
      "text/plain": [
       "                  sgrna\n",
       "0  AAAAAAATCCAGCAATGCAG"
      ]
     },
     "metadata": {},
     "output_type": "display_data"
    }
   ],
   "source": [
    "sequences = sequences_raw.rename(columns={'Unnamed: 0':'sgrna'})\n",
    "print('N sgrnas:', sequences.shape[0])\n",
    "display(sequences[:1])\n",
    "sequences.to_csv(file_sgrna_sequences, index=0)"
   ]
  },
  {
   "cell_type": "code",
   "execution_count": 10,
   "metadata": {},
   "outputs": [
    {
     "data": {
      "text/html": [
       "<div>\n",
       "<style scoped>\n",
       "    .dataframe tbody tr th:only-of-type {\n",
       "        vertical-align: middle;\n",
       "    }\n",
       "\n",
       "    .dataframe tbody tr th {\n",
       "        vertical-align: top;\n",
       "    }\n",
       "\n",
       "    .dataframe thead th {\n",
       "        text-align: right;\n",
       "    }\n",
       "</style>\n",
       "<table border=\"1\" class=\"dataframe\">\n",
       "  <thead>\n",
       "    <tr style=\"text-align: right;\">\n",
       "      <th></th>\n",
       "      <th>Replicate</th>\n",
       "      <th>Broad_ID</th>\n",
       "      <th>pDNA_batch</th>\n",
       "    </tr>\n",
       "  </thead>\n",
       "  <tbody>\n",
       "    <tr>\n",
       "      <th>0</th>\n",
       "      <td>MIA Paca-2-311Cas9 Rep A p6_batch0</td>\n",
       "      <td>ACH-000601</td>\n",
       "      <td>0</td>\n",
       "    </tr>\n",
       "    <tr>\n",
       "      <th>1</th>\n",
       "      <td>MIA Paca-2-311Cas9 Rep B p6_batch0</td>\n",
       "      <td>ACH-000601</td>\n",
       "      <td>0</td>\n",
       "    </tr>\n",
       "  </tbody>\n",
       "</table>\n",
       "</div>"
      ],
      "text/plain": [
       "                            Replicate    Broad_ID  pDNA_batch\n",
       "0  MIA Paca-2-311Cas9 Rep A p6_batch0  ACH-000601           0\n",
       "1  MIA Paca-2-311Cas9 Rep B p6_batch0  ACH-000601           0"
      ]
     },
     "metadata": {},
     "output_type": "display_data"
    }
   ],
   "source": [
    "# Column names should be strictly: `Replicate`, `CellLine`, pDNA_batch\n",
    "rep_map = pd.read_csv(file_replicate_map)\n",
    "rep_map = rep_map.rename(columns={'replicate_ID':'Replicate', 'DepMap_ID':'CellLine'})\n",
    "rep_map.to_csv(file_replicate_map_out, sep='\\t', index=0)\n",
    "display(rep_map[:2])"
   ]
  },
  {
   "cell_type": "code",
   "execution_count": 11,
   "metadata": {},
   "outputs": [
    {
     "data": {
      "text/html": [
       "<div>\n",
       "<style scoped>\n",
       "    .dataframe tbody tr th:only-of-type {\n",
       "        vertical-align: middle;\n",
       "    }\n",
       "\n",
       "    .dataframe tbody tr th {\n",
       "        vertical-align: top;\n",
       "    }\n",
       "\n",
       "    .dataframe thead th {\n",
       "        text-align: right;\n",
       "    }\n",
       "</style>\n",
       "<table border=\"1\" class=\"dataframe\">\n",
       "  <thead>\n",
       "    <tr style=\"text-align: right;\">\n",
       "      <th></th>\n",
       "      <th>Broad_ID</th>\n",
       "      <th>Chromosome</th>\n",
       "      <th>Start</th>\n",
       "      <th>End</th>\n",
       "      <th>Num_Probes</th>\n",
       "      <th>Segment_Mean</th>\n",
       "    </tr>\n",
       "  </thead>\n",
       "  <tbody>\n",
       "    <tr>\n",
       "      <th>0</th>\n",
       "      <td>ACH-000004</td>\n",
       "      <td>1</td>\n",
       "      <td>12412</td>\n",
       "      <td>356492</td>\n",
       "      <td>28</td>\n",
       "      <td>0.743498</td>\n",
       "    </tr>\n",
       "    <tr>\n",
       "      <th>1</th>\n",
       "      <td>ACH-000004</td>\n",
       "      <td>1</td>\n",
       "      <td>356493</td>\n",
       "      <td>3222548</td>\n",
       "      <td>736</td>\n",
       "      <td>1.461753</td>\n",
       "    </tr>\n",
       "  </tbody>\n",
       "</table>\n",
       "</div>"
      ],
      "text/plain": [
       "     Broad_ID Chromosome   Start      End  Num_Probes  Segment_Mean\n",
       "0  ACH-000004          1   12412   356492          28      0.743498\n",
       "1  ACH-000004          1  356493  3222548         736      1.461753"
      ]
     },
     "metadata": {},
     "output_type": "display_data"
    }
   ],
   "source": [
    "copynum = pd.read_csv(file_copy_number)\n",
    "copynum = copynum.rename(columns={'DepMap_ID':'CellLine'})\n",
    "copynum.to_csv(file_copy_number_out, sep='\\t', index=0)\n",
    "display(copynum[:2])"
   ]
  }
 ],
 "metadata": {
  "kernelspec": {
   "display_name": "Python 3.6.5 64-bit ('paralogEssential': conda)",
   "language": "python",
   "name": "python36564bitparalogessentialconda75906716dc9144fe8daa71c4b9fe77f3"
  },
  "language_info": {
   "codemirror_mode": {
    "name": "ipython",
    "version": 3
   },
   "file_extension": ".py",
   "mimetype": "text/x-python",
   "name": "python",
   "nbconvert_exporter": "python",
   "pygments_lexer": "ipython3",
   "version": "3.6.5"
  }
 },
 "nbformat": 4,
 "nbformat_minor": 2
}
